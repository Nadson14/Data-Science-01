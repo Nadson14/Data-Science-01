{
  "nbformato": 4,
  "nbformat_minor": 0,
  "metadados": {
    "colab": {
      "origem": []
    },
    "kernelspec": {
      "nome": "python3",
      "display_name": "Python 3"
    },
    "idioma_info": {
      "nome": "python"
    }
  },
  "células": [
    {
      "cell_type": "remarcação",
      "fonte": [
        "Verificação da versão usada do tensorflow."
      ],
      "metadados": {
        "id": "iK3ReYEQup2n"
      }
    },
    {
      "cell_type": "código",
      "contagem_execução": 62,
      "metadados": {
        "colab": {
          "base_uri": "https://localhost:8080/"
        },
        "id": "jd9TrP1UtXdy",
        "outputId": "11e85533-2cc8-470e-9eae-a8bb6b68c2bf"
      },
      "saídas": [
        {
          "output_type": "fluxo",
          "nome": "stdout",
          "texto": [
            "2.12.0\n",
            "Você tem a versão correta do tensorflow, ignore o erro vermelho acima.\n"
          ]
        }
      ],
      "fonte": [
        "tente:\n",
        " importar tensorflow como tf;\n",
        " print(tf.__version__)\n",
        " afirmar (tf.__version__ == \"2.12.0\")\n",
        "exceto:\n",
        " print(\"Reinicie o kernel, o notebook não funcionará com esta versão.\")\n",
        "outro:\n",
        " print(\"Você tem a versão correta do tensorflow, ignore o erro vermelho acima.\")"
      ]
    },
    {
      "cell_type": "remarcação",
      "fonte": [
        "**Problema.**\n",
        "esperamos prever o tempo de permanência de um paciente no hospital dentro de 10 dias do tempo correto."
      ],
      "metadados": {
        "id": "Bat17GrtwZjl"
      }
    },
    {
      "cell_type": "remarcação",
      "fonte": [
        "Importando pacotes e dados."
      ],
      "metadados": {
        "id": "hX9l73EGxFTh"
      }
    },
    {
      "cell_type": "código",
      "fonte": [
        "importar pandas como pd \n",
        "importar numpy como np \n",
        "importar seaborn como sn\n",
        "from sklearn.model_selection import train_test_split\n",
        "from sklearn.preprocessing import StandardScaler \n",
        "de sklearn.ensemble import RandomForestClassifier \n",
        "de sklearn.linear_model import LogisticRegression \n",
        "de sklearn.metrics importa exatidão_pontuação \n"
      ],
      "metadados": {
        "id": "_wXYTorjxMCA"
      },
      "contagem_execução": 63,
      "saídas": []
    },
    {
      "cell_type": "remarcação",
      "fonte": [
        "Teste (não precisa rodar)."
      ],
      "metadados": {
        "id": "3kogQUspzWWQ"
      }
    },
    {
      "cell_type": "código",
      "fonte": [
        "#np.random.seed(0); np.random.rand(4)\n"
      ],
      "metadados": {
        "colab": {
          "base_uri": "https://localhost:8080/"
        },
        "id": "8ibnwQOayQdY",
        "outputId": "54eb3cb2-68fa-42f0-9f14-ea102a0852d8"
      },
      "contagem_execução": nulo,
      "saídas": [
        {
          "output_type": "execute_result",
          "dados": {
            "texto/simples": [
              "array([0.5488135 , 0.71518937, 0.60276338, 0.54488318])"
            ]
          },
          "metadados": {},
          "contagem_execução": 35
        }
      ]
    },
    {
      "cell_type": "remarcação",
      "fonte": [
        "Carregando os dados."
      ],
      "metadados": {
        "id": "dIzf5WfTzlt9"
      }
    },
    {
      "cell_type": "código",
      "fonte": [
        "data = pd.read_csv('/content/train_data.csv')"
      ],
      "metadados": {
        "id": "APB60HFQzcsk"
      },
      "contagem_execução": 64,
      "saídas": []
    },
    {
      "cell_type": "remarcação",
      "fonte": [
        "Examinando os campos de dados e o tamanho do conjunto de dados."
      ],
      "metadados": {
        "id": "pq4eaxcnzxQb"
      }
    },
    {
      "cell_type": "código",
      "fonte": [
        "print(data.columns)\n",
        "print(dados.forma)"
      ],
      "metadados": {
        "colab": {
          "base_uri": "https://localhost:8080/"
        },
        "id": "wy6QYbQUz-JS",
        "outputId": "ad86ef29-82eb-4037-c00d-9965c3658fa9"
      },
      "contagem_execução": 65,
      "saídas": [
        {
          "output_type": "fluxo",
          "nome": "stdout",
          "texto": [
            "Index(['case_id', 'Hospital_code', 'Hospital_type_code', 'City_Code_Hospital',\n",
            " 'Hospital_region_code', 'Quartos extras disponíveis no hospital',\n",
            " 'Departamento', 'Ward_Type', 'Ward_Facility_Code', 'Bed Grade',\n",
            " 'pacienteid', 'City_Code_Patient', 'Tipo de Admissão',\n",
            " 'Gravidade da Doença', 'Visitantes com Paciente', 'Idade',\n",
            " 'Admission_Deposit', 'Stay'],\n",
            " dtype='objeto')\n",
            "(318438, 18)\n"
          ]
        }
      ]
    },
    {
      "cell_type": "remarcação",
      "fonte": [
        "Executando a divisão do padrão de dados."
      ],
      "metadados": {
        "id": "o18ITk0n0S2P"
      }
    },
    {
      "cell_type": "código",
      "fonte": [
        "# from sklearn.model_selection import train_test_split\n",
        "\n",
        "\n",
        "X = data.drop(columns = ['Stay']).copy()\n",
        "y = dados['Permanecer']\n",
        "X.shape, y.shape\n"
      ],
      "metadados": {
        "colab": {
          "base_uri": "https://localhost:8080/"
        },
        "id": "VXu87wTK0WLX",
        "outputId": "e3e583df-eb4e-4f97-a8c2-3d15a95ff775"
      },
      "contagem_execução": 66,
      "saídas": [
        {
          "output_type": "execute_result",
          "dados": {
            "texto/simples": [
              "((318438, 17), (318438,))"
            ]
          },
          "metadados": {},
          "contagem_execução": 66
        }
      ]
    },
    {
      "cell_type": "código",
      "fonte": [
        "#train_size = 0,6\n",
        "#test_size = 0,2\n",
        "#validation_size = 0,2\n",
        "X_train, X_temp, Y_train, Y_temp = train_test_split(X,y, test_size=0.4, random_state=0)\n",
        "print(X_train.shape, Y_train.shape)\n",
        "\n",
        "#test_size = 0,5\n",
        "X_val, X_test, Y_val, Y_test = train_test_split(X_temp,Y_temp, test_size=0.5)\n",
        "print(X_test.shape, Y_test.shape)\n",
        "print(X_val.forma, Y_val.forma)"
      ],
      "metadados": {
        "colab": {
          "base_uri": "https://localhost:8080/"
        },
        "id": "SMr7qj_N4xkE",
        "outputId": "27cd66e9-5056-407c-fb5b-a94be22f6faa"
      },
      "contagem_execução": 67,
      "saídas": [
        {
          "output_type": "fluxo",
          "nome": "stdout",
          "texto": [
            "(191062, 17) (191062,)\n",
            "(63688, 17) (63688,)\n",
            "(63688, 17) (63688,)\n"
          ]
        }
      ]
    },
    {
      "cell_type": "remarcação",
      "fonte": [
        "**Exploração de dados.**\n",
        "Como são os valores de cada recurso?"
      ],
      "metadados": {
        "id": "3jNJ4JoM6YRi"
      }
    },
    {
      "cell_type": "código",
      "fonte": [
        "data.head()"
      ],
      "metadados": {
        "colab": {
          "base_uri": "https://localhost:8080/",
          "altura": 409
        },
        "id": "lWIre3jt6nr_",
        "outputId": "1c13d0d3-c87c-4583-d2d9-795712c93db8"
      },
      "contagem_execução": 68,
      "saídas": [
        {
          "output_type": "execute_result",
          "dados": {
            "texto/simples": [
              " case_id Hospital_code Hospital_type_code City_Code_Hospital \\\n",
              "0 1 8 c 3 \n",
              "1 2 2 c 5 \n",
              "2 3 10 e 1 \n",
              "3 4 26 b 2 \n",
              "4 5 26 b 2 \n",
              "\n",
              " Hospital_region_code Quartos Extra Disponíveis no Departamento Hospitalar \\\n",
              "0 Z 3 radioterapia \n",
              "1 Z 2 radioterapia \n",
              "2 X 2 anestesia \n",
              "3 Y 2 radioterapia \n",
              "4 Y 2 radioterapia \n",
              "\n",
              " Ward_Type Ward_Facility_Code Bed Grade ID do paciente City_Code_Patient \\\n",
              "0 RF 2.0 31397 7.0 \n",
              "1 SF 2.0 31397 7.0 \n",
              "2 SE 2.0 31397 7.0 \n",
              "3 RD 2.0 31397 7.0 \n",
              "4 SD 2.0 31397 7.0 \n",
              "\n",
              " Tipo de Admissão Gravidade da Doença Visitantes com Idade do Paciente \\\n",
              "0 Emergência Extrema 2 51-60 \n",
              "1 Trauma Extremo 2 51-60 \n",
              "2 Trauma Extremo 2 51-60 \n",
              "3 Trauma Extremo 2 51-60 \n",
              "4 Trauma Extremo 2 51-60 \n",
              "\n",
              " Admissão_Depósito Estadia \n",
              "0 4911.0 0-10 \n",
              "1 5954.0 41-50 \n",
              "2 4745.0 31-40 \n",
              "3 7272.0 41-50 \n",
              "4 5558.0 41-50"
            ],
            "texto/html": [
              "\n",
              " <div id=\"df-d32b018c-f97d-4db9-83ee-da6f79247c3f\">\n",
              " <div class=\"colab-df-container\">\n",
              " <div>\n",
              "<escopo do estilo>\n",
              " .dataframe tbody tr th:somente do tipo {\n",
              "alinhamento vertical: meio;\n",
              " }\n",
              "\n",
              " .dataframe tbody tr th {\n",
              "alinhamento vertical: superior;\n",
              " }\n",
              "\n",
              " .dataframe thead th {\n",
              " alinhamento de texto: direita;\n",
              " }\n",
              "</estilo>\n",
              "<table border=\"1\" class=\"dataframe\">\n",
              " <thead>\n",
              " <tr style=\"alinhamento de texto: à direita;\">\n",
              " <th></th>\n",
              " <th>case_id</th>\n",
              " <th>Hospital_code</th>\n",
              " <th>Hospital_type_code</th>\n",
              " <th>City_Code_Hospital</th>\n",
              " <th>Hospital_region_code</th>\n",
              " <th>Quartos extras disponíveis no hospital</th>\n",
              " <th>Departamento</th>\n",
              " <th>Ward_Type</th>\n",
              " <th>Ward_Facility_Code</th>\n",
              " <th>Grau de cama</th>\n",
              " <th>ID do paciente</th>\n",
              " <th>City_Code_Patient</th>\n",
              " <th>Tipo de admissão</th>\n",
              " <th>Gravidade da doença</th>\n",
              " <th>Visitantes com paciente</th>\n",
              " <th>Idade</th>\n",
              " <th>Admission_Deposit</th>\n",
              " <th>Ficar</th>\n",
              " </tr>\n",
              " </thead>\n",
              " <corpo>\n",
              " <tr>\n",
              " <th>0</th>\n",
              " <td>1</td>\n",
              " <td>8</td>\n",
              " <td>c</td>\n",
              " <td>3</td>\n",
              " <td>Z</td>\n",
              " <td>3</td>\n",
              " <td>radioterapia</td>\n",
              " <td>R</td>\n",
              " <td>F</td>\n",
              " <td>2.0</td>\n",
              " <td>31397</td>\n",
              " <td>7.0</td>\n",
              " <td>Emergência</td>\n",
              " <td>Extremo</td>\n",
              " <td>2</td>\n",
              " <td>51-60</td>\n",
              " <td>4911.0</td>\n",
              " <td>0-10</td>\n",
              " </tr>\n",
              " <tr>\n",
              " <th>1</th>\n",
              " <td>2</td>\n",
              " <td>2</td>\n",
              " <td>c</td>\n",
              " <td>5</td>\n",
              " <td>Z</td>\n",
              " <td>2</td>\n",
              " <td>radioterapia</td>\n",
              " <td>S</td>\n",
              " <td>F</td>\n",
              " <td>2.0</td>\n",
              " <td>31397</td>\n",
              " <td>7.0</td>\n",
              " <td>Trauma</td>\n",
              " <td>Extremo</td>\n",
              " <td>2</td>\n",
              " <td>51-60</td>\n",
              " <td>5954.0</td>\n",
              " <td>41-50</td>\n",
              " </tr>\n",
              " <tr>\n",
              " <th>2</th>\n",
              " <td>3</td>\n",
              " <td>10</td>\n",
              " <td>e</td>\n",
              " <td>1</td>\n",
              " <td>X</td>\n",
              " <td>2</td>\n",
              " <td>anestesia</td>\n",
              " <td>S</td>\n",
              " <td>E</td>\n",
              " <td>2.0</td>\n",
              " <td>31397</td>\n",
              " <td>7.0</td>\n",
              " <td>Trauma</td>\n",
              " <td>Extremo</td>\n",
              " <td>2</td>\n",
              " <td>51-60</td>\n",
              " <td>4745.0</td>\n",
              " <td>31-40</td>\n",
              " </tr>\n",
              " <tr>\n",
              " <th>3</th>\n",
              " <td>4</td>\n",
              " <td>26</td>\n",
              " <td>b</td>\n",
              " <td>2</td>\n",
              " <td>S</td>\n",
              " <td>2</td>\n",
              " <td>radioterapia</td>\n",
              " <td>R</td>\n",
              " <td>D</td>\n",
              " <td>2.0</td>\n",
              " <td>31397</td>\n",
              " <td>7.0</td>\n",
              " <td>Trauma</td>\n",
              " <td>Extremo</td>\n",
              " <td>2</td>\n",
              " <td>51-60</td>\n",
              " <td>7272.0</td>\n",
              " <td>41-50</td>\n",
              " </tr>\n",
              " <tr>\n",
              " <th>4</th>\n",
              " <td>5</td>\n",
              " <td>26</td>\n",
              " <td>b</td>\n",
              " <td>2</td>\n",
              " <td>S</td>\n",
              " <td>2</td>\n",
              " <td>radioterapia</td>\n",
              " <td>S</td>\n",
              " <td>D</td>\n",
              " <td>2.0</td>\n",
              " <td>31397</td>\n",
              " <td>7.0</td>\n",
              " <td>Trauma</td>\n",
              " <td>Extremo</td>\n",
              " <td>2</td>\n",
              " <td>51-60</td>\n",
              " <td>5558.0</td>\n",
              " <td>41-50</td>\n",
              " </tr>\n",
              " </tbody>\n",
              "</tabela>\n",
              "</div>\n",
              " <button class=\"colab-df-convert\" onclick=\"convertToInteractive('df-d32b018c-f97d-4db9-83ee-da6f79247c3f')\"\n",
              " title=\"Converte este dataframe em uma tabela interativa.\"\n",
              " estilo=\"display:nenhum;\">\n",
              "\n",
              " <svg xmlns=\"http://www.w3.org/2000/svg\" height=\"24px\"viewBox=\"0 0 24 24\"\n",
              " largura=\"24px\">\n",
              " <caminho d=\"M0 0h24v24H0V0z\" preenchimento=\"nenhum\"/>\n",
              " <path d=\"M18.56 5.44l.94 2.06.94-2.06 2.06-.94-2.06-.94-.94-2.06-.94 2.06-2.06.94zm-11 1L8.5 8.5l.94 -2.06 2.06-.94-2.06-.94L8.5 2.5l-.94 2.06-2.06.94zm10 10l.94 2.06.94-2.06 2.06-.94-2.06-.94-.94-2.06-.94 2.06- 2.06.94z\"/><path d=\"M17.41 7.96l-1.37-1.37c-.4-.4-.92-.59-1.43-.59-.52 0-1.04.2-1.43 .59L10.3 9.45l-7.72 7.72c-.78.78-.78 2.05 0 2.83L4 21.41c.39.39.9.59 1.41.59.51 0 1.02-.2 1.41-.59l7.78-7.78 2.81-2.81c.8-. 78,8-2,07 0-2,86zM5,41 20L4 18,59l7,72-7,72 1,47 1,35L5,41 20z\"/>\n",
              " </svg>\n",
              " </botão>\n",
              "\n",
              " <estilo>\n",
              " .colab-df-container {\n",
              " display:flex;\n",
              " flex-wrap:wrap;\n",
              " lacuna: 12px;\n",
              " }\n",
              "\n",
              " .colab-df-convert {\n",
              " cor de fundo: #E8F0FE;\n",
              " borda: nenhuma;\n",
              " raio da borda: 50%;\n",
              " cursor: ponteiro;\n",
              " exibir: nenhum;\n",
              " preencher: #1967D2;\n",
              " altura: 32px;\n",
              " preenchimento: 0 0 0 0;\n",
              " largura: 32px;\n",
              " }\n",
              "\n",
              " .colab-df-convert:hover {\n",
              " cor de fundo: #E2EBFA;\n",
              " box-shadow: 0px 1px 2px rgba(60, 64, 67, 0.3), 0px 1px 3px 1px rgba(60, 64, 67, 0.15);\n",
              "preencher: #174EA6;\n",
              " }\n",
              "\n",
              " [theme=dark] .colab-df-convert {\n",
              " cor de fundo: #3B4455;\n",
              " preenchimento: #D2E3FC;\n",
              " }\n",
              "\n",
              " [theme=dark] .colab-df-convert:hover {\n",
              " cor de fundo: #434B5C;\n",
              " box-shadow: 0px 1px 3px 1px rgba(0, 0, 0, 0.15);\n",
              " filtro: drop-shadow(0px 1px 2px rgba(0, 0, 0, 0.3));\n",
              "preencher: #FFFFFF;\n",
              " }\n",
              " </estilo>\n",
              "\n",
              " <script>\n",
              " botão constEl =\n",
              " document.querySelector('#df-d32b018c-f97d-4db9-83ee-da6f79247c3f button.colab-df-convert');\n",
              " buttonEl.style.display =\n",
              " google.colab.kernel.accessAllowed ? 'bloquear' : 'nenhum';\n",
              "\n",
              "função assíncrona convertToInteractive(key) {\n",
              " elemento const = document.querySelector('#df-d32b018c-f97d-4db9-83ee-da6f79247c3f');\n",
              "const tabela de dados =\n",
              " await google.colab.kernel.invokeFunction('convertToInteractive',\n",
              " [chave], {});\n",
              " if (!dataTable) return;\n",
              "\n",
              " const docLinkHtml = 'Gostou do que viu? Visite o ' +\n',
              " '<a target=\"_blank\" href=https://colab.research.google.com/notebooks/data_table.ipynb>caderno de tabela de dados</a>'\n",
              " + 'para saber mais sobre tabelas interativas.';\n",
              " element.innerHTML = '';\n",
              " dataTable['output_type'] = 'display_data';\n",
              " await google.colab.output.renderOutput(dataTable, elemento);\n",
              " const docLink = document.createElement('div');\n",
              " docLink.innerHTML = docLinkHtml;\n",
              " element.appendChild(docLink);\n",
              " }\n",
              " </script>\n",
              " </div>\n",
              " </div>\n",
              " "
            ]
          },
          "metadados": {},
          "contagem_execução": 68
        }
      ]
    },
    {
      "cell_type": "código",
      "fonte": [
        "dados.info()"
      ],
      "metadados": {
        "colab": {
          "base_uri": "https://localhost:8080/"
        },
        "id": "4r1vs5cK6s1f",
        "outputId": "4aa2d08d-a16c-48d1-8a7f-717ed15b8ddc"
      },
      "contagem_execução": 69,
      "saídas": [
        {
          "output_type": "fluxo",
          "nome": "stdout",
          "texto": [
            "<class 'pandas.core.frame.DataFrame'>\n",
            "RangeIndex: 318438 entradas, 0 a 318437\n",
            "Colunas de dados (total de 18 colunas):\n",
            "# Coluna Contagem Não Nula Dtype \n",
            "--- ------ -------------- ----- \n",
            " 0 case_id 318438 não nulo int64 \n",
            " 1 Hospital_code 318438 não nulo int64 \n",
            " 2 Hospital_type_code 318438 objeto não nulo \n",
            " 3 City_Code_Hospital 318438 não nulo int64 \n",
            " 4 Hospital_region_code 318438 objeto não nulo \n",
            " 5 quartos extras disponíveis no hospital 318438 não nulo int64 \n",
            " 6 Departamento 318438 objeto não nulo \n",
            " 7 Ward_Type 318438 objeto não nulo \n",
            " 8 Ward_Facility_Code 318438 objeto não nulo \n",
            " 9 Bed Grau 318325 não nulo float64\n",
            " 10 ID do paciente 318438 não nulo int64 \n",
            " 11 City_Code_Patient 313906 não nulo float64\n",
            " 12 Tipo de Admissão 318438 objeto não nulo \n",
            " 13 Gravidade da doença 318438 objeto não nulo \n",
            " 14 visitantes com paciente 318438 não nulo int64 \n",
            " 15 Age 318438 objeto não nulo \n",
            " 16 Admission_Deposit 318438 não nulo float64\n",
            " 17 Stay 318438 objeto não nulo \n",
            "dtypes: float64(3), int64(6), object(9)\n",
            "uso de memória: 43,7+ MB\n"
          ]
        }
      ]
    },
    {
      "cell_type": "remarcação",
      "fonte": [
        "Intentamos nesta etapa **aumentar a Relevância e minimizar a Redundância**. Assim, tentamos agrupar features que poderiam estar relacionadas. Por exemplo: \"Hospital_region_code\" e \"City_Code_Hospital\", assim como \"Hospital_code\" e \"Hospital_type_code\"."
      ],
      "metadados": {
        "id": "fOBOL0XW7ODU"
      }
    },
    {
      "cell_type": "código",
      "fonte": [
        "data.groupby([\"Hospital_region_code\", \"City_Code_Hospital\"]).Hospital_region_code.count()"
      ],
      "metadados": {
        "colab": {
          "base_uri": "https://localhost:8080/"
        },
        "id": "EVXZl4SK7x5H",
        "outputId": "629038a5-a605-4ff8-91c9-c71700bb8368"
      },
      "contagem_execução": 70,
      "saídas": [
        {
          "output_type": "execute_result",
          "dados": {
            "texto/simples": [
              "Hospital_region_code City_Code_Hospital\n",
              "X 1 55351\n",
              " 4 13857\n",
              " 6 46991\n",
              " 11 17137\n",
              "Y 2 51809\n",
              " 7 35463\n",
              " 9 26277\n",
              " 10 5249\n",
              " 13 3630\n",
              "Z 3 31569\n",
              " 5 31105\n",
              "Nome: Hospital_region_code, dtype: int64"
            ]
          },
          "metadados": {},
          "contagem_execução": 70
        }
      ]
    },
    {
      "cell_type": "código",
      "fonte": [
        "code_typecode_group = data.groupby([\"Hospital_code\", \"Hospital_type_code\"]).Hospital_type_code.count()\n",
        "code_typecode_group"
      ],
      "metadados": {
        "colab": {
          "base_uri": "https://localhost:8080/"
        },
        "id": "RyUPlZ4h8WEM",
        "outputId": "b85955f4-17ad-4691-f5eb-4e504d394bde"
      },
      "contagem_execução": 71,
      "saídas": [
        {
          "output_type": "execute_result",
          "dados": {
            "texto/simples": [
              "Hospital_code Hospital_type_code\n",
              "1 d 5249\n",
              "2 c 5102\n",
              "3 c 7116\n",
              "4 a 1240\n",
              "5 a 5261\n",
              "6 a 20425\n",
              "7 a 1306\n",
              "8 c 3663\n",
              "9 d 11510\n",
              "10 e 9435\n",
              "11 b 17328\n",
              "12 a 11297\n",
              "13 a 5236\n",
              "14 a 17328\n",
              "15 c 9257\n",
              "16 c 3671\n",
              "17 e 5501\n",
              "18 d 3630\n",
              "19 a 21219\n",
              "20 b 1405\n",
              "21 c 8150\n",
              "22g 4277\n",
              "23 a 26566\n",
              "24 a 7992\n",
              "25 e 9834\n",
              "26 b 33076\n",
              "27 a 14244\n",
              "28 b 17137\n",
              "29 a 11311\n",
              "30 c 5002\n",
              "31 c 3967\n",
              "32 f 10703\n",
              "Nome: Hospital_type_code, dtype: int64"
            ]
          },
          "metadados": {},
          "contagem_execução": 71
        }
      ]
    },
    {
      "cell_type": "código",
      "fonte": [
        "# Outras opcoes (nao precisa rodar)\n",
        "\n",
        "#data.groupby([\"Department\", \"Hospital_type_code\"]).Department.count()\n",
        "#data.groupby([\"Hospital_type_code\", \"Ward_Type\"]).Hospital_code.count()\n",
        "#data.groupby([\"Hospital_type_code\", \"Ward_Facility_Code\"]).Hospital_code.count()\n"
      ],
      "metadados": {
        "colab": {
          "base_uri": "https://localhost:8080/"
        },
        "id": "1mjhhyXi8W19",
        "outputId": "353f7aaa-8031-47f8-a08a-d81aebe49779"
      },
      "contagem_execução": nulo,
      "saídas": [
        {
          "output_type": "execute_result",
          "dados": {
            "texto/simples": [
              "Departamento Hospital_type_code\n",
              "TB e doença pulmonar a 3793\n",
              " b 2709\n",
              " c 1276\n",
              "d 569\n",
              "e 672\n",
              " f 408\n",
              " g 159\n",
              "anestesia a 14395\n",
              " b 7065\n",
              " c 3817\n",
              " d 1236\n",
              " e 2085\n",
              " f 745\n",
              " g 306\n",
              "ginecologia a 111197\n",
              "b 52362\n",
              " c 36935\n",
              "d 16882\n",
              "e 20045\n",
              " f 8598\n",
              " g 3467\n",
              "radioterapia a 13347\n",
              " b 6597\n",
              " c 3790\n",
              " d 1653\n",
              "e 1874\n",
              "f 918\n",
              " g 337\n",
              "cirurgia a 693\n",
              "b 213\n",
              "c 110\n",
              " d 49\n",
              "e 94\n",
              " f 34\n",
              " g 8\n",
              "Nome: Departamento, dtype: int64"
            ]
          },
          "metadados": {},
          "contagem_execução": 56
        }
      ]
    },
    {
      "cell_type": "remarcação",
      "fonte": [
        "Antes de começarmos a Feature Engineering, devemos decidir quais colunas usar, quais modificar e quais descartar. Já foi decidido concatenar Hospital_region_code\" com \"City_Code_Hospital\" em um recurso, bem como \"Hospital_code\" e \"Hospital_type_code\" .\n",
        "\n",
        "\"case_id\" e Patientid são irrelevantes para a duração da internação do paciente, portanto, também a descartaremos.\n",
        "\n",
        "Além disso, embora possamos esperar que a coluna \"Visitantes com Paciente\" seja um bom indicador da duração da permanência, é ilógico usá-la. O número de visitantes que um paciente vê durante sua estada é, obviamente, altamente correlacionado com a duração de sua estada. Mas, se precisarmos esperar para ver quantas pessoas visitam o paciente durante toda a internação antes de prever o tempo de internação, fica evidente o absurdo de usar essa coluna.\n",
        "\n",
        "Optamos por remover mais dois recursos, \"Available Extra Rooms in Hospital\" e \"Admission_Deposit\" devido a questões éticas.\n",
        "\n",
        "Em resumo, discutido manter 10 características: Hospital_region_code/City_Code_Hospital, Hospital_code/Hospital_type_code, Department, Ward_Type, Ward_Facility_Code, Bed Grade, City_Code_Patient, Type of Admission Severity, Severity of Illness, and Age."
      ],
      "metadados": {
        "id": "M0Ckwntu_MzE"
      }
    },
    {
      "cell_type": "remarcação",
      "fonte": [
        "**Engenharia de recursos.**"
      ],
      "metadados": {
        "id": "uXXYBJVNA5zv"
      }
    },
    {
      "cell_type": "código",
      "fonte": [
        "related_data = X.drop([\"case_id\", \"Visitantes com paciente\", \"Quartos extras disponíveis no hospital\", \n",
        " \"ID do paciente\", \"Depósito_de_admissão\"], eixo = 1)\n",
        "related_train_data = X_train.drop([\"case_id\", \"Visitantes com paciente\", \"Quartos extras disponíveis no hospital\", \n",
        " \"ID do paciente\", \"Depósito_de_admissão\"], eixo = 1)\n",
        "related_test_data = X_test.drop([\"case_id\", \"Visitantes com paciente\", \"Quartos extras disponíveis no hospital\",\n",
        " \"ID do paciente\",\"Admission_Deposit\"], eixo = 1)\n",
        "related_val_data = X_val.drop([\"case_id\", \"Visitantes com paciente\", \"Quartos extras disponíveis no hospital\",\n",
        " \"ID do paciente\",\"Depósito_de_admissão\"], eixo = 1)\n"
      ],
      "metadados": {
        "id": "hlG1iCEFA_Xn"
      },
      "contagem_execução": 72,
      "saídas": []
    },
    {
      "cell_type": "remarcação",
      "fonte": [
        "**Recursos de concatenar fortemente relacionados.**"
      ],
      "metadados": {
        "id": "_L9bfnMqCu4r"
      }
    },
    {
      "cell_type": "código",
      "fonte": [
        "def concatenate_hospital_code_and_hospital_type_code(linha):\n",
        " return str(row.Hospital_code) + row.Hospital_type_code\n",
        "\n",
        "concatenated_train_features_hospital = related_train_data.apply(concatenate_hospital_code_and_hospital_type_code, axis = \"columns\")\n",
        "concatenated_val_features_hospital = related_val_data.apply(concatenate_hospital_code_and_hospital_type_code, axis = \"columns\")\n",
        "concatenated_test_features_hospital = related_test_data.apply(concatenate_hospital_code_and_hospital_type_code, axis = \"columns\")\n",
        "\n",
        "def concatenate_hospital_region_code_and_city_code_hospital(row):\n",
        " return row.Hospital_region_code + str(row.City_Code_Hospital)\n",
        "\n",
        "concatenated_train_features_region_city = related_train_data.apply(concatenate_hospital_region_code_and_city_code_hospital, axis = \"columns\")\n",
        "concatenated_val_features_region_city = related_val_data.apply(concatenate_hospital_region_code_and_city_code_hospital, axis = \"columns\")\n",
        "concatenated_test_features_region_city = related_test_data.apply(concatenate_hospital_region_code_and_city_code_hospital, axis = \"columns\")"
      ],
      "metadados": {
        "id": "j8pShQk8C4_x"
      },
      "contagem_execução": 73,
      "saídas": []
    },
    {
      "cell_type": "código",
      "fonte": [
        "X_prepared_train = related_train_data.assign(Hospital_concat_code = concatenated_train_features_hospital,\n",
        " Hospital_concat_region = concatenated_train_features_region_city)\n",
        "X_prepared_val = related_val_data.assign(Hospital_concat_code = concatenated_val_features_hospital,\n",
        " Hospital_concat_region = concatenated_val_features_region_city)\n",
        "X_prepared_test = related_test_data.assign(Hospital_concat_code = concatenated_test_features_hospital,\n",
        " Hospital_concat_region = concatenated_test_features_region_city)\n",
        "\n",
        "\n",
        "X_prepared_train = X_prepared_train.drop(['Hospital_code','Hospital_type_code',\"Hospital_region_code\",\"City_Code_Hospital\"],axis=1)\n",
        "X_prepared_val = X_prepared_val.drop(['Hospital_code','Hospital_type_code',\"Hospital_region_code\",\"City_Code_Hospital\"],axis=1)\n",
        "X_prepared_test = X_prepared_test.drop(['Hospital_code','Hospital_type_code',\"Hospital_region_code\",\"City_Code_Hospital\"],axis=1)"
      ],
      "metadados": {
        "id": "sRJs069ADNq2"
      },
      "contagem_execução": 74,
      "saídas": []
    },
    {
      "cell_type": "remarcação",
      "fonte": [
        "**Modelagem.**\n",
        "\n",
        "Será integrada uma Boosted Random Forest com XGBoost."
      ],
      "metadados": {
        "id": "oRHyHYs7DVW9"
      }
    },
    {
      "cell_type": "código",
      "fonte": [
        "from math import isnan\n",
        "\n",
        "city_code_categorial_train = X_prepared_train.City_Code_Patient.map(lambda x : \"-1\" if isnan(x) else str(int(x)))\n",
        "city_code_categorial_val = X_prepared_val.City_Code_Patient.map(lambda x : \"-1\" if isnan(x) else str(int(x)))\n",
        "city_code_categorial_test = X_prepared_test.City_Code_Patient.map(lambda x : \"-1\" if isnan(x) else str(int(x)))\n",
        "\n",
        "\n",
        "X_nn_prepared_train = X_prepared_train.assign(City_Code_NoNaN_Patient = city_code_categorial_train)\n",
        "X_nn_prepared_val = X_prepared_val.assign(City_Code_NoNaN_Patient = city_code_categorial_val)\n",
        "X_nn_prepared_test = X_prepared_test.assign(City_Code_NoNaN_Patient = city_code_categorial_val)\n",
        "\n",
        "\n",
        "X_nn_prepared_train = X_nn_prepared_train.drop([\"City_Code_Patient\"], eixo = 1)\n",
        "X_nn_prepared_val = X_nn_prepared_val.drop([\"City_Code_Patient\"], eixo = 1)\n",
        "X_nn_prepared_test = X_nn_prepared_test.drop([\"City_Code_Patient\"], eixo = 1)\n",
        "\n",
        "\n",
        "X_nn_prepared_train[\"Bed Grade\"] = X_prepared_train.loc[:,\"Bed Grade\"].map(lambda x : \"-1\" if isnan(x) else str(int(x))) \n",
        "X_nn_prepared_val [\"Bed Grade\"] = X_prepared_val.loc[:,\"Bed Grade\"].map(lambda x : \"-1\" if isnan(x) else str(int(x))) \n",
        "X_nn_prepared_test [\"Bed Grade\"] = X_prepared_test.loc[:,\"Bed Grade\"].map(lambda x : \"-1\" if isnan(x) else str(int(x))) "
      ],
      "metadados": {
        "id": "ieL_qsg0DjKU"
      },
      "contagem_execução": 75,
      "saídas": []
    },
    {
      "cell_type": "remarcação",
      "fonte": [
        "**Usando o One-hot para codificar os recursos e alvos.**\n",
        "\n",
        "É preciso reunir todos os recursos antes da concentração one-hot para que os conjuntos de dados de treinamento, validação e teste tenham o mesmo comprimento."
      ],
      "metadados": {
        "id": "1ArB_9MbD5rB"
      }
    },
    {
      "cell_type": "código",
      "fonte": [
        "#concatenated_list = [X_nn_prepared_train,X_nn_prepared_val,X_nn_prepared_test]\n",
        "#concatenado = pd.concat(concatenado_lista)"
      ],
      "metadados": {
        "id": "GF030xl9ESG2"
      },
      "contagem_execução": nulo,
      "saídas": []
    },
    {
      "cell_type": "código",
      "fonte": [
        "#cortes = [254750, 254750-286594, 286594-318438]"
      ],
      "metadados": {
        "id": "A1DYfy7nEWYu"
      },
      "contagem_execução": nulo,
      "saídas": []
    },
    {
      "cell_type": "código",
      "fonte": [
        "#concatenated_list = [X_nn_prepared_train,X_nn_prepared_val,X_nn_prepared_test]\n",
        "#concatenado = pd.concat(concatenado_lista)"
      ],
      "metadados": {
        "id": "5u4CMgAHEaQV"
      },
      "contagem_execução": nulo,
      "saídas": []
    },
    {
      "cell_type": "código",
      "fonte": [
        "#X_encoded = pd.get_dummies(concatenado)\n",
        "\n",
        "#X_encoded_train = X_encoded.iloc[:254750]\n",
        "#X_encoded_val = X_encoded.iloc[254750:286594]\n",
        "#X_encoded_test = X_encoded.iloc[286594:]"
      ],
      "metadados": {
        "id": "FuD3bTSLEsNb"
      },
      "contagem_execução": nulo,
      "saídas": []
    },
    {
      "cell_type": "código",
      "fonte": [
        "#Y_encoded_train = pd.get_dummies(Y_train)\n",
        "#Y_encoded_val = pd.get_dummies(Y_val)"
      ],
      "metadados": {
        "id": "ChN5o90QFFx4"
      },
      "contagem_execução": nulo,
      "saídas": []
    },
    {
      "cell_type": "remarcação",
      "fonte": [
        "**Definição do modelo.**"
      ],
      "metadados": {
        "id": "EAxnTPdDFQvO"
      }
    },
    {
      "cell_type": "código",
      "fonte": [
        "!pip install scikeras"
      ],
      "metadados": {
        "colab": {
          "base_uri": "https://localhost:8080/"
        },
        "id": "nr0AaL3QFenW",
        "outputId": "3c913750-a854-4105-a385-9ab548c8548d"
      },
      "contagem_execução": 76,
      "saídas": [
        {
          "output_type": "fluxo",
          "nome": "stdout",
          "texto": [
            "Procurando em índices: https://pypi.org/simple, https://us-python.pkg.dev/colab-wheels/public/simple/\n",
            "Requisito já satisfeito: scikeras in /usr/local/lib/python3.9/dist-packages (0.10.0)\n",
            "Requisito já satisfeito: empacotamento>=0.21 em /usr/local/lib/python3.9/dist-packages (de scikeras) (23.0)\n",
            "Requisito já satisfeito: scikit-learn>=1.0.0 in /usr/local/lib/python3.9/dist-packages (de scikeras) (1.2.2)\n",
            "Requisito já satisfeito: threadpoolctl>=2.0.0 in /usr/local/lib/python3.9/dist-packages (from scikit-learn>=1.0.0->scikeras) (3.1.0)\n",
            "Requisito já satisfeito: scipy>=1.3.2 in /usr/local/lib/python3.9/dist-packages (from scikit-learn>=1.0.0->scikeras) (1.10.1)\n",
            "Requisito já satisfeito: joblib>=1.1.1 in /usr/local/lib/python3.9/dist-packages (from scikit-learn>=1.0.0->scikeras) (1.1.1)\n",
            "Requisito já satisfeito: numpy>=1.17.3 in /usr/local/lib/python3.9/dist-packages (from scikit-learn>=1.0.0->scikeras) (1.22.4)\n"
          ]
        }
      ]
    },
    {
      "cell_type": "código",
      "fonte": [
        "from keras.models import Sequential\n",
        "from keras.layers import Dense\n",
        "from scikeras.wrappers import KerasClassifier\n",
        "da importação de sklearn.model_selection KFold\n",
        "from sklearn.model_selection import cross_val_score\n",
        "\n",
        "def standard_nn():\n",
        "modelo = Sequencial()\n",
        " model.add(Dense(8, input_dim=X_encoded_train.shape[1], ativação='relu'))\n",
        " model.add(Dense(11, ativação='softmax'))\n",
        "\n",
        " model.compile(loss='categorical_crossentropy', optimizer='adam',metrics=['precisão'])\n",
        "modelo de retorno"
      ],
      "metadados": {
        "id": "dRRTnPRSFUk3"
      },
      "contagem_execução": 77,
      "saídas": []
    },
    {
      "cell_type": "código",
      "fonte": [
        "estimator = KerasClassifier(model=standard_nn, epochs=250, batch_size=50000, verbose=1)"
      ],
      "metadados": {
        "id": "512E2-BNFmjV"
      },
      "contagem_execução": 78,
      "saídas": []
    },
    {
      "cell_type": "código",
      "fonte": [
        "kfold = KFold(n_splits=5, shuffle=True)"
      ],
      "metadados": {
        "id": "JDE973hOFrA0"
      },
      "contagem_execução": 79,
      "saídas": []
    },
    {
      "cell_type": "remarcação",
      "fonte": [
        "**Validação cruzada de 5 vezes**"
      ],
      "metadados": {
        "id": "67B_N_k3Fv6E"
      }
    },
    {
      "cell_type": "código",
      "fonte": [
        "#results = cross_val_score(estimator, X_encoded_train, Y_encoded_train, cv=kfold, verbose = 1);"
      ],
      "metadados": {
        "id": "W4vrcWG1F3JM"
      },
      "contagem_execução": nulo,
      "saídas": []
    },
    {
      "cell_type": "código",
      "fonte": [
        "#print(\"Media de precisão e desvio padrão: %.2f%% (%.2f%%)\" % (results.mean()*100, results.std()*100))"
      ],
      "metadados": {
        "id": "MZpE2iZwF-Zz"
      },
      "contagem_execução": nulo,
      "saídas": []
    },
    {
      "cell_type": "código",
      "fonte": [
        "# Resultados salvos, caso o treinamento de 5 vezes seja muito tedioso para o nosso leitor.\n",
        "#Cada entrada é a precisão em uma das dobras\n",
        "saved_results = [0,32588813, 0,33110893, 0,32082434, 0,33030422, 0,32555447]\n",
        "average_accuracy = sum(saved_results)/len(saved_results)\n",
        "imprimir (precisão_média)"
      ],
      "metadados": {
        "colab": {
          "base_uri": "https://localhost:8080/"
        },
        "id": "BgUAcf3lGZSQ",
        "outputId": "84bfbf18-1e9c-42d3-bf3b-f7594cfca3cd"
      },
      "contagem_execução": nulo,
      "saídas": [
        {
          "output_type": "fluxo",
          "nome": "stdout",
          "texto": [
            "0,32673601799999996\n"
          ]
        }
      ]
    },
    {
      "cell_type": "remarcação",
      "fonte": [
        "**Resultados anteriores.**"
      ],
      "metadados": {
        "id": "fYmBtBFTHdpy"
      }
    },
    {
      "cell_type": "código",
      "fonte": [
        "conversion_dictionary = {'0-10':0, '11-20':1, '21-30':2, '31-40':3, '41-50':4, '51-60': 5, '61-70':6, \n",
        " '71-80':7, '81-90':8,'91-100':9, 'Mais de 100 dias': 10}\n",
        "def range_to_int(linha):\n",
        " retornar conversão_dicionário[linha]\n",
        "\n",
        "Y_train_final = Y_train.apply(range_to_int)\n",
        "Y_val_final = Y_val.apply(range_to_int)\n",
        "Y_test_final = Y_test.apply(range_to_int)"
      ],
      "metadados": {
        "id": "mOprzZuCHliR"
      },
      "contagem_execução": 80,
      "saídas": []
    },
    {
      "cell_type": "remarcação",
      "fonte": [
        "**Floresta aleatória.**"
      ],
      "metadados": {
        "id": "o_BDNt7KJkBN"
      }
    },
    {
      "cell_type": "código",
      "fonte": [
        "de xgboost importar XGBRFClassifier"
      ],
      "metadados": {
        "id": "ffffw_sUJn23"
      },
      "contagem_execução": 81,
      "saídas": []
    },
    {
      "cell_type": "código",
      "fonte": [
        "model = XGBRFClassifier(n_estimators=100, subsample=0.9, colsample_bynode=0.35, enable_categorical = True)"
      ],
      "metadados": {
        "id": "RCMN7__kJqZE"
      },
      "contagem_execução": 82,
      "saídas": []
    },
    {
      "cell_type": "código",
      "fonte": [
        "from sklearn.model_selection import cross_val_score\n",
        "da importação de sklearn.model_selection RepeatedStratifiedKFold"
      ],
      "metadados": {
        "id": "PsRj51xIJs18"
      },
      "contagem_execução": 83,
      "saídas": []
    },
    {
      "cell_type": "código",
      "fonte": [
        "importar xgboost como xgb\n",
        "\n",
        "X_train_final = X_prepared_train.astype(\"categoria\")\n",
        "X_val_final = X_prepared_val.astype(\"categoria\")\n",
        "X_test_final = X_prepared_test.astype(\"categoria\")\n",
        "\n",
        "clf = xgb.XGBClassifier(tree_method=\"hist\",enable_categorical=True)"
      ],
      "metadados": {
        "id": "QZEt-i8aJwlM"
      },
      "contagem_execução": 84,
      "saídas": []
    },
    {
      "cell_type": "código",
      "fonte": [
        "clf.fit(X_train_final, Y_train_final)"
      ],
      "metadados": {
        "id": "OXLI1MV8JzFc"
      },
      "contagem_execução": nulo,
      "saídas": []
    },
    {
      "cell_type": "código",
      "fonte": [
        "print(clf.feature_importances_)\n",
        "print(clf.feature_names_in_)\n",
        "print(clf.feature_importances_)\n",
        "print(\"Número de rodadas de reforço\", clf.get_num_boosting_rounds())"
      ],
      "metadados": {
        "colab": {
          "base_uri": "https://localhost:8080/"
        },
        "id": "tyghpfcVKNIi",
        "outputId": "f4f96281-2262-417f-a313-f559d3f1dff0"
      },
      "contagem_execução": nulo,
      "saídas": [
        {
          "output_type": "fluxo",
          "nome": "stdout",
          "texto": [
            "[0,06464168 0,23910189 0,04167496 0,1192402 0,07681684 0,15560918\n",
            " 0,10598568 0,05885724 0,10232677 0,03574548]\n",
            "['Departamento' 'Ward_Type' 'Ward_Facility_Code' 'Bed Grade'\n",
            " 'City_Code_Patient' 'Tipo de Admissão' 'Gravidade da Doença' 'Idade'\n",
            " 'Hospital_concat_code' 'Hospital_concat_region']\n",
            "[0,06464168 0,23910189 0,04167496 0,1192402 0,07681684 0,15560918\n",
            " 0,10598568 0,05885724 0,10232677 0,03574548]\n",
            "Número de rodadas de reforço 100\n"
          ]
        }
      ]
    },
    {
      "cell_type": "código",
      "fonte": [
        "Y_val_predicted =clf.predict(X_test_final)"
      ],
      "metadados": {
        "id": "ckZ1S2MhKROD"
      },
      "contagem_execução": nulo,
      "saídas": []
    },
    {
      "cell_type": "remarcação",
      "fonte": [
        "Devemos produzir uma matriz de confusão para essas previsões. (Ex. 0 -> 0-10 dias, 1 -> 10-19 dias, etc)."
      ],
      "metadados": {
        "id": "LWutznE1KX4R"
      }
    },
    {
      "cell_type": "código",
      "fonte": [
        "resultados = pd.DataFrame({'y_true': Y_val_final,'y_predicted': Y_val_predicted})\n",
        "\n",
        "confusion_matrix = pd.crosstab(results['y_true'], results['y_predicted'], rownames=['Real'], colnames=['Previsto'])\n",
        "print(confusion_matrix)"
      ],
      "metadados": {
        "colab": {
          "base_uri": "https://localhost:8080/"
        },
        "id": "nCrt18OyK3om",
        "outputId": "80600af8-1172-4fa2-f970-a151915e04ea"
      },
      "contagem_execução": nulo,
      "saídas": [
        {
          "output_type": "fluxo",
          "nome": "stdout",
          "texto": [
            "Previsto 0 1 2 3 4 5 6 7 8 9 10\n",
            "\n real",
            "0 82 1662 2191 361 5 321 2 5 1 0 16\n",
            "1 212 5366 7434 1337 19 1202 7 33 4 5 71\n",
            "2 241 6038 8177 1512 24 1354 6 27 7 11 72\n",
            "3 147 3849 5113 925 19 863 3 23 9 3 50\n",
            "4 39 845 1072 183 3 182 0 6 1 0 6\n",
            "5 79 2526 3298 544 5 524 1 10 3 2 26\n",
            "6 3 214 287 49 1 38 1 1 0 0 1\n",
            "7 34 719 978 167 4 145 0 5 0 0 9\n",
            "8 6 327 452 80 3 72 0 1 0 0 5\n",
            "9 7 192 286 38 0 43 0 0 0 0 1\n",
            "10 23 441 660 102 3 118 0 3 1 0 4\n"
          ]
        }
      ]
    },
    {
      "cell_type": "remarcação",
      "fonte": [
        "Examinando as pontuações f1 para cada categoria na lista, a 1ª entrada na lista é a pontuação f1 para estadias de 0 a 10 dias, a 2ª entrada é para estadias de 10 a 19 dias e assim em diante.\n",
        "\n",
        "Vemos que a pontuação mais alta observada é de 0,34 corresponde a estadias de 20 a 29 dias, mas as pontuações diminuem rapidamente, encontrando uma pontuação mínima de 0 para estadias de 60 a 69 e 90 a 99 dias.\n",
        "\n",
        "Observe que essas pontuações não levam em consideração o quão próximo foi nosso palpite. Por exemplo, se a estadia foi de 90 dias, um palpite de 0 a 10 dias é tão errado quanto um palpite de 80 a 89 dias. (Os resultados podem ser diferentes a cada execução devido à natureza estocástica do treinamento)."
      ],
      "metadados": {
        "id": "hJZsH_1TLvoy"
      }
    },
    {
      "cell_type": "remarcação",
      "fonte": [
        "Vamos usar desta vez um mapa de calor para ilustrar melhor a magnitude das entradas."
      ],
      "metadados": {
        "id": "JxdfSrQ8OVUc"
      }
    },
    {
      "cell_type": "código",
      "fonte": [
        "Y_test_predicted = clf.predict(X_test_final)"
      ],
      "metadados": {
        "id": "cTiPrReZOWez"
      },
      "contagem_execução": nulo,
      "saídas": []
    },
    {
      "cell_type": "código",
      "fonte": [
        "importar matplotlib.pyplot como plt\n",
        "from sklearn.datasets import make_classification\n",
        "from sklearn.metrics import ConfusionMatrixDisplay"
      ],
      "metadados": {
        "id": "bgVFpGI7OaZT"
      },
      "contagem_execução": nulo,
      "saídas": []
    },
    {
      "cell_type": "código",
      "fonte": [
        "ConfusionMatrixDisplay.from_estimator(clf, X_test_final, Y_test_final);"
      ],
      "metadados": {
        "colab": {
          "base_uri": "https://localhost:8080/",
          "altura": 449
        },
        "id": "wM9vGIfTOddC",
        "outputId": "03d2c77b-c1f9-41f5-8999-ac4e196e2d74"
      },
      "contagem_execução": nulo,
      "saídas": [
        {
          "output_type": "display_data",
          "dados": {
            "texto/simples": [
              "<tamanho da figura 640x480 com 2 eixos>"
            ],
            "imagem/png": "iVBORw0KGgoAAAANSUhEUgAAAhUAAAGwCAYAAAAe3Ze+AAAAOXRFWHRTb2Z0d2FyZQBNYXRwbG90bGliIHZlcnNpb24zLjcuMSwgaHR0cHM6Ly9tYXRwbG90bGliLm9yZy/bCgiHAAAACXBIWXMAAA9hAAAPYQGoP6dpAADs3ElEQVR4nOzdd3gURR/A8e/dJXeXS++NQBJC6B1BmogiXUBFREAQEZSiIB2RqoA0RUDFDijVAoKvIEiRIgKhE2oI6b33XH3/OLh4JBBCLgWZz/PkeXJbZuZ293Z/OzM7KzEYDAYEQRAEQRDKSVrVBRAEQRAE4b9BBBWCIAiCIFiECCoEQRAEQbAIEVQIgiAIgmARIqgQBEEQBMEiRFAhCIIgCIJFiKBCEARBEASLsKrqAlQ0vV5PXFwc9vb2SCSSqi6OIAiCUEYGg4Hs7Gx8fHyQSivmXrigoAC1Wm2RtORyOUql0iJpPWz+80FFXFwcfn5+VV0MQRAEoZyio6OpUaOGxdMtKCggoJYdCUk6i6Tn5eXFzZs3H8nA4j8fVNjb2wPQUf4cVhLrKi2LukODKs0fwDrLMpF4eUkvhFV1EdAXFFZ1EQCQKBRVXQQADIXVY3sIwp20aDjC76bzuaWp1WoSknREnvLHwb58NSFZ2XpqtYxArVaLoOK/6HaTh5XEusqDCr1V1R9gVlbVoxuNVCKv6iKgl+iruggASKr4uLzNUE22hyAUc+tlEhXdhG1nL8HOvnx56Hm0m9n/80GFIAiCINwPnUGPrpxvw9IZHu3gXAQVgiAIggDoMaCnfFFFedd/2FWPunBBEARBEB56oqZCEARBEAA9esrbeFH+FB5uIqgQBEEQBEBnMKAzlK/5orzrP+xE84cgCIIgCBYhaioEQRAEAdFR0xJEUCEIgiAIGAMCnQgqykU0fwiCIAiCYBGPbE3FS6PjaN8tnRq181EXSLl02o5vF/sRE25jWubtBTdp1j4LV081+bkyLp+245sPzZfZffNEsbQXvVWbv35zLTb95V7n6NgygpremRRqZISGefDV1seITnACwN62kFefO02rhrF4uOaQka3k6OlafPdLS3Lzi49A6WBbwFfvb8PdJY9nxwwhN6/4cM8NgxJZMeN/3Ix1ZtTs5wBo1CCRF/uGUqd2Gq4u+cz9sBPHTtQ0rfPHL9+XuM2+WteCn35tiKd7DoNePE+zxgk4OxWQmm7D/r8C2fRzI7RamWn5J9pFMPCFi/j6ZJGZpWTH73X56deGJaY9YHSscX8E3t4f9ny72I/Ym8Zt7eFbyLrDZ0tcd8HYII7sMm7v4CY5DJ8aTVCjXAwGuHbOuM9uXrEtcd3yGjAukRHvJrDtKzfWzPG1WLqWOD6feSGZSctulpx+q+ZkppZ/JM9GbXJ4cUwydRrn4eqlZe5r/hzb7VjudMtqyKQEXpmUaDYtOkzB60/Uq9RyVIft8dK4RNr3zMQvqNB47ISo+GaBNzE3Km5E39K+d/seGfQamkqdxvk4uOgY/Uww4aE290ixaojmj/ J7KIKKTz/9lKVLl5KQkEDTpk1ZtWoVrVu3Lleajdtks/N7D66dt0VqBcMnR7Ng/VVGPdOYwnzjhfH6RVv2/+pKcqwCeyctQybEsnD9VV59oil6fdFQrMsnBxDyV9EPKCer5M3atF48v+6vz9Vwd6QyPa/3D2HJ5N0Mf/cFCtTWuDrl4uqUx5otrYmMdcLTLYcJw47i6pTHvE+fLpbe5BGHCY92wd0lr8T8bFWFzBj1F6cv+eDsmG+arlRoCY9w5o/9QcyZ9lex9Qa+1t/s82MtYnlnzDGO/GMMPPxqZCKVwidrHicuwR7/mhlMGP0PSqWWr9a1BKBV81imTTjCZ1+35tQ5b2rWyGTC6H9Qq2Xs2FX8RN+4dTY7v/fk2nlbZDIDr06JYcH6K7zRtQmF+TJS4uUMat3cbJ0eLyfxwsh4Qv5yMn4vlY73v7vKP/ucWD3LH5mVgVcmxPDBuqsMbd8MndayFXPBTfPoNSSN8FDLn6wtcXz+9Zur2XEJMGnZTeQKvUUCCgClSk94qJI/Nrkw59sIi6T5oCKuKJn+UqDps05X+cMlV4ft0aRtLjvXunHtrAqZlYFXp8ezcFM4IzvVNR07llba91aq9ISesOXQTifeWRZTIWWwBPH0R/lV+6Biy5YtTJw4kTVr1tCmTRtWrFhBt27duHr1Kh4eHg+c7nuv1jX7vHxKIFtOnaFO41wunnAAYNemovQTYxWsW16Dz3ddxLNGIfFRRReSnCwr0lNKf5fF9OXdzT4v/voJtq3aSLB/CueveRMR68Lc1UXBQ1yyA9/+3IoZow4ilerR64suin06X8ZOpeb7X5vTpmnJP9J3hh1l3z+10esltG8RaZoecsaXkDN3v6tOzzC /g2j7WDTnLnqRkGhf4voJifb85JNF727XTEFFl07h/H3Cj//tCTYts/mXRgx4LpQdu8y3PcCs4eaBxkdTAtkccpo6jXK5eNIBvV5SbBu365rO4d9dKcgznij9aufj4Kzl+49rkBJvrLXZsLIGn++6gIevmvhIy138lSod01ZHsmJKDV4en1j6CmVkieNTXShFXVi0zRxdNDRtm8WK6QEWK2fIAQdCDjhYLL3y0OkgPblq36NSHbbHzMGBZp+XT6jJ1ouh1GmSz8XjdhWSZ2nfe9/PLgB41qgeLzQUKk6171Px0UcfMXLkSIYPH06DBg1Ys2YNKpWKb7/91qL5qOyNr7zNzig5zlLY6HimfzLxUQqS480vbmPnR7Dl1Gk+2R5K1xeT4T6rv2xtNABk5d79LZW2Nmry8uVmAUUtn3Re6XuGD7/shN5Q8t1Y9w7X8HHPZt325iXOv19Ojvm0bhnLH/uC7rmcrUpNdk7RdrG21qNWm98VqdUy3N3y8HTPLTVf0/7ILHl/BDXKpXbDPP7Y6m6aFhNuQ2aaFd0GJGNlrUeu0NNtQDJR15Ukxlj2TaDjFsZyYp8DZw5XzFsT71Se4/O2p59PobBAyuHfXSqsnFXJN0DNxtOhrD12mWmrI3H3FRcwAFuH28dOxdRS/JfoLfRXFocOHeLZZ5/Fx8cHiUTC9u3bzeYbDAZmz56Nt7c3NjY2dOnShevXr5stk5aWxuDBg3FwcMDJyYkRI0aQk5Njtsz58+fp2LEjSqUSPz8/lixZUqwsP/74I/Xq1UOpVNK4cWN+//33Mn6bah5UqNVqTp06RZcuXUzTpFIpXbp04dixYyWuU1hYSFZWltlfaSQSA2/OiiT0pB2R11Rm83oPSWTbxRB+vXSKx57M5N1X6qLVFG229R/5snBcEO++Upcju5wZ934EfV8t/c5VIjEwdtA/XLjmSURsySd5B7sCXulzht/+KrprtbbS8d6bB /liS2uS0kq+6/D1zOT1F0+y8IsnzYKRB/FM53Dy861NTR8l8fHKom/Pq/x+q1YCIOSsNx0ej6JZ43gkEgO+3lm80OcSAC7O+XdLCjBumzdmRRIaUnx/3NZtQBJR15VcPl10Uc/PlTFtUH2e6pvC9ksn+eXiSVo+kcGs4fXQW7AqvFPfdIIa5/PtIm+LpXkv5Tk+/63bgGQO/OqKurBa/+wfyJXTKpZN8GPm4EBWTffFq6aa5dvCsLHVVXXRqpREYuDNebFcPKEi8mr168NQ3ehuPf1R3r+yyM3NpWnTpnz66aclzl+yZAkrV65kzZo1HD9+HFtbW7p160ZBQYFpmcGDBxMaGsrevXv57bffOHToEKNGjTLNz8rKomvXrtSqVYtTp06xdOlS5s6dy5dffmla5u+//+bll19mxIgRnDlzhn79+tGvXz8uXrxYpu9TrZs/UlJS0Ol0eHp6mk339PTkypUrJa6zaNEi5s2bV6Z8xs6PxL9uPpNebFBs3v5fXTl9xBEXDzX9Rybw7uowJvZvgEZtPDFvXFXUDHDjki1KlZ7+IxP4da3XPfMc/8rfBNRI5+0FvUucr1KqWfTOHiLinFm3vYVp +uv9TxIZ78ifx0quOZBK9Mx84yDrtrcgJrH8HcS6PRXG/sMBaDQl3+W4uuSxYNZ+Dh2rxa4/65im79pbBx+vHOa/ewArKz15edZs+189hg48j76U39zY+RH4B+cxeUDx/QEgV+h5sk8qm1b5Fps+4cNwLp2yZ/GEIKRSAy+MjGfeN1cZ36+RRS6m7j5qRs+PY8bAQDSVdHEuz/F5W/3m2dSqU8DSibUrpcyV7d9V7zcv23DljC3fn7jEE30y+GNT8U7Tj4pxC2OpVa+ASf3uXdMoGOkMWOAtpWVbvkePHvTo0aPEeQaDgRUrVvDee+/Rt29fANavX4+npyfbt29n4MCBXL58md27d3Py5ElatWoFwKpVq+jZsyfLli3Dx8eHDRs2oFar+fbbb5HL5TRs2JCzZ8/y0UcfmYKPTz75hO7duzNlyhQA3n//ffbu3cvq1atZs2bNfX+fah1UPIgZM2YwceJE0+esrCz8/PzuuvyYeRG0eSqDyS/VJyWheLVxXrYVedlWxEUouXLGjp/OnqZ9t3QO7iz5RHX1rB2D347DWq4vdmK/7e0hf/N402gmLOpFSnrxpxJslGoWT/qDvAJrZq96Gp2uKJ3mDeIJqJFOp1a3mn9u3YBvX7WBH3Y246c9DakXmEKdWqm8PcRYmyORGJBKYe833zJj3tOcu3h/d9iN6ifiVyOLhR91LHG+i3MeS+bv4dJVdz75/PE75kr45vsWfLehGc5OBWRmKWjWOAHgVt+M9BLTHD03gtadM5gysD4pCSU3WXTokYpCqWffNjez6U/2TcGzRiETX2iI4Vaz0OIJtvx45hRtn0kv8Ymcsgpqko+zu5ZP/7hmmiazgsaP59JneAq9/ZuYdeItL0sdn91fSiYsVEXYxYp5Cqa6yc2SEROuwMf/0W0CGbsghjbPZDHpudqk3KVJTKg4d9aSKxQKFIqyNcPevHmThIQEs9p6R0dH2rRpw7Fjxxg4cCDHjh3DycnJFFAAdOnSBalUyvHjx3nuuec4duwYTzzxBHJ50XHQrVs3Fi9eTHp6Os7Ozhw7dszs2nl7mTubY0pTrYMKNzc3ZDIZiYnmzQmJiYl4eZVcE3D /O87AmHmRtOuaztSX699Xm7tEAkjAWn73VrPABnlkZ8juElAYeHvIMTq0jOSdD3uSkFK8PV6lVLN48m40WhnvffIMGo35Lpq76mnkcq3pc72AFKa+fpjxC3sRl+RAXr6c12Y+Z7ZO36cu07xBPHNXP0VK+P0f1N2eDuNamAvhEcWbZ1xdjAHF9RuuLF/d1nQRv5NeLyU1zVhl37ljBJeuuJOZpSyh3c3A6LmRtOuaxrRBDUiMuXunym4Dkjm+z4nMNPNOeUqlHoNewr87X+tvfZZILdMj++xhO0Z1DjabNunjaKLDlGz91N2CAYXljk+lSkfHXml8t/TuwfV/jVKlw6eWmn0/V+tTXAUxMHZBLO26ZzKlfxCJ0ZbtT/Rf9iB9IkpKAyh2Mztnzhzmzp1bprQSEow3YiXV1t+el5CQUOyhBSsrK1xcXMyWCQgIKJbG7XnOzs4kJCTcM5/7Va1/cXK5nJYtW7Jv3z769esHgF6vZ9++fYwbN65caY+dH0nnvqnMG1WH/Bwpzm7GO5rcbCvUhVK8/Aro1DuNU4cdyUyzws1LzUuj41EXSDhx0AmANk+n4+ym4fIZO9SFUlp0yGTgmDh+ +qrkgGf8K3/zdNtw3vukC3kF1jg7Gh8Fzc2To9ZYoVKqWTJlNwq5lkVfPInKRo3KxliuzCwleoOUuGTzHtaO9oUARMY7mcapuLOPRka2DWqNjIhYF6wL1SiVGny8sk3zvTxyCPRPIztHQXKK8U5WZaPmiXaRfLm2FXdydclj6fw9JCXb8tW6ljg6FJrm3X5yxMG+gI5tozgf6om1tY6uT92gY9tIpszqepf9EcGTfVKZPyq4xP1xm3etAhq1zmb2a8WfIDl9xJERM6IYOz+CHeu8kEgNDHgzDp1OwrljlumRn58rK9Y2XZAnJTu9+PTysMTxeVun3mnIrAzs32b5ZgClSodPQFFtgJefmsCG+WRnyEiOrby745Gz4/hnjwNJMXJcvTS8MjkBnR4ObnOutDJA9dge4xbG0vm5dOYODzAeO+7GDuG52TLUBRXTZFfa97Z30uLuq8HV01gWv9rG/gDpSVZV/sTOv+mRoKN8Nwb6W+tHR0fj4FB03ilrLcXDqloHFQATJ05k2LBhtGrVitatW7NixQpyc3MZPnx4udJ99pUkAJZuNu+bsXxyAHt/dkddKKXhY9n0ey0BOwcdGSnWXDhhz8T+DUzP+Gs1Enq/ksSo96KQSCAuUsmXH9Rk12b3YvkB9H3amNeKGeY9ahd/3ZE/jgRTxz+VBrWTAfhh6Y9my7w8eQCJJdRsPIjg2qksfX+v6fObr50CYM/+QJavbg9Apw4RIIEDR/yLrd+iaTy+Ptn4+mSz8eufzeZ1e/4V0/9dOt9g5LBTSCQGLl91Z8rsZ7ga5nZncgD0HmLcH0s2XzabvnxKIH/ +XLQ9u76YTEqCnNOHi/cXiQm3Ye7Iugx+O4aPfg7FoDf2c5n1al3Skx+u6l9LHJ+3dRuQzNHdLuRmW/7nHtw0n6U/3zB9fnNeHAB7tjiz/J27d+61NDdvDTM+i8TeWUdmqhWhJ22Z0LsOmWmVe4qrDtvj2VdTAVj2yw2z6csm+LF3a8U8+VPa9368axaTV0Sb5r+7JgqA75d78sPye/c/e1g5ODiYBRUP4naNfGJiIt7eRc3WiYmJNGvWzLRMUlKS2XparZa0tDTT+l5eXiXW+P87j7stc7dWgbuRGAzVf6SO1atXmwa/atasGStXrqRNmzb3tW5WVhaOjo50VgzASlK1EbG6U+MqzR/AOqt6tDFLz14rfaEKpv9X7+mqJKkmdzCGwsLSFxKEKqA1aDjIr2RmZpb7Ql2S29eJkFBP7OzLV5uTk62nVcPEByqrRCJh27Ztppp5g8GAj48PkydPZtKkSaayenh4sHbtWlNHzQYNGhASEkLLlsZxgvbs2UP37t2JiYnBx8eHzz//nJkzZ5KYmIi1tfE6+O677/LLL7+YHnp46aWXyMvLY+fOnabytGvXjiZNmpSpo+ZD8WzZuHHjiIyMpLCwkOPHj993QCEIgiAI90t3q/mjvH9lkZOTw9mzZzl79ixg7Jx59uxZoqKikEgkTJgwgQ8++IAdO3Zw4cIFhg4dio+PjynwqF+/Pt27d2fkyJGcOHGCo0ePMm7cOAYOHIiPjw8AgwYNQi6XM2LECEJDQ9myZQuffPKJWcfM8ePHs3v3bpYvX86VK1eYO3cuISEhZe5qUO2bPwRBEAThvyokJITOnTubPt++0A8bNoy1a9cydepUcnNzGTVqFBkZGXTo0IHdu3ejVBZ1Zt+wYQPjxo3j6aefRiqV8sILL7By5UrTfEdHR/bs2cPYsWNp2bIlbm5uzJ4922wsi3bt2rFx40bee+893n33XerUqcP27dtp1KhRmb7PQ9H8UR6i+cOcaP4oIpo/zInmD6G6qqzmj79DvS3S/NGuYXyFlbW6EzUVgiAIggDoDZK7vvqgLGk8yh6KPhWCIAiCIFR/oqZCEARBEOCBOlqWlMajTAQVgiAIggDokKIrZwX+o/0KOxFUCIIgCAIABgv0qbjbKwseFaJPhSAIgiAIFiFqKgRBEAQB0afCEkRQIQiCIAiAziBFZyhnn4r /9MhPpXtkggqJxDiuelXymnOj9IUq2D9hAaUvVAnqz6v6lwjpwyOquggASO3tqroIAOjE4FeCIJTTIxNUCIIgCMK96JGgL2dXQz2PdlWFCCoEQRAEAdGnwhLE0x+CIAiCIFiEqKkQBEEQBCzVUVM0fwiCIAjCI8/Yp6KcLxQTzR+CIAiCIAjlJ2oqBEEQBAHQW+DdH+LpD0EQBEEQRJ8KCxBBhSAIgiBgrKkQ41SUj+hTIQiCIAiCRTyyNRUDRsfSvls6NQLzURdIuXTanm8X+xF708a0zOKNl2jyeLbZev/b6MHq94qGut4VfrxY2h++HcRfv7kWm57+Qib6BH2x6YrnFdgMUpDRP6vEstq9b4viKTkA2stacj/PR3dVBxKwqi9DNcYGqzpFu9JgMFCwqZCCHYXoE/RIHCUon1egGmb8brI0NW5bY7E9n4VErUfjqSDx9VoUBtjeTgCXbfE4HkxBmqejoI4dScP80HgpTXn4T7qIdYrarJwpL/qQ3vtfw28bDDjtSsLxYApWqWr0dlZkPO1Geh9vABo2TeGFQWEE1c3A1a2Q92e05p/D3v9K0cCQEVfo9mwktvYaLl9w4dNlTYmLKRrWevaHxwmok4mTUyE52dacDXHnu88bkJZq/K6DXrvC4NeuFtumBfky+tZuVOL2vlOjNjm8OCaZOo3zcPXSMvc1f47tdjTNb98jg15DU6nTOB8HFx2jnwkmPNTmHimWztWjkOETwmjVIRWFUk98tA0fz6rP9UsOALR7OomeL8YS1CAbByct4158jPCr9mZpfPjNaZo8lmE27fetPqz+oF65yvZvvYem0GtoKp5+xmMh8qqSDR97EnLAwWJ5lKS0ffJvb38YQ6+hqayZ7cO2r90rtFz/NmBcIiPeTWDbV26smeNbaflWRRlKOw68axUycnYcDVvnYi03cOqAPZ++50tGinWFlelB6AwSdOV8dXl513/YPbJBRePW2ez83pNr522RyQy8OiWGBeuv8EbXJhTmy0zL7drkzvcf1zB9LiwoXrmzfEogp/4qOqHlZJW8WR2/tod/xRTacB3ZE3JQdLZG6iHFeYf5SbHg10LyNxYgf9z4wzPkGciamIO8gzV2k1QYdJD/TT5ZE3Nw3uaIxMp4MOetyEd9QoPtWBtktWUYsgzos4xVctJcLX4LrpFfz47YSUHoHKyQJxSiVxWV2fn3RJz2JpM4shYaNzmuv8TjuyyMyIUNMMiLvn/q895kdnIzfdbbmG8b9w0xqC5mkTLQl0I/G2Q5OmS5WtN8pY2Om2GO7P1fTd5beLLY9uo/OIxn+4fz8YIWJMSreOX1K7z/0THeHPIUGrVxH50/7caW7+uQlqLEzb2AEWMv8u4HJ5k8+gkAftkUxK7t/mbpLvjkb65fdipxH5VEqdITHqrkj00uzPk2osT5oSdsObTTiXeWxdx3undjZ69h2bpTnD/pxOwxzchMt8anZh7Z/zqulDY6Qs84cXiPJ+PnXrlrWrt+8uGHT4uC4IIC2V2XfRDJ8dZ8u9Cb2JsKJBJ45sU05n4XwdiuwUReU5aewAMqbZ/c1q57JvVa5pISX7mnuuCmefQakkZ4aMVtg+pUhnsdBwnR1izcFE74JRumvVgbgGFTE5i/7ibje9fBUI0uwjoLdNTUPeLNH9U+qDh06BBLly7l1KlTxMfHs23bNvr161fudGcNN79b +2hKIJtDTlOnUS4XTxbdZRUWyEhPkd8zrdys0pcBkDqbH6ya7wuQ+kqxam6FRCJB4mr+41If0qB4Wo5EZZyui9RhyDJg87oNMk9jWjav2aAemoU+QY+shgxthI6CbYU4fe+ArNatC4hPUZrO/0tE62JN4kh/0zStu6JoAYMBpz+SSHvWi9wWTgAkjvIn4O3z2J7OIOdxF9OieqUMnVPJdxrWcfk47k8mckEDNN7KW/mYL3PqH09O/eN5l61loO+LN9iyvi7/HDHWXiz/oAUbduymbcd4Du0zBnrbt9Y2rZGcqOLHH+rw3qITyGR6dDopBflWFOQXHeYBQZnUCsjm06VNAfNaqLsJOeBwzzvvfT8bt4lnDfVdlymL/q9Fkpyo4OPZDUzTEmPNaz72/2bcJh4++fdMq7BASnqq4p7LlMfxveaB8NrF3vQemkq9lrkVGlSUtk8AXL00jPkglpmDApn/fXiFleVOSpWOaasjWTGlBi+PT6y0fKuyDPc6Dly95Xj6qRnbNZi8HOM5aen4mvx8+SLNOuRw5rB9SUkKD6lq36ciNzeXpk2b8umnn1ZoPip7HQDZmeZxVuc+KWwOOcXnu87z6pQoFEpdsXXHzItgc8gpVmy7SNcXk+A+IlWDxkDhHjWKXvIS356qvaJFd12HonfRBUFWU4bEUULhb4UYNAYMhQYKdxYi85ci9TLuSs1RDVIfKeq/NaT3zyT9hUxyFuWizzJWkdieyaTA3xav1eEEjDuP36zLOBxMMeVhlazGKlNLXsOiH7peJaMg0BZlWK5ZGZ3 /l0DgmHP4zbqM0++JZu/8tTuTicZdge3ZTPwnXcR/0kU8volEmqPlfnj55OHiVsjZk0WRSF6uNVcvOVOvUXqJ69jZq3myawyXL7qg05V8aHfrHUlMlC2h54s3T1UXjz+ZwvVQB2Ysu8DGg4dZteUE3V6IfaC0OvdMZNNfh/nsl+O8+vaNEo9fS5FKDXTqm45CpedyiG2F5XM/JBIDU1dG8dPn7hUa3JRk3MJYTuxzqNKLZVWW4c7jwFquBwNo1EXnOU2hBIMeGrbOvUdKlU9vkFrk71FW7WsqevToQY8ePSo0D4nEwBuzIgkNsSPymso0/eAONxJj5aQlyQmol8drU6OoEVjAB6ODTcus/6gG5445UJgvpUXHTMbOj0Cp0rNj3b1f7a0+pMGQY0DZs+S7yILf1Mj8pVg3LtpFElsJDqvtyZ6eQ/7aAgCkNaQ4fGxnavrQxerQJ+pR71dj954K9JC7Mp/smbk4rrLHOrkQxwPJZHTzIP1ZLxThebj/EI3BSkJ2B1esMjXGdBzNayB0DlameQAZz7hTWEuFzlaGTVgurj/GYZWhIWWQsQbBOlmNVaoau5PpJIzyR6I34LYxBu/V4cROD6Y0zi7G13Cnp5tvn4x0Bc4uBWbTho8OpffzN1Ha6Lh80Zl5Ux8vMU1ruY4nu8bw4w91Ss2/KnnVKKDXgFi2fe/Hlq/9CW6YxZvTrqPVSNm3w7v0BG45+LsnSfFK0pIV+NfJ4bV3buDrn8eCiY0tWl7/evms2BmGXKEnP1fK/BH+RF2vump/gAFjk9DpYPs3bqUvbEGd+ qYT1Dift3pW3TFWVWW423GQmWpFQZ6UETPj+e5Db8DAiJnxyKzAxUNTarqVSTR/lF+1DyrKqrCwkMLCQtPnrKySOz/+29j5EfgH5zF5QAOz6bs2e5j+j7iqIi3Jmg83XMG7ZgHxUcaTf5qbVRZ2f5qbVRZblyyRWmjp//I+FKDisLfCrF+3Bqpe/ED2FBoQL1Xjc2rymLTcxflYt3YCuU8BQYdFGwqIHtyDo7fOCBRSIyVJGqwm2WLrKaxqtFuhoTM17LRReqQ6KEgQEXqi8ZyF9ZSoYjNx3F/Ctkd7v/uPaN7UbOFuqYKg5UEj7VRpL7og8FaCnoDUo2BxFH+pg6eSSNqUXPOFazjC+6W7AP5eWMQf/xWCw/PPAa9dpVJ751m7tQ2cMdwue2eiMdGpWXfLj+L5m9pEqmB66H2rFtpbNoJv2JPraBcer4YW6agYvfPRcdmxHU70lPkLPr6LF418kiIUd1jzbKJuaFgzDPBqOx1dOydyeRPopjyfFCVBRZBjfPo93oKY7sFc+cxUJHcfdSMnh/HjIGBaAqr5m61Kstwr+Pggzf8eWtRDH1HpGDQw4Htzlw/b4NBX336UwiW8Z8LKhYtWsS8efPue/nRcyNo3TmDKQPrk5Jw77bnK2eNTx141yoKKootc86WQW/HYi3Xo1GX/KPWJejQhGixX1hyFbH6gBpDgQFFd/N+GoV71Oji9Th8YY9EavwxWs21Ja17BurDGhRd5EhdpSDDFFAAyPyN/+sS9WidrFH7mJdd7a3E7mQGANpbNRSyTI1ZfwlZlpbCmnd/oqEg0BaJDqxS1Gi8lWidrDHIMHti5Ha+1qml9z1ITzPuC2fnQtJTi9Jwci4kPMy8/ TYrU0FWpoK4aDuiI+1Zv20P9RqmcyXUxWy5rr0jOfG3JxnpVXsXXZr0ZDnR4ebHRvRNFe27JJUr3SsXjNvNp2a+RYMKrUZKXIRxf4VdUFG3WR79Xk9m5bSqCd4at8nFyU3LDyGDcvmabDjrJrjUxmWJsG91j7wQU1ycfZXcunf1wzy7fx47n0GZ5Cb/8m6Cv4IlqVZbjXcXD6L3uGt6uPg4sWnVZCbpaMTWdDiY8qvS9aZdJT/qc3ij/f92j5zwUVM2bMYOLEiabPWVlZ+PmVdHIzMHpuJO26pjFtUAMSY0q/0NRukAdAWvLdfwi16+eRnSG7a0ABUPg/NRJnCdZtS+7kWPCbGnkH62IdOw0FBmMvmH8f85Jbf7eOZKvGVqADXYwOWY1bwUSUsR1d5iWloI4t8gTzmgLrhEI0brceWXWXo3W0QnUpG3Ut44VHmq9DGZ5L5lN3r0pWROVjkBibSQAK6tgh0YF1YiEaT8WtfIz5GvO6d9+KhDgVaSkKmrZKNgURNioNdRuk8/sdT3P8m1RqrHq0lpv/tD29c2nSIoX509vcM9/q4NJZJ3z988ym+dbKJym+fMFQ7brGjqlpyRXXcRNAIgFredVVAf/5szOnD9uZTVu4MZx9PzuzZ4vLXdYqv7OH7RjV2bxpb9LH0USHKdn6qXuFBxTVpQy3lXQcZKUZzw9N22fj5Kblnz0V++hxWVlm8CvRp+I/RaFQoFCUftIcOz+CJ/ukMn9UMPk5UpzdjHfPudlWqAuleNcs4Mk+qZw86ERWuhUB9fJ4471ILhy3J+KK8WLb5ql0nNw0XDlrh7pQSosOmbw0Jo6fv757FbVBb6Dwf2oUPeSmfhD/povRoT2rxX6ZXbF58tbW5H2WT+7yfJT9FaCH/B8KkMgkWLcw7krrx6yQ1ZWRsygP2/E2xj4Vy/OM02vKSO/mgd8HV3HemUBOayeU4Xk4HkwhaXhNYyYSCRndPHDZkYDGU4HGXYHrL3HonKxNT4Mow3JQ3sgjr74deqWxT4Xbxhiy27mgtzWWI6+hPQW1bPD4JpKUwTVAD+7fR5Hb0P5W7UUeShstPr5FHbW8vPMIDMokO9ua5EQVv/5Ym4HDrhEXbUtCvC2vvH6ZtFQlx26NZVG3QRp16mVw6bwr2dnWePvm8srrV4iLseXyRWezbfdMryjSUpX3eNrk7pQqHT4BRbUrXn5qAhvmk50hIzlWjr2TFndfDa6exvZhv9rG4Ck9yYr05LI/h7/tez+Wrz /FgNcjOPyHB3UbZ9Gjfywr5xU9sWTnoMHDuwAXd2NTX41bQUh6ipz0VAVeNfLo3DORk4ddycq0JiA4h1FTrnMhxImI68WPrQc1fEY8J/fbkxwrx8ZOR+fnMmjSLoeZgwItlkdJStsn2enmpzatVkJ6kjUxNyqulio/V0bkVfPavII8Kdnpxaf/18pQ2nHQ9aU0oq4ryEy1on7LPEbPj2Xbl+4Vuj+EqvGfCyruV+8hxqrkJZsvm01fPiWQP392R6OR0Lx9Jv2GJ6BU6UiOl3NktwubPy16PlOrlfDsK4mMei8SiQTiIpV8uaAmu//VF+NOmpNa9Il6lL1KDnwKf1Mj9ZBg3br4rpHVkmG/2I787/LJekMNEpAFy7BfbofUzRgdS6QSHBbbkftxHpljspHYSJA/bo3qLeMJpTDQlvi3a+P6Yywuv8ajdZOTPLgG2e2K7uDSe3oiKdTjsTbKNPhV7OQg0xgVBispdsfTcNkej0SjR+OuIKObBxnd//W9pRLi3qmNxw8x1Fh4Db1CSl5jB5JfLhrzo069DD5cddT0eeTbFwH483c/Pl7Ygp82BKFUanlr6jls7TRcuuDCrEltTWNUFBRY0a5TPINHXEGp1BmDhuMebJkdjFZT1PwjkRjo0iOKfbv8HuhOLbhpPkt/vmH6/Oa8OAD2bHFm+Ts1ebxrFpNXRJvmv7smCoDvl3vyw/J7960pyfVQBz54pzGvjr/BoDciSIhV8sWSOhz8vSitx59MYeIHRcfu9KWhAGz43J8Nnwei1Uhp9ng6fYdEo7TRk5yg4OifHmz60r/M5bkXJzctU1ZG4eKhJS9bxs3LSmYOCuT0oYp96qC0fSJUrtKOgxq1Cxg+Ix57Jx2J0dZsWunJL19Wbifa+2GZd3882jUVEoOher/9JCcnh7CwMACaN2/ ORx99ROfOnXFxcaFmzdJPHllZWTg6OvKUcgBWkqptv3PeVzl3K/fyT1hA6QtVgvrz0qq6CGjDI6q6CADI3KrH4626lNSqLoIglEhr0HCQX8nMzMTBwfJNJrevEytPPY6NXfnutfNztLzd8p8KK2t1V+1rKkJCQujcubPp8+3+EsOGDWPt2rVVVCpBEAThv0bUVJRftQ8qnnzySap5ZYogCIIgCDwEQYUgCIIgVAbLDH4laioEQRAE4ZGnN0jQl3ecimr0grSq8GiHVIIgCIIgWIyoqRAEQRAEjANXlbf5Qgx+JQiCIAiCRd4y+qi/pfTR/vaCIAiCIFiMqKkQBEEQBECHBF0532xb3vUfdiKoEARBEARE84clPNrfXhAEQRAEi3lkaioMWh0Gyb1ft13RTu2vV/pCFSx8xOdVXQQAes3tW9VFqDYk9/FWXUEQKp6O8jdf6CxTlIfWIxNUCIIgCMK9iOaP8hNBhSAIgiAgXihmCY/2txcEQRAEwWJETYUgCIIgAAYk6MvZp8IgHikVBEEQBEE0f5Tfo/3tBUEQBEGwGFFTIQiCIAiIV59bgggqBEEQBAHQWeAtpeVd/2H3aH97QRAEQRAsRtRUCIIgCAKi+cMSRFAhCIIgCIAeKfpyVuCXd/2H3SMbVDRqnU3/NxOp0zgPV08N816vzbE9TiUu+9bCSHoNSWHNvBps/8bTNN03oIDXZ8bQoFUOVtYGIq7YsG6ZL+eP2Zea/8gmZ5j82HHWXWzMwuPt8bXLYv9LG0tcdvy+Z9gdUdtsmpOigF+f+xEv21xafT+cbHXR+yMG1b/ IkAYX8bXLJj7HjqWbG3NhixXyuBy6zWrGnG9u0q5Hpml5gwHWL/Vi90ZXcrJkNGiVy9sfRuMbqDYtM7R1AxJj5GZleG1GHC+9lQRAdJiCldNrEHVNSW62DFdPDZ2fS2fIxASsrIt/J31OLvrkFCQqG2SeHgDYqLQMGXmFdk/E4+hcSPg1R75Y0YjrV5wBUNpoeXX0Jdp2TMDeUU1inIodPwWya7u/KV1nlwJeG3uJ5o8lY6PSEhNlx5b1dfj7oE+p++RuGrXJ4cUxycZjxUvL3Nf8Obbb0TRfqdIxYmY8bbtl4eCsJSFazq/fuPG/790eKD+p1MCgUdfp3D0OZ9dC0lIU/PlbDTZ/UxtuPQPfrnMCPZ6PIqheFg5OGt4a3J7waw5m6Sxac5wmLdPMpv3+sx+fftjogcpVkpfGJdK+ZyZ+QYWoC6RcClHxzQJvYm4oLZZHWfO0d9LyyuQEWnTKwcNHTWaaFX/vdmTdEi/ysmUVVi4AVy8NI2bG8VjnbBQ2euIiFCx/x4/r51UVmu+/9R6aQq+hqXj6GX+/kVeVbPjYk5ADDqWsWTF5VuX+ECrfIxtUKFV6bl6yYc8WV2Z/FX7X5dp1S6de81xSEopfGed9F0bcTQXTBwZTWCDluRFJzP8ujOEdG5GeXMKV9JbGbkkMrHeJK6mupmnxuXa03zjUbLmX6l5iRONzHIqpWSyNBR0PcjXNBS /bXLPpL9cLZVKr47x3pBMXUjxo4p7EywGnSAluwPUWAXhsulYsra2fevDrt+5MXhGJV00165Z48+6g2nx18ApypcG03NAp8fQYnGr6rLLTm/63sjbQpX86QY3zsHPUER5qw4opfuj1El6bEW+WX0K0HH1aOtzxIq23p5+lVmA2y+a3IC1FQeduMSz45BijB3cmNcWGkW+F0qRlMsvmtyAxXkWL1kmMmXSBtBQlx494ATBx1hls7TTMn9aarEw5nZ6JZfr8ECaM6ET4dUcehFKlJzxUyR+bXJjzbUSx+W/MjaNZ+xyWvFWTxGg5LTpl89aiGFITrflnT9nz7D80nJ4vRPHx3CZEhttRp34mE2ZfIDfHip1b/AFQKHVcOufM4T+9Gf/exbumtXubHz98Ucf0uaDAsndRTdrmsnOtG9fOqpBZGXh1ejwLN4UzslNdCvMr5oJRWp4unhpcPbV8Nd+bqGtKPGqoefvDGFw9NXwwyr9CygRg56jlo1+vc/5vO94bEkhGqgzfQDU5mZV74UyOt+bbhd7E3lQgkcAzL6Yx97sIxnYNJvJaxQR798oTiaFK9seD0Bkk6MrZfFHe9R921TqoWLRoEb/88gtXrlzBxsaGdu3asXjxYurWrVvutEMOOhJy8N4nfFdPNaPnR/PeK3WY/12Y2TwHZy01Agv5eGotbl4x3oV8+6Evzw5Lxr9u/l2DCpWVhqVP7uO9I50Y3eyUabreICUl3/xupov/TXbdrE2e1jytl+uFYi8v5LMzrejkF202r0/QNbZcacCum0EAxGQ70Lh1EtPm3WDQ/xoXK4/BANu/dufl8Qm0654FwNSVkbzUtBF/73bkyX4ZpmVt7PS4eJT8plfvWmq8axXdFXvW0HD+ WDoXj9uaLafTweKxNZE6O2IoKAS9MTCRy3W07xTP+9NbE3rOGGxt/LYebdon0vO5CL7/qj71Gqexb5cfF84YawB27/CnR99Iguunm4KK+o3S+HRZE65dNtZubFkXTL+XbhBUL+OBg4qQAw73vMtr0CqPvT+6cP6YHQC7NrjS65VU6jbLe6Cgon6TdI7/5cnJo8YanKR4FZ26xVO3YSY7by1zYJcvAB7eefdMq6BASnpqxb0FdebgQLPPyyfUZOvFUOo0yeficbsqyTPyqg3vj/Q3zY+PVLB2sTdTV0UhlRnQ6yrmpD9gbBIpcXKWv1N0E5AYXflvoD2+1/yYW7vYm95DU6nXMrfCgop75fnHJtcq2R8PQvSpKL9q3fjz119/MXbsWP755x/27t2LRqOha9eu5Obmlr5yOUkkBqasiOCnLzyJvGZTbH5WuozoMAVdXkhDYaNDKjPQc3Ay6clWXL9w96rO2e0O81d0TY7F1bhn/g1dk2ngmspP18xfl17bKY0xzU8x7a+n0BuKryeX6SjUmd8ZFeqsaOyehJWk+Et5E6LkpCVZ06JjjmmarYOees3zuHzKPCDYutqD/g0bMeaZYH78zB3dPd4kH3tTTsgBB5q0zTGbvuEjL5zctEjtzZuIZFYGZFYG1GrzQ7KwUEaDJsZg5coFF9p0SMTVLR8w0KRFCj41czh9wsO0/OWLLjzxdBx29mokEgNPPB2LXK7nwmlXKsqlEBWPd83E1UsDGGjaLgffwEJO/VV6M1hJLp93puljqfjUNB7nAXWyaNA0nZC/y96c0rl7HBv3/smnmw8zbOxVFIqKfTGzrYMx/eyMyrs7v588bR105OVIK/QC9njXLK6ds2HmFxFsOR/Kp3uu0mNQaukrViCp1ECnvukoVHouh9iWvkIl5VkZ++NBGG69pbQ8f4ZHfETNal1TsXv3brPPa9euxcPDg1OnTvHEE0+UuE5hYSGFhYWmz1lZWQ+U94AxCeh08Ou3HndZQsKMQcHM/voG2y6fxaCHjFRr3htah5zMkjdrz8AwGrim0H/H86Xm37/uZcLSnTmT5GWaZi3V8dGT+1h64nHic +3xsy/+3Y7E+NG/7hX+jAwgNNWNRm7J9A++jFymx1lZUGz5tCRjWZ3cNWbTndw1pnkAfUckE9Q4H3snLZdCbPlukTdpSda8MTfObL0Jz9Yh7KINmkIpPYekMHRKgmnexeO2/LHZhc/2XGVQn6Zm6+XnWXH5gjMDX71GdKQ9GWkKOnWJoV6jNOJjjSemzz9uxFvTzrH+171otRIMegkrFzc11WwAfDirFdPmh7Bl9260WgmFBTI+ePcx4mMr5q4Z4LP3fBm/JIaNpy+h1YBeL+GTKTUe+E79x3WBqOy0fPHjIfR6CVKpgfWfB3Nwt2+Z0vnrD2+S4gNJTVYSUCeL4eOuUqNWLgumtnigcpVGIjHw5rxYLp5QEXm1eCBeVXk6uGgZNCGRXT9UXGAJ4F1TTe+hqfzypTubV3kQ3DSf0e/HotFI+PNHlwrN+07+9fJZsTMMuUJPfq6U+SP8ibpecf1cypJnZe0PoWpU66DiTpmZxs6FLi53/4EuWrSIefPmlSufoMa59B2exLhe9eGuL4cxMPaDKDJSrJjcvy7qAindBqYw99swxj9bn7Qk8yYLN281Mx8/ymu7eqPW3XuzK2RaegeG8dnZlmbTJz12nBuZTuy4EXzXdT872xJ3VR5b+mxDgoHUfBu2h9VlZJOz5aqWe +GNZNP/gQ0KsLY28Mk0P4bPiEeuKKoyeXdNBPm5UsJDbfj6Ax9++tyDAWOTyMuRsuTtmkxYGo2ja8l3y8veb8GEGWf5/tc96LQSwq45cuhPX4LqGvd7n/43qdcwnXlTW5OUYEOjZmmMnnSetBQlZ0PcAXhl5BXs7DS8+3ZbsjLlPN4xgenzQ5g6pgOR4RXTUa3vaynUa5nH7GH+JMXIafx4LmMXxpKaaM2Zw2WvrejYJZ4nu8ex9L2mRIbbExicxaiJl0lLVrDvf/eu4fq33duKquEjb9iTlqJk0ecn8PLNJSHW8net4xbGUqteAZP6BVk87QfNU2Wn4/31N4m6puT75V4lLmMpEilcP2/Ddx96A3Djogr/egX0eiW10oOKmBsKxjwTjMpeR8femUz+JIopzwdVaGBxP3lW5v54EDok6Mr5QrDyrv+we2jqafR6PRMmTKB9+/Y0anT33uszZswgMzPT9BcdHX3XZe+mUescnNy0fH/sAv8LP8X/wk/h6adm5HsxrDt6AYBm7bNp/XQmH44L5FKIHWEXVXz6Xk3UBVK69C9e5VmncR5uNvn80u8nQod/QejwL2jjHc8rDS8QOvwLpJKiTo/dA8JRWmnZHmYePDzuHUt3/3DT+mt7/AbAP4PX8lbzk4CxqePdw51ptnYET20ZzJNbhhCbbU+O2pq0guJ3crf7SGTc0QckI9n6rv0nAOq2yEOnlZAYbf5EiIevhlrBhXR+LoPX3o3nh+Ve6HQQH6EgMVrB7GGB9PBrivZmJIacXAx5+cb/NRoSYm2ZPq49zz/dk2HPP8PEkU8gszKQEKdCLtcx9I3LfL2yESeOehFxw5Hffg7g8D5fnn/Z2N /FyzeXZ/vfZMWiZpw75c7NMEc2fVeXsCtO9H7h5l2/S3nIlXpenZ7Al3N9OL7XkZuXbdjxnRt/7XCi/5vJpSdQgtfGX+XHdYEc2utD5A17DuzyZfsmf1589e4diu/H1YvGdm8fv3v3w3gQYxfE0OaZLKb2r01KvLz0FSohTxtbHQs2hpOfK2XeCH902oo92aclWRXrsxB9XYGHr/oua1QcrUZKXISCsAsqvlvkzc1LNvR7/cGOR0vlWdn740HoDUX9Kh78r2x56nQ6Zs2aRUBAADY2NtSuXZv3338fg6EoIYPBwOzZs/H29sbGxoYuXbpw/fp1s3TS0tIYPHgwDg4OODk5MWLECHJyzJufz58/T8eOHVEqlfj5+bFkyZIH3lZ389DUVIwdO5aLFy9y5MiRey6nUChQKMrXOWrfz66cOWx+V7vgh+vs+8WFvVuN7doKG2MQoNebr2vQG6tk73T2qD29fxlgNm1RxwOEZzrx1fnm6P/VDvdC8GX2R/mTfkcQ8Na+riitiu7yG7slseiJgwz+X1+issw7SmkNMhLzjNXvPQPDOBBdq8RX8nrVVOPioeHMETtqN8oHIDdbypUzKnoPTSm+cW4JD7VBKjXg5Hb3wEOv51YzBfgFFfDF/iumeWNe6Yw+PQP0BqSuzmBVdCgWFlhRWGCFnb2aFq2T+O6zBsis9FhbG4r9YPU6CZJbm+52fwGD3vx76vQSpBV0/rKyMmAtNxQ7DvQ6kEjLeHa5RaHQYbgzPb0EaQnHVVkEBmcDkJZiyc6DBsYuiKVd90ym9A+qpI6JpeepsjNewDRqCXNeDUBTWPH3T5dO2uJXu9Bsmm9gIUmxlRNk3YtEAtby8h0/5cmzKvbHw2Lx4sV8/vnnrFu3joYNGxISEsLw4cNxdHTk7bffBmDJkiWsXLmSdevWERAQwKxZs+jWrRuXLl1CqTQGsoMHDyY+ Pt7U/3D48OGMGjWKjRuNQxVkZWXRtWtXunTpwpo1a7hw4QKvvfYaTk5OjBo1ymLf56EIKsaNG8dvv/3GoUOHqFHj/qt/70Wp0uHjX3QC8PIrJLBBHtkZViTHycnOMN80Oo2E9GRrYsKNO/DyKTtyMmVM/iiCDZ94oy6Q0uPlFDz91JzYX7zHf36ujJvp5lWgeVorMgqUXP/X9Jr2mTzmFc+oP3oWSyM62zxdZ4UxCLiR4Wwap8LfIYMm7kmcS/bAQV7I8Mbn8ZOnM33T48jzjB3/EqLl3Lhog72TFo8aGvq9nsymTzzxDSg0PVLq6qmhXXdjs8OlEBVXztjStF02Kjs9l0/ZsmaOD0+9kI69k/FCvv8XZ2RWBgLq52MtN3DtnPFupVOfdOM4FdYG/OsV9emQyOUglQJ64/9Ai9ZJSCQQE2WLd41cRoy9REyUPXv/VxOdTsr50668NvYS6kIZSQk2NG6eylM9ovl6ZUMAYiLtiI22ZdzUc3yzuiFZWXLadoyn+WPJzJvapqTD4L4oVTp8AoruNr381AQ2zCc7Q0ZyrJxzf9syclY86gIpiTHWNGmbS5f+6Xw578HGxjhxxIOXht8gOcGGyHA7atfN4rlBN9m7o+jYt3NQ4+FVgIubcZv61jLu2/RUBempCrx8c3myezwhR93JyrQmoE42I9+5zIXTzkSEWa4ZaNzCWDo/l87c4QHk50hxvtU3JzdbhtrCj6/eb54qOx0LN4WjsNGz5C1/VHY6VHbG4zQz1Qq9vmIizF++dOfjHdcZ+FYih3Y6Ubd5Hj2HpLFiimXOWfdr+Ix4Tu63JzlWjo2djs7PZdCkXQ4zBwWWvnIF5FlV ++NB3O5sWd40yuLvv/+mb9++9OrVCwB/f382bdrEiRMnAGMtxYoVK3jvvffo27cvAOvXr8fT05Pt27czcOBALl++zO7duzl58iStWrUCYNWqVfTs2ZNly5bh4+PDhg0bUKvVfPvtt8jlcho2bMjZs2f56KOPHp2gwmAw8NZbb7Ft2zYOHjxIQECAxdIObpLHkq1FYza8MScGgL0/urJ8kn+p62elW/He0Dq8OiWOxZuvIbMyEHXNhnmv1+bm5Qcf6OaF4Csk5NpxJNbvgdaXSgwMb3yOAMdMtHopx+N9ePXLZ7BeFc7tS9wXc40d/p4ZkMbkFVEMGJtEQZ6UT6b6kZMlo+FjuSzYEG4ao8JabuCvX534YbkXGrUELz81z49K5vlRRVWbUpmBrZ96EBuuwGAAjxpq+gxP4fmR91/lqrLT8Oqbl3FzLyA7y5qjf3mz/ov66HTGH+mSOS0Z9uZlJs85jb2DmqQEFeu/qM/vtwa/0umkzJ3chldHX2b2kuPY2OiIi7Hlow+aE3LM8x4531tw03yW/nzD9PnNecbOqXu2OLP8nZosGl2L196NZ9rqSOyddCTFylm72Jvf1j9YR7Q1Sxsw5M1rjJkWiqOzmrQUBbt+qcmmr4v6DTz+RBLvzLlg+jx94VkANnwZxMav6qDVSmnWOoW+AyNQ2uhITlRydL8Xm7+tfWd25fLsq8amvmW/3DCbvmyCH3u3Vkw/gtLyDGqcT/ 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 ogE4vJdgzpcSDdPzTx0jOVlHXK9VsulRqoFBjxeYTjXi63s0Sy3Etw5mh+541fdb9K30bmZZDcTU5FFeTKc2PF1u3tkMGEomBWcefIDLHkWDHNBa0+QsbKy0fnmkLwBM+USxvv5/5Ie05Eu9HbYd0FrT5i0KdFd9fawSAUqnl5g1H9vxei1kfFM9HqdQResGVwwd9GT/lTInfo16DVN5fcpStG+vy+cqm6HQSAmtnov/XM11T3zuJs2sBMyd3QGal551pp3h70mmWfNC6xDTv1KRtLjvXunHtrAqZlYFXp8ezcFM4IzvVpTBfhounBldPLV/N9ybqmhKPGmre/jAGV08NH4zyv688SjLhlbbIZEVfpFbtHBZ8HsKRP71ISVQypOuTZst3fz6a51+JIOSom2lav8ERPDckgm8/CebqRSeUSh2ePvc+RssqOd6abxd6E3tTgUQCz7yYxtzvIhjbNZjIa8UDcEuoqn1SFsFN8+g1JI3w0IrZBqWJuKJk+kuBps86XcVe6Eo7DpQ2ekIO2hNy0J4R7yZUaFnKw2CQYChnUFDe9R921TqoqFGjBh9++CF16tTBYDCwbt06+vbty5kzZ2jYsGG50g454EjIAce7zDXQb0QSm1Z6cWyPEwBLJviz5cx52nXL4K8dLqYlW3XOpOUTWbw/KpDWT2XdM89D1/3NPn96oA39W16isW8i4ckuTOr6N5tPNmLt381Ny0SmOhVLp13tKNrWjmHyj13pUCfabF6BxppFu54AoKlfAvZKdbH1tXopKQUl16asvdoEgDYesSV/h/iaHIovqlmJznEg4HIGg+qEmoKKfgHX+DPan03XG5qWWRPanFENzvD9tYaAhJATXoSc8CopCwD27zXm4eGVe9dlRo07z45favPjxrqmabHR9qb//Wpm0apNIuPf6Mz1q84ArFnZlHkf/s3Xnzcm+a4pF5k5ONDs8/IJNdl6MZQ6TfK5eNyOyKs2vD/S3zQ/PlLB2sXeTF0VhVRmQP+AJ/OsDLnZ5/ 6vhhMXbcOFU86AhPRUhdn8tk8mcWSvl6kGxs5ewytjrjN/QgvOnXQ1LRcRZo8lHd9r/htau9ib3kNTqdcyt8KCiqraJ/dLqdIxbXUkK6bU4OXxiaWvUAF0OkhPtq60/Eo7DrZ97Q5Ak7Y5lVYmoWpU6z4Vzz77LD179qROnToEBwezYMEC7Ozs+Oeffyo0X6+aalw9tZw+XHQCzsuWceWsLfVbFl3knNw0TFgSxZLx/hTml21TSiV6ujYMw8Zaw/kYT5xV+TSukURarg3fvbqNve+s46uhv9LML95sPRfbPGb1/ov3tj9FgebBYkJ/h0yOPree/X02sLzdn3irsh8ondvs5Woy1UUXELlUR6HevGqzUGeFt20uvrbly+s2R6cC6jVIJyNdybLVB9nwy/9YvOIQDRqnmJap1zCN7GxrU0ABcOaUBwaDhLr10x4oX1sHHQDZGXevurV10JGXI7XYxcvKSk/nnvHs/bUGlDAwT1C9TGrXy2bPr0VV7M0eT0UqAVePAtb8dIR1vx9k+odncfO0bE3Fv0mlBjr1TUeh0nM5xLbC8rlTVeyTexm3MJYT+xw4c9iyAVxZ+Aao2Xg6lLXHLjNtdSTuvsVvLipKVR0HlqBHYpG/R1m1rqn4N51Ox48//khubi5t27a963KFhYUUFhaaPmdl3bv2oCQu7hoAMlLMI/2MZCvTPDAw+eNI/ve9G9fP2+JZo5D7EeSRytrh25Bb6chXWzPpx27cTHGhsa /xjuaNJ0JY8Wdbria60bvxVdYM2cmLXwwgOs0JMDCvzwF+OtWAy/EeeDuW/budTfVk2rHOhGc54WGTx1uNQ9jc9Vd6/jaAXK289ATuUMsuk6HBF/nw9OOmaYfj/ZjZ8m/aesbwT6Ivtewzea3+OQA8bPKIzS1/e7uXTx4Ag1+9zDefN+JGmBNPd4ti0fIjjB7ehbhYO5xdCshMN7+j1+ukZGfJcXa5v/31bxKJgTfnxXLxhIrIqzYlLuPgomXQhER2/eBa4vwH8XjnJOzstPy506fE+V37xRIVbsvl80XBk7dvHhKpgQGv3eTLZfXIzbZi6JjrfPDZKca91A6t1nL3E/718lmxMwy5Qk9+rpT5I/yJul451f5VtU/uplNfY7+Bt3rWqfC87ubKaRXLJvgRc0OBi4eGIZMSWb4tjDc61yU/t+L6MVTlcWApok9F+VX7oOLChQu0bduWgoIC7Ozs2LZtGw0a3L2j2aJFi5g3b16Fl6vva8nY2OrYsvruVfgliUhx4uUvX8ROoebpBuHM73OA19f3QSIxtp//croBO84ZO1RdTXCjdUAsfZtdZfX+Ngx87CIquYbvjja/Vxb3dCiuqOniaoYrZ1M8ONRvAz1r3eDHG/XLlJanTQ7fPvU/dkUFsuVG0T7ZElafmnZZfPXkLqykenI0ctZdbcz4JiEW+8FJb22vXTv92bvbH4DwMCeatUiia88I1n7VyCL5/Nu4hbHUqlfApH5BJc5X2el4f/1Noq4p+X552Y6Le+naN4aQv91ISyl+gpYrdHTqHs/mr2ubTZdIwNrawBdL63HmH2M /i8XvNuWHPQdo8lgap4+5FUvrQcXcUDDmmWBU9jo69s5k8idRTHk+qFIuKFW1T0ri7qNm9Pw4ZgwMLNbvqjL9u5Pszcs2XDljy/cnLvFEnwz+2FRxgVVVHgdC9VHtg4q6dety9uxZMjMz+emnnxg2bBh//fXXXQOLGTNmMHHiRNPnrKws/Pz8ypRn2q22SCc3DWlJRbUVTu5aboQa74aatcumfstcfgs370S4+vcr7N/mwrJ3/EtMW6uXEZ1ubH+8nOBOQ+8kBrW+wHe3+lGEpzibLX8zxRkvB2OTwWMBsTSpkcg/735ltswPr//Mrgt1mLPjqTJ9T4BsjYKb2Y7Usi9brYeHTS4/dNnJ6WQvZh7vdMdcCUvPPs7yc61xV+aRVmhDWy9jH43oHMs8FZCWajxRRUWapxcdaY+7h7GKPz1NiaOzeY2EVKbH3kFNepoCKP50xd2MXRBDm2eymPRcbVLii9fo2NjqWLAxnPxcKfNG+KPTWiZ4cvfKp1nrVBZOKTmQbP90Igqljn2/mddipKUYa2iiwu1M07Iy5GRlyHH3smwTiFYjJS7CmF/YBRV1m+XR7/VkVk4r2++urKpqn9xNUJN8nN21fPrHNdM0mRU0fjyXPsNT6O3fBL2+8u9ic7NkxIQr8PGv2CaQqjoOLEl01Cy/ah9UyOVygoKMdyEtW7bk5MmTfPLJJ3zxxRclLq9QKFAoFCXOu18JUXJSE61o3iHb9Hioyk5HvWa5/LbeeIf32Ww/1i4tOpG7empYtDGMhWMCuHLm/tsRpRID1lY64jLsScpSUcs1w2x+TdcM/g4z1i4s3d2ezw4UPbXgbp/LZ4P/ x/Sfn+FirMcDfVeVlYaadllszy+542ZJPG1y+KHLTi6muTPtnycx3KUNUW+QkphvvKg9WyuM08mepBWWXEVdVokJKlKSldTwM++j4euXQ8hxTwCuhLpgb68hKDidsGvGYK1p82QkEgNXL7sAcfeRk4GxC2Jp1z2TKf2DSIwufmyp7IwXL41awpxXAyx6l/pMn1gy0+WcOFJyzULXvjEc/8ujWMfOS+ecAKhRK5fUJGMAZuegxsFJTVK8ZfbB3UgkYC2vyNcqVe0+uZuzh+0Y1TnYbNqkj6OJDlOy9VP3KgkowNhx1KeWmn0/V+7pvuKPA8sTzR/lV+2Dijvp9XqzPhMPSqnS4eNflI6XXyGBDfLIzrAiOU7O9m88ePntBGJvKkiIVjBschypidb8fWssi+Q485N4Qa7xpBUXoSjxrglg3FPH+TvMj/hMO2wVGro3CqOlfxxjN/QCJKw/1ow3OoVwLdGVawlu9G56FX/XDKb+1BWAhCzzjl95auPui0l3ICm76I40wC0Na5keR5tCVHINwZ7GzovXEt2Y3vwY+2NrEZtrh4dNHuObnERvkPBbhDFwc1Pm4W6TZ6q5qOuURq7WmrhcOzLVSjxtctjQZQexufZ8ePpxXBRFd/u3nyhxVuTTvWY4xxN9UMh0vBB4hR41bzDozz5F299Gi49vUU9wT69cAoMyyM6Sk5ykws5ejYdnHi6uxvRr+BmXTU9Tkp6mBCT8vCWYIa9eIvyGE+FhjnTpFkmNmtksmNMGgOgoB0KOe/L25NOs/qg5VlYGxow/x6H9NUhLvb8L67iFsXR+Lp25wwPIz5HifKtPTW62DHWBFJWdjoWbwlHY6Fnylj8qOx0qO2PHwcxUq3JdSCQSA8/0iWXfb77odcUvit41cmnUIp25b7coNi8uypZjBz0YNfkKqxc0IC/XimHjrhMTYcv5EJdiyz+o4TPiObnfnuRYOTZ2Ojo/l0GTdjnMHBRY+ soPqCr3yb3k58qK9esoyJOSnV58ekUaOTuOf/Y4kBQjx9VLwyuTE9Dp4eA259JXfkClHQfO7hqcPbT4BBjPuQH18snLlZEca012RvW5DImaivKrPnuzBDNmzKBHjx7UrFmT7OxsNm7cyMGDB/nm7cyMGDBjjz/KnXZw0zyW/njd9PnNucbq+T1bXVg+0Z+tn3miVOkZvzgKOwcdoSftmDkkqFx3PC6qfOb33Y+bXR45hXKuJ7oydkMvjt80Vg9uPNEEuZWOSc/8jaNNIdcSXRmzoTcx6Xd79LVkq17+HR+nogv25lE/AdDi/TfxUuXwcfs/cVYUkFZoQ0iSF/3/eM5UgzCoTqjZ4Fibu/4KwNRjT/JLeD3ae8fg75CFv0MWR5//wSzfoA1vmv5/PuAa05sfQyKBM8meDP6zD+dTPU3z69RNZ/GKw6bPo8ZdAGDv7pp8/GErHm8fz8TpReWYPucEABvW1mPDWmPT168/BSGX6xg19jz29mrCbzgyc3IHEuKKAqwlHzzGmPFnWfjREQx6OHrIlzWrmt73tnz2VeM4IMt+uWE2fdkEP/ZudSGocT71Wxo7ja49dsVsmaGt65MYU /bOr7c1a5OKh3eB2VMd//ZM31hSkpSc/qfkWozlsxszauIV5n5yGr1ewsXTzsx+qyU6C3bSdHLTMmVlFC4eWvKyZdy8rGTmoEBOH6q4Jx+qcp88DNy8Ncz4LBJ7Zx2ZqVaEnrRlQu86ZKZV3Om+tOOg19BUswG5lm837rvb+0z475AYDIZqWz81YsQI9u3bR3x8PI6OjjRp0oRp06bxzDPP3HcaWVlZODo68qT0eawklffcdkmS37i/AZcqUlbF3UCWSfBXSVVdBHTXbpS+UCWw8q7YDoT3SxtffQclEh5tWoOGg/xKZmYmDg6WH6319nWixU8TkdmWr/lcl1vI6f4fVVhZq7tqXVPxzTffVHURBEEQhEeEASjvbXa1vUuvJNV68CtBEARBEB4e1bqmQhAEQRAqix4JknKOiClG1BQEQRAEQTz9YQGi+UMQBEEQBIsQNRWCIAiCgHHgKokY/KpcRFAhCIIgCBif/Cj30x+P+OMfovlDEARBEASLEDUVgiAIgoDoqGkJIqgQBEEQBERQYQmPTlCh14Gkalt7vDZfKX2hCubp51n6QpVAfzO6qotQbehS0qq6CIIgIDpqWoLoUyEIgiAIgkU8OjUVgiAIgnAP4umP8hNBhSAIgiBwO6gob58KCxXmISWaPwRBEARBsAhRUyEIgiAIiKc/LEEEFYIgCIIAGG79lTeNR5lo/hAEQRAEwSJETYUgCIIgIJo/LEEEFYIgCIIAov3DAkRQIQiCIAgAFqip4BGvqRB9KgRBEARBsAhRU3HLS+MSad8zE7+gQtQFUi6FqPhmgTcxN5SmZd5eHE3zjjm4emrIz5NyOcSWbxZ4Ex2mvEfK9+/F1yMZ/s5Ntn/vy5cf1gHAyy+f1yffoGGLTKzlek4dceHzhXXISJWb1vtuzzE8fQvN0vru4wB+/LpWifk0apRE//5XCaqThqtrAfPntefYsRolLjvurRB69brBF2uasX17XQA8PHMZNCiUpk2TcHYuIC1Vyf79/mzeXB+tVmZa1z8gg7FjTxEcnEZmpoIdv9bhp5/q3/X7N2qdTf834qnTOA9XTw3zRgZxbI+zab6Tm4YR06Np8UQWtg46Lh6347M5tYiLMG5/O0ctr0yMpWXHLNx9C8lMtebYHifWLfclL/vBD/VGbXJ4cUyysVxeWua +5s+x3Y7/WsLA0CmJdB+Uip2DjkshtqycXoO4m4oHz7OUbQHgF5TPiOkxNG6TjczKQNR1Je+/GURyXFG+9VvkMGxKDPWa5aLTQfglFTNfqYu6sGLuJwaMS2TEuwls+8qNNXN8KySPktzP77eyPPtqCv1HJ+HiriX8kg2fvefL1bOqSsu/9OO14vUemkKvoal4+qkBiLyqZMPHnoQccKjUcpSVGFGz/ERNxS1N2uayc60bE3rXYcbAQGRWBhZuCkdhozMtc/28iuXv+DGyUz1mDgoECSzcFI5UWv6jqE6jLHq8GE/4VVvTNIWNjgVfnsNggBmvNWXykOZYWeuZ8+kFJBLzPL9f5c/gTm1Nfzs2lBwkACiVOsJvOvHZpy3vWaZ27WKoVy+VlBQbs+l+NbKQSAysWtmKN9/ozhdfNqdnrzBeffWCaRmVSsOCBX+RlGTLW2915ZuvmzF4SCg9ety4e7lUOm5eVvHprJKCIQNzvrqOV81C5r0exLieDUiKVbBow1XTPnL1VOPqqeGrBX68+Uwjlk8OoGWnTN5ZEnHP71kapUpPeKiS1e+WvE0HjE2m72vJrJpeg/G961CQJ2XhxnCsFfpy5HmvbQHeNQtY/tNlom8omTqwLqO7NWTjSh+zYKF+ixw+WHeN04ccGd+nAeP7NGDHOs8KO+kFN82j15A0wkMr/ 0J+P7/fytCpTzqj5sSx4SMvxnYLJvySkgUbw3F01VRaGUo7XitDcrw13y70Zlz3YN7qEcy5o3bM/S6CWsEFVVam+3G7o2Z5/x5lD1VNxYcffsiMGTMYP348K1assGjaMwcHmn1ePqEmWy+GUqdJPheP2wGwa4OraX5ijJx1i71Ys+8ann5q4iMf/K5UqdIydfFlVs4JZuAbkabpDZpn4uFbwLj+rcjPNe6q5e/WZ+uxIzRtk87Zf1xMy+blykhPub8yhIR4ExLifc9lXF3zGD36NDPf68T8+YfM5p065c2pU0XrJyTY8XONbHr1CuPrr5sB0LlzJNbWej7+6DG0WhlRkY4EBqbz3PNX2bWrdsnlOuhEyEGnEuf5BhRSv0Uub3RpROR1Y5CzamYtNoWcpXPfNHZvdifymooP3gwyrRMfpWTd0hpMWRGOVGZAr3uwH3vIAYd73GEZ6Pd6Mps+8eTYH8a7wSVv12TLuVDadc/kr1+d77JeKXneY1sADJsSy8kDTnyzyM80LT7K/GI+alYUv671YOvnRfsqJtw8QLQUpUrHtNWRrJhSg5fHJ1ZIHvdyP7/fyvD8qBR2b3Rhzxbjb3PltBq0fjqLbi+nsXV15bwh+N7Ha+U4vte8ZmTtYm96D02lXstcIq9VftApVJ6Hpqbi5MmTfPHFFzRp0qRS8rN1MN7hZGfISpyvsNHR9aU04iPlJMdZlyuvMe9d58QhV7MgAcBargcDaNRFu0ldKMWgh4YtMs2WffH1KDYfPcKqn0J4YXgUUtmD3yVLJAYmTznOTz/VIyry/qpNbW01ZGcXNcnUq5/ChQvuZs0hp0554eeXjZ2dusxlspYbv4+6sCgwMBgkaNQSGrbKvnu5HHTk5cgeOKAojVdNNa6eWk4ftjdNy8uWceWMivot8yokT4nEQOunMoi9qWTB+qtsPnWGFdsv0bZrumkZR1cN9VvkkpFqzUe/XGJTyBmWbLlyz21VHuMWxnJinwNn/rUdqlJpv9+KYGWtp06TPLNjwWCQcOawPQ0q6Fh4GEilBjr1TUeh0nM5xLb0FaqSQWKZv0fYQxFU5OTkMHjwYL766iucne9951dYWEhWVpbZX1lJJAbenBfLxRMqIq+a39n1HpbC9usX2HHjIo89lc2MgYFoNQ++GZ/okUhQ/RzWfhxQbN6Vcw4U5Mt4bdINFEodChsdr0+5gcwKnN2LLsw7NtRg8eQGTB/ejF1bvRkwMooRk8IfuEwvDriMXifh11/r3Nfy3t7Z9OlznV2/F9VAuDgXkJFhXnOSkWG8Q3F2LnsVaPQNJYkxcoZPi8HOQYuVtZ4X34zH3UeDi0fJVcsOzhpefiuOXZvcy5zf/XLx0AKQkWxe6ZeRbHXXcpWXk5sWlZ2eAaPjCfnLkXdfqcvffzgz64swGrcxHu/eNY19bIZMiGXXJnfeGxZM2EUVizZexcffslXQnfqmE9Q4n28X3bv2q7Lc6/dbkRxcdMisih8L6SlWOLtrK60c1YV/vXy2X7/AbxHnefvDGOaP8CfqevWupbjdp6K8f4+yhyKoGDt2LL169aJLly6lLrto0SIcHR1Nf35+fqWuc6dxC2OpVa+ARaOLt2fv/8WZMV2DmfRcbWLCFcz8IvKB287dvAp4Y3oYS6bVR6MufkeVlS5n4cSGtOmUys8nD/PTP4exs9dyPdQOg74oGt62zo8LJ52JuGbH71t9+XppbZ4dFIuVddnLFRSURt++11m+vA1QesTt6prHBwsOcfhwDXbvLrlZwxJ0WinvvxGEb0ABP104w69XTtG0bRYnDjiiL+HOQGWnY/5314kKs+GHj30qrFxV4XZ/ mmN7ndj2jRfhl1Rs/dybE/uc6DU42bjMrX4+v2/wYO+P7twIteXL92sSG66k24Bki5XF3UfN6PlxLB5XE00Fdf4sq3v9foXKE3NDwZhngnm7Vx1+W+/G5E+iqFmnevepEMqv2vep2Lnx5MZPdP2Lnx5MZP3tfyMGTOYOHGi6XNWVlaZAouxC2Jo80wWk56rTUq8vNj8vGwZedky4m4quHJaxc+XQ2nfI5OD28vedl6nQTbObhpW/RhimiazgkatMnn25Vj6Nu/Emb9dGNHjcRyc1Oh0EnKzrfnhr6Mk7Lp7xH/1vANW1gY8fQuIjShbr/NGjZJxcipg/fc7i8okM/D6yHP0e+4arw571jTdxSWfDxcf4NIlV1Z+8phZOmnpSpyczJ9IcXIynlDS0x/sbiXsoi1jezZCZa/F2tpAZpo1K7Zf4voF8ypVG1sdH6y/Sn6ujPmjgtBpK+5il5Zk/Ak5uWtJSypqBnNy13IjtGLukrPSrdBqJERdN08/KkxJw8dybpVLbpp25zLuvmVvfrqboCb5OLtr+fSPa6ZpMito/HgufYan0Nu/CXp95VUHl/b7rUhZaTJ0WuO+/zdnNy3pydX+VGtxWo2UuAhjbWXYBRV1m+XR7/VkVk4r+41epRGDX5VbtT7So6OjGT9+ PHv37kWpvL8LkUKhQKF4kE6TBsYuiKVd90ym9A8iMbr0NCQSQGLAWv5gR9HZf5wZ3beV2bR3FlwlJlzFj9/4mZ2MszKMJ8imbdJxctHwzwG3u6YbWC8HnQ4y08re12PfPn/OnDHvUPbBgkPs31eLPXuLmmhcXfP4cPEBwsJc+Pij1sV6PF+57MawVy8gk+nR6YwX9eYtEomOticnp3wn+9uPh/r4F1CnSS7rlxc9uqiy07Hg+6toCqXMHRFU4XfPCVFyUhOtaN4hm/BbQYTKTke95nn8tt61lLUfjFYj5dp5FTUCze/6fAMKSIo1btvEaDkpCdbFlwksJOSA5R4vPHvYjlGdg82mTfo4mugwJVs/da/EgKLsv19L02qkXD+vonmHbNMjnBKJgWYdctixtmKOhYeJRMIDnysriximu/zuK6jYsWPHfSfYp0+fBy7MnU6dOkVSUhItWrQwTdPpdBw6dIjVq1dTWFiITGaZjljjFsbS+bl05g4PID9HirO7sT08N1uGukCKV81COvXJ4NRf9mSmWeHurWHAuCTU+VJO7Huwzmn5eVZEhpn3TC/Ik5KVWTT9mX7xRIWryEyXU79pJm/MCGP7+hqmGoh6TTOp2ySL8yecyc+VUa9pFqOmhXHgN09yskoOKpRKDT4+OabPnl65BAamk50tJznZluxs8xOyTichPV1JbIyxR7mrax6LlxwgKcmWr79qiqNjUY1EerrxwnrgQE0GDQ5lwjsn+PHH+vjXyqRfv2t8+UXzu24PpUqHj39RWl5+hQQ2yCM7Q0ZynIKOPdPITLMiKVaOf718Rs+J4tgeZ04fNp7AbwcUShs9S8YHorLXo7I3NgFlplo98AVOqdLhE1B0d+/lpyawYb6xXLFytn/tzsvjk4i9qSAhSs6wqQmkJlrzdznGBihtW/z0hTczVt/gwnF7zh2zp9WTmTzeJYOpL9W7tYaEn77w4pV34gi/rOJGqIpn+qfgVzufBW9arpkqP1dWrN9CQZ6U7PTi0ytSab/fyvLLl25MXhHNtXMqrp5R8dzIZJQqPXs2u5S+ soWUdrxWhuEz4jm5357kWDk2djo6P5dBk3Y5xkfxhf+0+woq+vXrd1+JSSQSdDrLPRf+9NNPc+HCBbNpw4cPp169ekybNs1iAQXAs6+mArDsF/NxFJZN8GPvVhfUhVIatcnluZEp2DTNjyErix4sM1PI9/XEvvgF5DHsnHHtHLUmxSrZ8WYtt64qeP9eopXTqkcTgMRFYyw0kxirZvr4Gv6y7exVjneB0liw5YPr8xhtnAdi715+PlrcptUzNWyTi65uDr28OP2zYaTavR/eXAMjLkzNzZifGjj3FqlV7yMpUsHFDw7s+TgoQ3CSXJVuuFpVrdrSxXD+6snxyIC4eGkbNisLJzdjUsO8XVzauLOovEdQol/otcgH47rD5cTOsfRMSYx7s7jW4aT5Lfy46Lt6cFwfAni3OLH+nJls/dUep0jN+SQx2DjpCT9oyc3BguWpJStsWf//hzKqZtXhpTDyj50USc8M48FVoSFGAu/1bL+QKA2/MisLeSUf4ZRveHVy32KOn/wWl/X4ry187nHF01TF0SgLO7lrCQ22YOTiAjJSKO0fcqbTjtTI4uWmZsjIKFw8tedkybl5WMnNQIKcPVY+ng+6pelemVHsSg+Hh6qv65JNP0qxZs/sepyIrKwtHR0eepC9Wksr7YZdEVsqTK5XB4Fc5z8qXxnD5wZ9OsVgZNJbrW1AeEuvKbfu/m+qyPQThTlqDhoP8SmZmJg4Olh+D4/Z1wu+LOUhtyhd06 /MLiH5jXpnKGhsby7Rp09i1axd5eXkEBQXx3Xff0aqVsXncYDAwZ84cvvrqKzIyMmjfvj2ff/45deoUPaGXlpbGW2+9xc6dO5FKpbzwwgt88skn2NkV1YafP3+esWPHcvLkSdzd3XnrrbeYOnVqub7vncpVL1hQIHryCoIgCP8RBgv9lUF6ejrt27fH2tqaXbt2cenSJZYvX242fMKSJUtYuXIla9as4fjx49ja2tKtWzeza/DgwYMJDQ1l7969/Pbbbxw6dIhRo0aZ5mdlZdG1a1dq1arFqVOnWLp0KXPnzuXLL78s61a6pzJ31NTpdCxcuJA1a9aQmJjItWvXCAwMZNasWfj7+zNixAiLFvBOBw8erND0BUEQBKG87hwj6W4PESxevBg/Pz++++4707SAgKJO8QaDgRUrVvDee+/Rt29fANavX4+npyfbt29n4MCBXL58md27d3Py5ElT7caqVavo2bMny5Ytw8fHhw0bNqBWq/n222+Ry+U0bNiQs2fP8tFHH5kFH+VV5pqKBQsWsHbtWpYsWYJcXlRt26hRI77++muLFUwQBEEQKpfEQn/g5+dnNmbSokWLSsxxx44dtGrVihdffBEPDw+aN2/OV199ZZp/8+ZNEhISzMZpcnR0pE2bNhw7dgyAY8eO4eTkZAooALp06YJUKuX48eOmZZ544gmz63a3bt24evUq6elFo/GWV5mDivXr1/Pll18yePBgs46STZs25cqVKxYrmCAIgiBUKgs2f0RHR5OZmWn6mzFjRolZhoeHm/pH/PHHH4wePZq3336bdevWAZCQkACAp6d5fzhPT0/TvISEBDw8PMzmW1lZ4eLiYrZMSWn8Ow9LKHPzR2xsLEFBQcWm6/V6NJrKexOfIAiCIFRXDg4O99VRU6/ X06pVKxYuXAhA8+bNuXjxImvWrGHYsGEVXUyLK3NNRYMGDTh8+HCx6T/99BPNm999DAJBEARBqNaqoKOmt7c3DRo0MJtWv359oqKiAPDy8gIgMdH87b+JiYmmeV5eXiQlJZnN12q1pKWlmS1TUhr/zsMSylxTMXv2bIYNG0ZsbCx6vZ5ffvmFq1evsn79en777TeLFUwQBEEQKpUl3jJaxvXbt2/P1atXzaZdu3aNWrWM764JCAjAy8uLffv20axZM8DYCfT48eOMHj0agLZt25KRkcGpU6do2bIlAPv370ev19OmTRvTMjNnzkSj0WBtbRxeYe/evdStW7fUF3WWRZlrKvr27cvOnTv5888/sbW1Zfbs2Vy+fJmdO3fyzDPPWKxggiAIgvBf98477/DPP/+wcOFCwsLC2LhxI19++SVjx44FjINKTpgwgQ8++IAdO3Zw4cIFhg4dio+Pj2lgyvr169O9e3dGjhzJiRMnOHr0KOPGjWPgwIH4+BgHCBw0aBByuZwRI0YQGhrKli1b+OSTT8zelWUJD/Tuj44dO7J3716LFkQQBEEQqpIlXl1e1vUfe+wxtm3bxowZM5g/fz4BAQGsWLGCwYMHm5aZOnUqubm5jBo1ioyMDDp06MDu3bvN3om1YcMGxo0bx9NPP20a/GrlypWm+Y6OjuzZs4exY8fSsmVL3NzcmD17tkUfJ4VyjKgZEhLC5cuXAWM/i9tVLtWNGFHTnBhR819lqCYjSIoRNQXh3iprRM0aq+ZZZETNmLfmVFhZq7sy11TExMTw8ssvc/ToUZycnADIyMigXbt2bN68mRo1atw7AUEQBEEQ/pPKHFS8/vrraDQaLl++TN26dQG4evUqw4cP5/ XXX2f37t0WL6RFSCS33lVedTQNa1Vp/gB53pX/SuiSOKW5V3UR0MbEVnURAJDW8a/qIgCgu3StqosgCFWrCjpq/teUOaj466+/+Pvvv00BBUDdunVZtWoVHTt2tGjhBEEQBKGySAzGv/Km8Sgrc1Dh5+dX4iBXOp3O1MtUEARBEB46DzDORIlpPMLK/Ejp0qVLeeuttwgJCTFNCwkJYfz48SxbtsyihRMEQRAE4eFxXzUVzs7OSP7VHyE3N5c2bdpgZWVcXavVYmVlxWuvvWZ6blYQBEEQHiqiT0W53VdQsWLFigouhiAIgiBUMdH8UW73FVQ8jC81EQRBEAShcj3QiJq3FRQUoFabD5jzKA72IQiCIPwHiJqKcitzR83c3FzGjRuHh4cHtra2ODs7m/0JgiAIwkOpCt5S+l9T5qBi6tSp7N+/n88//xyFQsHXX3/NvHnz8PHxYf369RVRRkEQBEEQHgJlbv7YuXMn69ev58knn2T48OF07NiRoKAgatWqxYYNG8xegiIIgiAIDw3x9Ee5lbmmIi0tjcDAQMDYfyItLQ2ADh06cOjQIcuWThAEQRAqye0RNcv79ygrc01FYGAgN2/epGbNmtSrV4+tW7fSunVrdu7caXrB2MPK1UvNiHfjeeypLBRKPXERCpZPrMn18yoAhkyM58m+Gbj7aNCoJYRdsOG7xd5cPWN7X+k3rp/Ai31CCQ5IxdUlnzlLO/P3yZqm+U6O+YwcfIqWTeKwtVVz4bInn37bhtgEY+dXe9tChg44S8umcXi45ZKZpeToST/Wbm5OXn7Rmy73bl1XLO8FK57g4N8BvNLlDJ2aRlDLI4NCjYwLNz35fGcbopKcTMu62Ocxtu8/PFY3FpVCQ1SSI+v3NufguUDTMvaqAia+8DftG0Wi10s4eD6AT35uR7666E2wTzW7wdBnzuLnkUFGjg0/H27Ixv1NS9w2UqmBQSOv07lHLM4uhaSlKPnzN182fxsEGCP/QSOv8cQz8bh7FqDVSAi74sj6z+tyNdRYdg/vPF4eEUaTVqmmNA7s8mHLd0FotWWOn00atcnhxTHJ1Gmch6uXlrmv+XNstyMAMisDr06L57GnsvGupSY3S8qZw/Z8s9CbtMT7fytuo8bJvDDgKkF10nF1K+D92e049revMQ+ZnqHDL/JYm3i8vHLJzbXm7BlPvvu6MWmpNqY0fH2zee2N8zRomIK1lZ6bNx35/rtGnD/nAUCXrhFMnHqyxPxf7v8saQ+wbV4al0j7npn4BRWiLpByKUTFNwu8iblRvjc9lqYy9klZVdW2uJtnX02h/+gkXNy1hF+y4bP3fLl6VlUpeQ8Yl8iIdxPY9pUba+YYj2NrhZ5Rc+J4sk8G1goDpw7as2qGLxkpVfv2aMGyyhxUDB8+nHPnztGpUyemT5/Os88+y+rVq9FoNHz00UcWLdzcuXOZN2+e2bS6dety5coVi+YDYOeo5aPt1zn/tz3vDQkkI9UK34BCcjJlpmViw5V8+l4N4iPlKJR6nhuZzKKNNxjevgGZaaVvSqVCS3iEM3/sD2LulIN3zDUwb8oBtFoJs5c+RV6eNS/0vsTiWXt4fWJfCgqtcXXJw9Uljy+/b0VkjCOebrmMH /kPrs75vP/Rk2apLf20PSfP+po+5+QZg45mQfH8crgBl6PckUkNvNH7BB+P/p3Bi16k4FZAMGvIAexs1Ez7qhuZuUqeaRnG/Ff3MWKZA9dj3QCY88oB3BzymPBZL6xket4ddJCpAw8xb/3TADxeP4o5Q/fz8c/tOXGlBrU8M5g+8BCFGhk/H25UbNv0H3qDni9E8vG8pkSG21GnfiYTZp0nN8eanVv9jds/ypY1SxuSEKtCrtTR7+WbvL/qBK8/34msDAV+tXKRSAysXtSI+GhbatXO5q13L6C00fHNyvql7p+77jeVnvBQJX9scmHOtxFm8xQ2eoIa57NxhSfhl5TYOeoYPT+OeWtv8laP4PvPQ6nlZrgTe3YHMGve3+Z5KHUE1Uln0w8NCL/hhJ29mjfHnGXO/KOMH9vFtNzcBUeIjbVjxuROqNUy+j1/nbkfHGHE0J6kpys5dNCPUye9zNJ+Z+oJ5HI9mRkPduFr0jaXnWvduHZWZbyYT49n4aZwRnaqS2G+rPQEHlBl7JOyqqptUZJOfdIZNSeOVdNrcOW0iudGJrNgYzgjOtYlM7ViL+LBTfPoNSSN8FDzY+rNuXG07pLFB2/UIjdLxtgFscz+JoKJfetUaHnKRDz9UW5lDireeecd0/9dunThypUrnDp1iqCgIJo0aWLRwgE0bNiQP//80/T59iieljZgTBIpcXKWTyyqOUiMNn+j54Ht5k+3fDnPlx6D0ghokM/ZI/al5nHybA1Oni351fC+3lk0CE7m9Yl9iIwx5rPy68fZ8uVWOre/ya79wUREOzN/eWfTOvGJDny3uTnT3jqMVKpHry +6G8/Jk5OeaVMsn0lrepp9XrDhSf638Hvq+qVw7oY3AI0CElm2tQOXo4x3uOv2tOClJy9Qzy+F67Fu1PJMp22DaEYse44r0ca3jX78U3uWvbGLT7c/TkqWLd0eu86h8/5sP9oAgLhUB77f24zBT5/j58MNi5WrfpN0jh/y5ORRY55J8So6dY2jbsMMdt5a5q8/fM3W+WpFfbr1jSGgTjbnTio49Y87p/4pevtpQpwK3w259HohslxBRcgBB0IOlPyodF62jBkDa5tN+3SmL6t2XcfdV01yrLzE9YrlcdKbkJPeJeeRa83MaZ3Mpn22ujmffLoPd488kpNUODgU4lsjhxXLWhFx0wmA775uTO++N6gVkEl6uhK1WoZaXXRxc3AspGmzJD5Z/th9lbEkMwcHmn1ePqEmWy+GUqdJPheP2z1wuqWpjH1SVlW1LUry/KgUdm90Yc8WFwBWTqtB66ez6PZyGltXe1ZYvkqVjmmrI1kxpQYvj080TVfZ6+j2chofjq3JuaPGc+VHE/34+tBV6rXI5crp+6vtFaq/B68TvqVWrVo8//zzFRJQgDGI8PLyMv25ublVSD6Pd83k2nkVM7+4yZZzF/n0j6v0GJR693JZ6+k5OJWcTCnhocUv3mVlbaUHQK0pOukbDBI0GimN6iXddT1blZq8fGuzgALgrRH/8NPXm1m18De6db7O3cJnWxvjOCNZeUUB1MWbnjzdIhx7VQESiYGnm4cht9JxOuxW0OGfSFae3BRQAIRc80VvkNDA31hWuZUOtdb87qxQY4Wncy5eLjnFynH5vDNNW6XiU9M4L6BOFg2aphPyd8mvSLey0tOjXzQ52VbcvHb3sVFs7TRkZ1Vu9aqtgw69HnIzK+7u1NZWg14POTnG75aVJSc6yp6nu0aiUGqRSvX06B1OerqCsGslP+r99DMRFBZaceRQyYHuA5XLQQdAdkbl3pmXpjL2SUl5QuVvCytrPXWa5HH6cNGNjsEg4cxhexq0zKvQvMctjOXEPgfOHDa/yarTJA9rucFsenSYksQYa+pXcJnKQoIF+lRU9ZeoYvd1279y5cr7TvDtt99+4MKU5Pr16/j4+KBUKmnbti2LFi2iZs2ad12+ sLCQwsJC0+esrKz7yse7pprer6Twy1fubF7pSXCzPEbPj0GjkfDnjy6m5dp0yWTGZ5EobPSkJVoz4+UgstLLX3sSHedIYrItIwadZsWXbSkosOKF3pfwcMvDxSm/xHUc7AsY/MJ5fv/TvEp37ZZmnL3oTUGhjFZN43h7xD/YKLVs32V+ty6RGBj//DHOhXtyM77oO85a24X5w/axe9F6tDoJBWor3v2mK7EpxjZrV4d8MrLNAymdXkp2ngIXe2NZj1/24+3njvF7cCynr/tQwy2TgZ3P31o/j9g7vsuP62qjstXyxdZD6PUSpFID6z8P5uAdtROPdUhk2gdnUSh1pKUoeG9ca7IyS77z9K6Ry7MDIvnmk3olzq8I1go9I2bGc3C7E3k5FXMxsbbWMfz18/x1oCb5ebcDJgnvTn2C2fP+5ucd2zAYJGSkK5g1oyM5OSVvn249bnJwf02z2ovykEgMvDkvlosnVEReLX+gbSmVsU/uVJXbwsFFh8wKMpLNz0vpKVb4BRXeZa3y69Q3naDG+bzVs3hzhouHFnWhhNws8+2fkWyFi0fxt14LD6/7uhp+/PHH95WYRCKxaFDRpk0b1q5dS926dYmPj2fevHl07NiRixcvYm9fcnPDokWLivXDuB8SKVw/b8N3Hxpf334jVIV/3QJ6vZJiFlScPWrHmK51cXDR0mNQKjPXRPB27zrlbqfU6aTMW9aZSaOPsu27zeh0Ek5f8ObEad8SQ1+VjZoPpu8jMsaJ9T82M5u34eeizpA3IlxRKrS8+OzFYkHFpP5HCPRKY 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 /HuBRprMlwOhZjlr+NSsuQN67R7skEHJ3VpKUo+WuPN5u+roNWK8VarmPq+2cJbpiBo5OGrExrrl9yZPO3QVy/7ARAl14xvDPnfInfr1frnsWmaWPu7C5asiZtc1j6841i0/dsceaH5V6sP3G5xPWmvFCb88dKf5RQ1iCYxk2TWLz8r2Lz9v5Riw3rG7J2w+8lrjttUicu3Brcqk5wGkNfu0id4HSsZHoiIx3Y9H2DYo+qLvtkP4kJtixdZN6fQnfpGmX1R9y5Eqcvm+DH3q0VcwGDit8nD6KqtsXd9BluHPzK2V1LeKgNn83yue+B+ixhyU9hhIfaFBv8qnNf4+BXIQftWT3Dl/Tk0ps/tAYNB/mVzMzMCnkT9u3rhP+CBUiV5RusTF9QQMTMmRVW1uquWgcVAwcO5NChQ6SmpuLu7k6HDh1YsGABtWvXLn3lW8oSVFQ0ffuSR5OsTHne1aN6+s6goircb1BR0WQNKm5AprJ4kKBCECqDCCoeHtW6+WPz5s1VXQRBEAThUSGaP8rtgRr6Dh8+zJAhQ2jbti2xsca7ve+//54jR45YtHCCIAiCUGkMFvp7hJU5qPj555/p1q0bNjY2nDlzxjTQVGZmJgsXLrR4AQVBEARBeDiUOaj44IMPWLNmDV999RXW1kV9FNq3b8/p06ctWjhBEARBqCzi1eflV+Y+FVevXuWJJ54oNt3R0ZGMjAxLlEkQBEEQKp8YUbPcylxT4eXlVeLgU0eOHCEwMLCENQRBEAThISD6VJRbmYOKkSNHMn78eI4fP45EIiEuLo4NGzYwefJkRo8eXRFlFARBEAThIVDm5o/p06ej1+t5+umnycvL44knnkChUDB58mTeeuutiiijIAiCIFQ4S/SJEH0qykgikTBz5kymTJlCWFgYOTk5NGjQADu7ihmlThAEQRAqhRinotweePAruVxOgwYNLFkWQRAEQRAeYmUOKjp37oxEcvferfv37y9XgQRBEAShSljikVBRU1E2zZo1M/us0Wg4e/YsFy9eZNiwYZYql+UZqr5brvTvC1WaP4CDTfnGtbcUbV5eVReh2tBdvl7VRRAEAUTzhwWUOaj4+OOPS5w+d+5ccnJySpwnCIIgCMJ/3wO9+6MkQ4YM4dtvv7VUcoIgCIJQucQ4FeVmsbeUHjt2DGU5XxkrCIIgCFVFPFJafmUOKp5//nmzzwaDgfj4eEJCQpg1a5bFCiYIgiAIwsOlzEGFo6Oj2WepVErdunWZP38+Xbt2tVjBBEEQBEF4uJQpqNDpdAz/f3v3Hd5E/Qdw/J2mbdp0t3QvWiiUPRUBFVAEFRFFARGUPYvKHrJBpoKAKC4ERRHwp6ioCIhM2XsUCt170b3b5H5/RFJCC11pGuT7ep48T3N3ue+nl8vd577jbtgwWrRogYODQ23FJAiCIAiGJ0Z/1FiVOmrK5XJ69OghnkYqCIIg/OeIR5/XXJVHfzRv3pzw8PDaiEUQBEEQhAdYlZOK9957j6lTp/Lbb7+RkJBAVlaWzksQBEEQHlhiOGmNVLpPxaJFi5gyZQrPP/88AC+++KLO7bolSUImk6FSqfQfpSAIgiDUNtGnosYqnVQsXLiQsWPHcuDAgdqMp84075BDv/EpBLTIw8mthAXD63P8zztHuki8OS2JZ1+ /hbWtiuAzVqyb6UV8hKKG5WbTb2wSAS3ycXIrZsEIf47vsdfO7/xcOr0GpxLQMg9bBxXjegQSHqwss54mbXMYOiOewDZ5qFQQflXJu4MbUlRQcWVUr9cT6TUwEVevQgCiblqyTirb03ZwOpu3ZwwppiDPhOBzNnz1vi+x4bpxdO+bTN9h8Xj65ZOXI+fI7np8stC/BlunVP+gJEa8m8DOL+vx6XwvABycixk5N562T2SjtFYTE6Zg2zpXjv5hr5cy7+WFN1Pp9eYtXL2LAIgKseC7D105c8C21socPDmBN6Yk6UyLCVUwsksTbOxLeGNKIm27ZOPiUURmminH/rTj6/fdycuW11pMAAMmJNH5+Uy8GxZSVGBC8BklG5e4Extm2HvWVPz7NZzeQ1N5dVwyjs4lhAdb8skcT0IulP3N/pfjMJb9QjC8SicVkqRJv7p06VJrwdQlC6Wa8KsW7PnekflfRZaZ3z8ohT7DU/hgog+J0eYMmZ7I0q3hjOramOLC6t+Y1EKpJjxYyZ7t9Zj/Zdm+KhZKNVdPW3P4NwcmvR9d7jqatM1hybehbPvYjU/meqMqkeHfNB9JXbkYUhPN2fSBL3GRFshk0P3lZOZtuM6EPq2IDlUSesWKA7/WIzlegY1dCYPfjmHJpmCGdWuHWq2prXp5WDx9h8ezcaUvIRdtUFiqcPUsrPZ2uVOjVnn0GnyL8GDdA9K0tdFY26pYMMyPzDRTur2czrufRvLWc40Iu1p7B8+UBDO+WupOXIQCmQye6ZfGgk2RBPVoRNSN2jtoRl63YOZrDbTvVSWabe/oWoyTazFfLPYg+oYFLl5FvL08Fie3Yt4b7Vdr8QC07JjLrs31uHFBidxUYujMBJZ+H86oLo0pzK/dhOZOFf1+ DaXLi+mMnh/PRzO9uH5OycujUliyNZwRTzQm85bZQxOHsewXVSVuflVzVRpSer+nk9aWuLg4ZsyYwe7du8nLy6Nhw4Zs2rSJ9u3b67WcMwds73OlKfHSyBS+X+vK8T2aq5+Vb/uw/eJVOj2byaFfqj+89swBO84cuPcV1f4fnQC0tQjlGbMglp+/cmHHx27aabHhlT+5nfzbUef91x/60uv1JAJbZxMdqmT39tL1JsfB1x/6sOG3i7h6FZIQbYG1bQlvTopm4ZhALhy31y4bGWJV6RjuxUKpYsb6KNZM92bg24k685q2z+WjWV6EXNCU8/1aN/qOSiGgZX6tJhUn9+l+X5tXuPPCm7cIbJdbq0mFSgXpKWVPCFEhliy+I3lIiFKweYU709dFYSKXUKtq73c7e5BuTdSqiT7suHKVgJb5XDlpXWvl3u3+v1/D6Ts6lT+3OrJ3u+Y3tW6GF48+nUXPgWnsWO/60MRhLPtFlYnmjxqr0iV2o0aNcHR0vO9Ln9LT0+ncuTNmZmbs3r2b4OBgVq1aZfB7ZLj5FOHkWsK5IzbaaXnZcq6fV9KkXd0+bdPOqZgmbfPIuGXKhz+ HsO38Jd7/3w2aPVK9h7uZmEh06ZWKhVLF9Qs2ZeYrLFX0eCWZhBgFKQnmALTpnIGJiYSTaxGf/XmeLUfOMGttCPXcal5TMWFpLKf223L+SNlYgs9Y0eXFDGzsS5DJJLq8mI65QuLSccMdtExMJLr0SUehVHPtTM2TqPvx9Cti69krbD4WzIyPonD2KLrnslY2KvJyTGo1oSi3XFtNn6rsDOO9Gq0tpmZqAlrm6RwnJEnG+SM2NDXgccJY4rjTw7xfPGyqVFOxcOHCMnfUrE0rVqzA29ubTZs2aaf5+dVudW55HF1KAMhI0d1cGSmmOLoUGzyeO7n7ak4sb0xO4IvFXoRdtaT7q2ks33aTMd2bEB9RuSvn+o1yWb3jMuYKNfl5chaPDyQ6tPRqv9frCYyYHoWllZqYMEtmD21GSbEmJ3XzLkAmgwFj4/j0vfrk5Zjy5sRolm4OZnzvVtrlqqrLi+k0bJ7PW70alTt/yVhf3t0Qxf+uXqGkGArzTVg4oj7xkTXr51IZ9QPzWbMrVLO9ck1YNKI+0Tdrr5bi+nkrPphkSWyYAkeXYgZPTmTVzpuMeSqQ/FzdA7WtQwmvT0xk93f1ai2e8shkEmMXxnHllJKoEEuDlm0MbB1VyE3LHifSU03xbqifpsAHKY7bHqT9QjR/1FyVkorXXnsNFxeX2oqljF9//ZWePXvSr18/Dh06hKenJ+PHj2fUqFH3/ExhYSGFhaU/nP/6MFeTf/fgP76tx94dmqaSsKtKWj+eRc8Bt9i03LNS64mNsCToxVZY2ah4/NlbTFl5k+mDmmsTiwO/OnP+H3scXYp4ZUQ8s9aGMGVAC4qLTDAxATNziU/f8+PcUXsAVkxuxHfHTtOyQybnjla9ZsnZo4hxi+KYNbDBPfusDJmWiLWtihkDGpCVZkrHnpnM/jSSKX0DiLxeuwev2DAF459phNJGxRMvZDJ1bTTT +jastcTizqr9iGuWXD+vZMvJYJ7sncGebU7aeUprFYu/CSf6hgVbVrmVt6paM2FpHL6BBUx5qaFByxWM2wO1X4jmjxqr9CVkXfSnCA8PZ8OGDQQEBLBnzx7GjRvH22+/zddff33Pzyxbtgw7Ozvty9vbu8ZxpCVrci975xKd6fbOJaQlG67zVXlu/Vt+1F0ns5ibFrh43rt6/G4lxSYkRFsSetWazat8Cb9mRZ8hCdr5eTmmxEdZcuW0HUveaoy3fz6detwCIO3fdv7o0NITeWaaGVnpZrjcp4r+fhq2yMPBuYSP/wzhj6gL/BF1gVadcukzPJU/oi7g7ltIn+GprJ7izYWjNoQHW/Ldh27cvKTkxaGp1SqzKkqKTYiPVBB6WcmmZe5EBFvy0siUWi/3ttwsU2LDFXjUL02gLa1ULPkujPxcExaO9NN25DSEoCWxdHgmi+mvNiD132axh01WmhxVSdnjhEO9EtJT9PZA6AcmDhD7xcOo0knF7dEfhqRWq2nbti1Lly6lTZs2jB49mlGjRvHpp5/e8zOzZs0iMzNT+4qJialxHInR5txKMqXN49naaUprFYFt8rh21vBDxe6UFGNOaqIZXv661Zqe/oUkx1b/RywzkTAzL3/4iEwGyDS1EwDBZzVX0V5++dplrO2KsXUoJjm+ek0RF47aMPqpxozrUfoKuWDJ3zsdGNejMQpLTWy3R5/cplLJqIP8F9kd28MQLJQqPHyLtEmt0lrF0u/DKC6SMX+of41GJFWNRNCSWDo9m8n0fg1Iiqn9pidjVVJsws1LSp3jhEwm0frxHIINeJwwjjge0P2ipje+EjfAqnzzh1pdyfGJeuTu7k7Tpk11pjVp0oQff/zxnp9RKBQoFFXfgS2UKjz8Sq+q3byL8G+WT3aGnJQ4c37+0pmB7yQTF6HQDim9lWTGsRqOhbdQqnSuNt28C/Fvmkd2hikp8ebY2Jfg7FGEk5um74Z3gwJAMwpAMxJAxv82uPLGlHjCr1kS /m+fCu+GBbw3pnL3iBg6JYozh+1JjlegtFLRtXcqLTtkMWd4U9y8C3jy+VTOHbUnM82Mem6F9B8TR1GBCacP2gMQF2nJsX2OjJkTwbo5DcjLkTNsajSx4ZZcPFG9Hvn5ufIy7a8FeSZkp2umy00l4iLMeWdFDF8s9iAr3ZROz2bS9sls5g3Rz70x7mXYrARO/21DSpw5ltYqur2cQctOOcx+vfbKHTU3jhP77EiONcPJrYQ3piSgUsPBnx20CYXCQs3Kt/xQ2qhQ2mg6xmXeMi2TeOnThKVxdHs5nQXD/MjPMcHBWbOf5mbLK3WPFH2p6PdrKD99Xo+pa2K4cVFJyHnNUE4LpZq92/Tbid3Y4zCW/aKqRJ+KmjNsXVgVde7cmZCQEJ1pN27cwNfXV+9lNWqVz/s/hmnfj10YD8De7Q6smuTDjo+dsVCqeWdlLNa2Kq6etmL2oJpfETZqlcf7P9wsLXdBnKbcHY6smlyfx57JZOqHUdr5726IBGDLaje+Xe0BwM6NLphZqBk7PxYbexXhwZbMGhhAQlTlkit7p2KmrgzF0aWI3Gw5EdetmDO8qbYPRfP2Wbw0NAFr2xIybplx5bQtkwe0IDOt9GC9anpDRr8bycIvriGpZVw+bcuc4U1RldTOAURVImPOGw0YMSuehZsjsLRSEx9pzgcTfTj9d+0OLbSvV8K0ddE4upSQly0n4poFs1/359zhsiNU9KWeezGzPo7ExkFFZpopV09ZMbF3IzLTTGnZMZsmbTW9+jcfu6bzuTc7NCEptvauEnsP1TSBffBTmM70DyZ6s2+H4U6kFf1+DeXQrw7YOal4c1oiDs4lhF+1ZPYgPzJSDdtMWtdxGMt+UWWiT0WNyaS6aNeopNOnT9OpUycWLlxI//79OXXqFKNGjeLzzz9n0KBBlVpHVlYWdnZ2dKUPprK67f+ASd0PpzKxNI472qnz6nYoLgDGsuvXRXtNeYxlewjCXUqkYg7yC5mZmdja6v+i4fZ5ovHEpcgVNTtGqgoLCFnzbq3FauyMtx4KeOSRR9i5cyfff/89zZs3Z/HixaxZs6bSCYUgCIIgVJroU1FjRt38AfDCCy/wwgsv1HUYgiAIwn+c6FNRc0ZdUyEIgiAID4vly5cjk8mYOHGidlpBQQFBQUE4OTlhbW3NK6+8QlKS7sMFo6Oj6dWrF0qlEhcXF6ZNm0ZJie6Q4oMHD9K2bVsUCgUNGzZk8+bNtfI/iKRCEARBEKBOmz9Onz7NZ599RsuWLXWmT5o0iV27dvHDDz9w6NAh4uPj6du3r3a+SqWiV69eFBUVcezYMb7++ms2b97MvHnztMtERETQq1cvunXrxoULF5g4cSIjR45kz5491Qv2PkRSIQiCIAiUNn/U9AWazp93vu680/PdcnJyGDRoEF988YXOs60yMzPZuHEjq1ev5qmnnqJdu3Zs2rSJY8eOceLECQD27t1LcHAw3377La1bt+a5555j8eLFfPzxxxQVaYZZf/rpp/j5+bFq1SqaNGnChAkTePXVV/nwww/1vg1FUiEIgiAIeubt7a1zd+dly5bdc9mgoCB69epF9+7ddaafPXuW4uJinemBgYH4+Phw/PhxAI4fP06LFi1wdS19+mzPnj3Jysri6tWr2mXuXnfPnj2169Ano++ oKQiCIAgGocf7VMTExOgMKb3XTRm3bdvGuXPnOH36dJl5iYmJmJubY29vrzPd1dWVxMRE7TJ3JhS359+ed79lsrKyyM/Px9JSf89KEkmFIAiCIIBekwpbW9sK71MRExPDO++8w759+7CwMI57CNWUaP4QBEEQhDpw9uxZkpOTadu2LaamppiamnLo0CHWrVuHqakprq6uFBUVkZGRofO5pKQk3Nw0TyF2c3MrMxrk9vuKlrG1tdVrLQWIpEIQBEEQAJDp6VVZTz/9NJcvX+bChQvaV/v27Rk0aJD2bzMzM/bv36/9TEhICNHR0XTs2BGAjh07cvnyZZKTk7XL7Nu3D1tbW+2zszp27KizjtvL3F6HPonmD0EQBEEAgz/7w8bGhubNm+tMs7KywsnJSTt9xIgRTJ48GUdHR2xtbXnrrbfo2LEjjz32GAA9evSgadOmvPHGG6xcuZLExETmzJlDUFCQth/H2LFjWb9+PdOnT2f48OH8/fff7Nixg99//72G/2xZIqkwILld3d8HXmZtVdchaKhUdR0B6oKCug4BABNr67oOAQB1dnbFCwnCf5gx3lHzww8/xMTEhFdeeYXCwkJ69uzJJ598op0vl8v57bffGDduHB07dsTKyoohQ4awaNEi7TJ+fn78/vvvTJo0ibVr1+Ll5cWXX35Jz5499RssRv5AMX0wpgeKye8Yf1xXjCWpUKek1nUIxpNU2NTe002rQiQVgrEy1APFmo3VzwPFrn768D5QTNRUCIIgCAKIR5/rgUgqBEEQBOG2hzwpqCkx+kMQBEEQBL0QNRWCIAiCgHF21HzQiKRCEARBEED0qdAD0fwhCIIgCIJeiJoKQRAEQUA0f+iDSCoEQRAEAUTzhx6I5g9BEARBEPRC1FQIgiAIAqL5Qx9EUvGv5h1y6Dc+hYAWeTi5lbBgeH2O/2mnnd/5uQx6vXmLgBb52DqqGPdMI8Kv1uyRsYPGRzAoKEpnWky4JWN6dwDg2X7xdH0+iYZNc1Baq +j3WGdys0tvNd7ikXRWbL5Y7rrfGdCWm1cqd4tYExOJ10fdoNuzcTg4FpKWasFfv3ux7auG3H7mnoVlCUODrtOxSxI2tkUkJSj5dXt9du/0BcDFPY9NPx8od/3LZrXl6N/u942h/7g4OvdMx8s/n6ICE4LP2fDVCm/iInS3cWCbbIZMiSWwdQ5qFYRds2LOkECKCksr3R7pls7rb8XhF5hHUaEJl0/asnhso0pti8p44c1Uer15C1fvIgCiQiz47kNXzhyonVvy9hsVw/CpUfz8tQefLfUHwMxczaiZEXR5PgUzczVnjzrw8cIGZNwy136uUYtshk2JpGGzHCQJblyyYeP79YkI0f+zRnoPTeXVcck4OpcQHmzJJ3M8Cbmg1Hs5t1X0e7WvV8yI2Qm065KNlZ2KKyes+XiOJ/ERilqLqTJxGUJdxDBgQhKdn8/Eu2Gh5vd7RsnGJe7EhpXe8tpMoWb0/Hi6vpiBmULi7EEbPprlSUZq3T4+QYdo/qgxkVT8y0KpJvyqBXu+d2T+V5Hlzr96yorDu+yZ9EGs3sqNvKlk9shW2veqktIH5yosVJz9x5Gz/zgybFJEmc9eu2DHoC66j659461IWnVI5+aVyj9P4tU3wni+bxQfLmpFVLgNAU0ymTjnIrk5puza4QfAqInBtGx3iw/mtyYpwZK2HVIZP+0KaakWnDziSmqSJYOfe1pnvc++HEPfQWGcOe5cYQwtHs1m1xZXblyyQi6XGDotliXfXGdMj5YU5ssBTULx3uYQtm /wYMNCX1QlMvyb5HHn02s6P5vGO0vD2fyBNxeP2yKXS/g2yq/0tqiMlAQzvlrqTlyEApkMnumXxoJNkQT1aETUjZo9N+BujVpk8/xriYRf1z1Bj3k3nEe6pLN0YiC52aaMnxvGnPXXmDpQsy9ZKFUs/uIqJ/52ZP3CBsjlEm+8Fc17G6/yZtdHUJXor+Wzy4vpjJ4fz0czvbh+TsnLo1JYsjWcEU80JvNW7Zww7v97lZj/VSSqEhkLhvmRl2NC39EpLN8exqgujbX7k+HjMoy6iKFlx1x2ba7HjQtK5KYSQ2cmsPT7cJ3tPXZBPI92z+K9Mb7kZskJWhLHvI2RTO4TYJAYK0UkFTVm9ElF/fr1iYqKKjN9/PjxfPzxx3or58wB2/teae7/0REAV68ivZUJoFLJSE8t/+rply3egKZGojwlxSY6n5WbqnmsWyq7tnpyu4ahMpq0TOfkYVdO/+MKQHKCki494mncNINd/y4T2CKd/X94cfmcEwB//uzDcy9H0ahpBiePuKJWy0hP0z2hduySyNH97hTkV7ybzR0WqPN+9TR/tp05R0DzXK6c1nwvY+ZE8ctmV3741EO73J01GSZyibFzI/lyuQ97d7hop0eH6veK+eQ +3au+zSvceeHNWwS2y9VrUmGhVDHt/RDWzglg4Lho7XSldQk9Xkli5dTGXDxhD8DqdwP4Yvc5Altlcf2iLd7+edg6lLBlnS+piZp95LuPfdiw6zwuHoUkRNeslu1OfUen8udWR/Zu1/xG1s3w4tGns+g5MI0d6131Vs6d7vd79fQvomn7PEZ3baz9Pj6a6cW2i8F0ezmDP7c61UpMFcVlKHURw+xB/jrvV030YceVqwS0zOfKSWuUNip6DkxjeZAPF//RXPCsnuzNl4dDCGyby/VzxvGgQ6HmjL6j5unTp0lISNC+9u3bB0C/fv3qODL98PTJZ8uBY2z88wTTVgTj7F79J2c+1u0WNvbF7N3pVqXPXbvkQKv2t/DwzgHALyCLpq3SOHO89MR8/bIDHZ5Iwsm5AJBo2S4VD+9czp2sV+46GwZm0qBxFnt/9a7W/6K00TwaPTtTk5DYORUT2CaXzFtmrPrhKltPnWXl98E0a1/6ZM2GzXKp516MpJaxftdlvjtxjkVfXce3UV61YqgMExOJLn3SUSjVXDuj3wNj0LwwTh9y5MJxe53pAc1zMDOXOH+sdHpsuJKkOAWBrTXbIzbCksx0U3q+moipmRpzhYqeryYRHWpJUpz+Eh9TMzUBLfM4d6S0ZkySZJw/YkPTdrW33e/HzFwNQFFhaWItSTKKi2Q0eyS3TmJ62FjZ/vv7zdDUUgS0zNPss3fsJzGhFiTFmtGkjvaT8tzuU1HT18PM6GsqnJ11q86XL19OgwYN6NKlS7nLFxYWUlhYqH2flZVVq/HVRMglW1bPDiQ2UomjcxGvj4vk/W/OM67PI+TnVf2r6dE3gXP/OHIrqWonjR++aYDSqoTPdhxCrZZhYiLxzaeNObjHU7vMhg+a8dasy3zz235KSmRIahnrlrbg6oXyr/p69I4mOsKaa5cdq/x/yGQSY +ZGcfWMNVE3NLUM7t6aZGvQO3F8ucyH8GAlT/dNZdmWa4x9riXxkRa4+xT+u0wsXyzxJSlWQd+RCazYeo2RT7ciJ1N/u3v9wHzW7ArFXKEmP9eERSPqE31TfyfrLs+n0KBpDu+82rrMPId6RRQXycjN1v1/Mm6Z4eisqUnLzzVlxhstmPfxNQaOjwEgPsqSOSOaoVZVvharIraOKuSmkJGiG0t6qineDQvv8anadftkNXxWAmtneFGQZ0Lf0ak4exTj6FpcJzE9TGQyibEL47hySklUiKZGzNGlhKJCGblZuk1PGSmmOLoY0Xcimj9qzOhrKu5UVFTEt99+y/Dhw5HJyj8wLlu2DDs7O+3L27t6V8qGcOaoE0f3uhB5w5pz/zgyf1wLrGxKeOLZlCqvy8m1gLad09j70/07RJbnie4JdH02jvfnteHtNx9n9aJW9B0UztPPl/YdebF/JIHNM1g4pT3vDHmcL9c2Ydy0K7R+JLXM+swVKrr0jK92LUXQokjqN8pj+dsNtdNk/+6pf3zvwr7/ORMWbMXn7/kSG2FBj37J/y6j+TVv/9iTf/50JPSKFR9O9wcJnnj+VrViuZfYMAXjn2nE270C+O2bekxdG41PQPVrme5Uz62QMbPDWTmtMcVF1fuJmitUTFxyk+Bztkwe0IqpA1sSdUPJws+CMVeo9BKnsVKVyFg0oj6eDQr58dpVfg27TKtOOZzab4Ok1l9CJZRvwtI4fAMLWDbOt65DEeqA0ddU3Onnn38mIyODoUOH3nOZWbNmMXnyZO37rKwso04s7pSbbUZclBIPn6p3LOzxciLZGWacOFD19uLhb13jh28acHifpq9CVJgtLm759BsSyv4/vDBXqHhzXAhLZrTT9ruIDLXFv1EWfQeFc+G0bhNI56cSUFio2P+HZ5myKjJuQSSPdstg2mtNtH0BANKSNR3 +om/q9gWIDrXExaNId5nQ0mWKi0xIiFFol9GXkmIT4iM18YVeVtK4dR4vjUxh3Yya72sBzXJwqFfM+p/Oa6fJTaH5I1n0HhTPnBHNMTOXsLIp0amtsHcqJi1FM/qja+8UXD0LmTygumFZKrkOZd79UXHn2crISpOjKgF75xKd6Q71SkhPqbvDS+hlJeOfaYzSRoWZmURmmilrf7vJjUv660silBW0JJYOz2Qx5eUGpCaUjkRKSzbFXCFhZavSqa2wdy7R/m6NgUySkEk1q2qo6ecfdA9UTcXGjRt57rnn8PDwuOcyCoUCW1tbndeDwkJZgrt3vvbEUHkS3V9KZP+vrtXq1a+wUJW5gtM0g2j+lpuqMTOTUJezzO3agTv16B3DySOuZGVUZfiexLgFkXTqkcbMwU1IitVtSkiKVZCaaIaXv27C5eVXQFLcvyf3K1YUFcrwvGMZuakaV69CkuNqdyihTAZm5vo5mFw4YcfYF9oQ9FLp68Zlaw7sctb8fcWa4iIZrTtmaD/j6ZeHq2ch1y9o2qwtLNRIanRGxqjVMiSJcr+z6iopNuHmJSVtHi/t2yKTSbR+PIfgs7U3pLSy8rLlZKaZ4uFXSECrPI7vMezwzoeHRNCSWDo9m8n0fg1IitH9vd28pKS4SKazn3g1KMDVq5hrRrCfaEl6ej3EHpiaiqioKP766y9++umnWlm/hVKFh1/p1aybdxH+zfLJzpCTEmeOjX0Jzp7FOP3bJuvdQFPVnZ5sSnpK9TLtEVNDOXmwHsnxCpxcihgcFIlaJePgH5oOkg71CnGoV6StuagfkEt+npzkBAtyMkvLbNUhA3fvAvb8WPWmD4BTR1wZMCyUlCQLosJtaNAoi5cHRrBvlxcA+blmXDrryPC3rlFUKCc5wZIWbW/x1HOxfLm2qc663L1yad4mjQWTHqlSDEGLIun64i0WjW5Efo4JDvU030Vutum/96CQ8eMX7gyeGEfEdSVhwVZ075uCV4N8lgRphqTl5Zjyx1ZX3ngnltR4c5LiFLw6OgGAI39UvW/HvQyblcDpv21IiTPH0lpFt5czaNkph9mv+1f84UrIzzUl6qbuT7Mgz4TsDDOibmo6g+790ZVRMyPIzjQlL8eUcXPCCD5nw/WLmiT63DF7RkyPIGh+GL9u8UBmItF/dCwqlYyLJ+31EudtP31ej6lrYrhxUUnIec2QUgulmr3b9LfN71bR7/WJFzLIvGVKcpwZfk0KGLsojuN/2nHuUOWHWtdGXIZQFzFMWBpHt5fTWTDMT/P7ddYcJ3Oz5RQVmJCXLWfP946MXhBPdoYpudkmBC2JI/iMUoz8+I+RSdKDUVezYMECPvvsM2JiYjA1rXwulJWVhZ2dHV3pg6ns3if/lh1zeP/HsDLT9253YNUkH57pn8bUNTFl5m9Z5cq3qyo32kLu4KDzfsb7V2nePhNb+2Iy08y4es6Or9f5kxijqaIt7+ZYAKtnN+avn0sTiOkrg3HxKGDq4LYVxiCzLvsDtlSWMHhMCJ26JGHnoLn51aG9Hny/MYCSf2s+HBwLGBIUQptHU7CxLSY50ZI/f/bh5+/9uHP46pvjrtPt2TiGv/SUttq9POoU3b4Yu8NPlrvcqmn+/ PVjaVV9v7Hx9B6chI19CeHXlHy1woerZ0pPFHJTNcOmxfDUy6koFGquX7Tms8W+RN8sezWkLqheH4hJq2Jo/Xg2ji4l5GXLibhmwY6PXTh3uHonLBObij+34ptLhF+3LnPzq669dG9+lZ5aetJo0ymdQRNi8A3IRVLLCLtmxdcf+moTj7ups7PLnV4ZLw7T3PzKwbmE8KuWfDLXg5DztXeyqOj32mdECv3GpWBfr4S0ZFP++sGBrWtcKSmu3crZiuIyhLqIYU98+Tfh+2CiN/t2aJLL2ze/6tZHc/OrMwdtWD/Ls1IXZSVSMQf5hczMzFqpfb59nmgzaAly85p1uFYVFXD+u9m1FquxeyCSCrVajZ+fHwMHDmT58uVV+mxlkwpDuDupqAvlJRV14e6kok5iqGZSoW+VSSoMoSZJhSDUJoMlFa/rKanY+vAmFQ9En4q//vqL6Ohohg8fXtehCIIgCIJwDw9En4oePXrwAFSoCIIgCA8w8UCxmnsgkgpBEARBqHXi5lc1JpIKQRAEQUDUVOjDA9GnQhAEQRAE4ydqKgRBEAQBRPOHHoikQhAEQRD+9bA3X9SUaP4QBEEQBEEvRE2FIAiCIIDmYTk1vX3BQ377A5FUCIIgCAJi9Ic+iOYPQRAEQRD0QtRUGJCUn1/xQrUdQ1FRxQsZgFRSUtchGA2poLCuQxAEAcToDz0QSYUgCIIgADK15lXTdTzMRPOHIAiCIAh6IWoqBEEQBAFE84ceiKRCEARBEBCjP/RBJBWCIAiCAOI+FXog+lQIgiAIgqAXoqZCEARBEBDNH/ogkgpBEARBANFRUw9E84cgCIIgCHohaioEQRAEAdH8oQ8iqRAEQRAEEKM/9EAkFffw9clg3LyLy0z/dbMTH7/rpZcy+o +Lo3PPdLz88ykqMCH4nA1frfAmLsJSu8yKrcG0fCxb53O/b3Vh/Rw/7fvWnTJ5Y1Is9RvnUZAvZ/9P9dj8gTdqlaxScfR6PZFeAxNx9dI8gyLqpiVb13tz5rCDJoZvr9CyQ5ZuDN+7sn5eA+37Ri2yGTY1mobNc5AkuHHJho0rfYm4blXp7dH80WxeHZtEQIs8nFyLWTiyAcf32uss490wnxGz4mjRIRu5KUTftGDxmAakxJsDYKZQM3pOLF1eTMPMXOLsIVvWz/EhI9Ws0nFUVu+hqbw6LhlH5xLCgy35ZI4nIReUell380ezeXVMQum2GNWQ43sdtPMtlCqGz4ylY490bB1KSIxR8MsmV/74zkW7jLtPASNnx9DskRzMzNWcPWTHJ/N99botmnfIod/4FE2cbiUsGF6f43/a6W39lWFiIjF4SiJPv5KBg3Mxt5LM2LfDka1rXIDK/Qb0wRDHjKqozf2zIsa2LQTDMeqkQqVSsWDBAr799lsSExPx8PBg6NChzJkzB5msdg8Wbz/XCBN5acZZP7CA5dvDObLLXm9ltHg0m11bXLlxyQq5XGLotFiWfHOdMT1aUpgv1y63+3tntnxY+kMsLCjtCuMXmMuijSFs+8SDD6Y2oJ5rERPei8DEROLLZb6ViiM10ZxNH/gSF2mBTAbdX05m3obrTOjTiuhQzUFo9zZXtqz1LjcGC6WKxRuvceJvB9YvaIlcLvHGO9G891Uwbz7ZDlVJ5bruWCjVRARbsne7E/O+CC8z3923kFU/hrBnez22rPYgL0eOb6N8igpL94Ux82J49KlMlozzJzdbTtCiGOZ+HsaUvoGViqGyuryYzuj58Xw004vr55S8PCqFJVvDGfFEYzJv1fykbaFUEXFNyd4dzsz7PLTM/NFzY2jdKYv3J/qTFKug7ROZTHgvirQkM0785YDCUsWSb28Qcc2SmQMbA/DmlDgWbrzJxJeaIEn6+f1YKNWEX7Vgz/eOzP8qUi/rrKr+Qcm8MOQWH7zjQ1SIBQGt8pjyYQy52Sb8stHZYHEY4phRWbW9f1bEmLZFVYjmj5oz6qRixYoVbNiwga+//ppmzZpx5swZhg0bhp2dHW+//Xatlp2ZprtpBkxIJj7CnEvHK3/lXZG5w3RPdKun+bPtzDkCmudy5bStdnphgZz0VPNy1/HkC2lEhCjZ+pEm6UiIsuCr5T7MWn+T79Z5kZ8rL/dzdzr5t6PO+68/9KXX60kEts7WJhWFBSb3jMHbPx9bhxK2rPEhNVEBwHcfebPh94u4eBSSEG1Z7ufuduagHWcO3vsqd8i0OE4fsGPj0tIEKyFKof1baaOi54BbrHjbj4vHNNtv1dT6fHngKoFtcrh+3rpScVRG39Gp/LnVkb3bNdtu3QwvHn06i54D09ix3rXG6z9z0J4zB+3vOb9puxz++rEel05o/s/d37vw/KAUGrfO5cRfDjRrn4OrVyETnm9GXo5mH/hgih//u3Se1p2yOP+PfmoTzhyw5cwB24oXrEVN2+dyfI8dp/Zr4kiKNafbSxk0bp1n0DgMccyorNrePytiTNuiSsTojxoz6tEfx44do0+ fPvTq1Yv69evz6quv0qNHD06dOmXQOEzN1Dz1Sjp7tjlSm9WpShsVANmZuj/Ibi+msu3MWTbsvsTQadEoLFTaeWbmaooKdb/GwkITFBYSDZvnVjkGExOJLr1SsVCquH7B5o4YUth28hQbfj/P0ClROjHERliSmWZKz35JmJqpMVeo6NkvmehQS5LiLKocQ3lkMolHn8okLtyCJVtusu3cRdb8co2OPTK0ywS0yMXMXOL80dK4Y8MsSIo1p0nbqm+LezE1UxPQMo9zR0rLkSQZ54/Y0LSdYU5kwWeteax7Ok6uRYBEy45ZePoVcPawJlkwM5dAguKi0v21uNAESQ3NHskxSIyGEnzGitaPZ+Ppr2m+82+aT7NHczn9d90lO4Y6Ztyr7LreP++Op662hWB4Rl1T0alTJz7//HNu3LhBo0aNuHjxIkePHmX16tX3/ExhYSGFhYXa91lZWfdcttJxPJuFta2KvTscK164mmQyiTFzo7h6xpqoG6Xtngd/rUdSnDlpyeb4BeYxfHo0Xv4FvDeuEQDnDtvx0rBEuvRO5cjvTjg4F/P6W3EAOLoUVbr8+o1yWb3jMuYKNfl5chaPD9TWUhzcVY+kOEVpDNOi8PLP570gTU1Lfq6cGYObMW9DCAODYgGIj7RkzvAmle7XURH7eiUordX0H5/I1+97sHGZJ+27ZjH38zBmDGjE5ZM2ODiXUFQoIzdLd7fOSDXFwaVs+2512TqqkJtCRopuOemppng3LLzHp/Rrw3wf3l4WyXenLlJSLEOthrUz63PllOZEcv28FQV5cobPjGXzSk+QwfCZschNwVGP28IYbF/vgtJGxZeHr6NWgYkcNi9348BOh4o/XEsMccy4F2PYP+9Ul9uiqkTzR80ZdVIxc+ZMsrKyCAwMRC6Xo1KpWLJkCYMGDbrnZ5YtW8bChQv1GkfPgbc4fcCWtKTaa4sMWhRJ/UZ5TO3fVGf67m2lHe8iQ5SkJZux/LvruPsUkBBtwbmj9mxc7sNb70UybVUYxUUmbF3vSYtHs5HUlT+hx0ZYEvRiK6xsVDz+ 7C2mrLzJ9EHNiQ5Vsnu7W2kMN6xISzZn+Zar2hjMFSomLgsj+KwNKyYFYCKHV0bEsfCLa7zTtyVFhRU3wVREZqL5pR7fa8fOjZrq2/BgJU3b5dBrcAqXT9rc7+P/OS8OTaJJm1zmDw8gOc6c5h2yCVqs6VNx/h87MtPMWDK+AROWRNFnWBKSGg7+6sTNy0rU6rqOXr+efDGDp/pmsDxI06eiQbN8xi6M51aSGX/9UDcnMkMcMx4UD9S2UEuaV03X8RAz6qRix44dfPfdd2zdupVmzZpx4cIFJk6ciIeHB0OGDCn3M7NmzWLy5Mna91lZWXh7e5e7bGW4eBbR5okcFo+sX+11VGTcgkge7ZbBtNeaaPsk3Mv1C5p+Ae6+mhM6wM6N7uzc6IajSzE5maa4ehUyfHoMiTH3X9edSopNtH0fQq9a06hFDn2GJPDR3AZllr1+8d8YfPJJiLaga+9UXD0LmdyvhbYD4IrJjfjhzCk6dk/n0O/1Kh3HvWSlmVJSDNE3dftnRIdaaKvz01NMMVdIWNmW6NRW2NcrIT1Zfwe0rDQ5qhKwdy7Rme5Qr4T0lNr/SZkr1AydFsfiMQ059bc9ABHXlTRomscroxO1/SXOHbFj+JMtsXUoRqXS1OBsPX2exBjjv2KsilFzE9i+3oVDv2hqJiKvW+LiVcxrbyXXSVJhiGPG/dT1/nmnut4WVSb6VNSYUfepmDZtGjNnzuS1116jRYsWvPHGG0yaNIlly5bd8zMKhQJbW1udV030eC2NjFRTTv5VG+2zEuMWRNKpRxozBzchKbbi/gcNmmraRNNS7u40KSMt2ZyiQhO69r5Fcrw5oVeq3ylKZiJhZl7+JW2DJrk6MVhYqpHUusOz1WoZklRaw1BTJcUm3LhohVeDAp3pnn6FJMdq4rh52YriIhmtO5cOwfXyL8DVq4hr5/ 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 +JOdXHsSks2Lfu7vKkwyO9SqFtGnVQAbNmyBUmS8PT0RKFQsG7dOgYOHIiJSfmhKxQKbG1tdV76YKFU4eFbpNcDsr4orVUs3RpKcbGM+cMaUFxY1a9VYvzCSDr1SGfGoECSYivuUCWTATId/M793tmgQz8+pl7gpLNdJdq1erZMj+/fdKik24cdEKrwa6Vcue/gUkx9XmSV4iaEksnZ7NZHq/BkbZAe3mZSXFRTLaPJ6tneblX4CrVxHXzumnMylovoObl5Q65chkEq0fzyH4bN0OHZTJqr/vVYexbou6OHYFn7bCu8zvsrCWf5d6cLujZk1fDzHjO0PepUGDBhw6dIjc3FyysrJwd3dnwIAB+PtXbrhkdY2aF8+JvbYkx5rj5FbMG1MTUanh4E4HvZZjoVThUb/0x+fmXYh/0zyyM0xJiTfHxr4EZ48inNyKAfBuoOm0mJ5iRnqK2b8JxU0UlmpWvt0ApY1K29Ey85YpanXFNRZBi6Lo1ucWC0cHkJ9jgkM9zdVEbrYpRYUmuHkX0OWFNM4esSMzzZR6bkUMGJdAUYGMUwftAXikawb29Yq5ccmKglzNsM4Rs6K5etqapLjqnXRP7LPjtbcTSY4zJ+qGBQ2a59N3dDJ7t5dW4f7wqSvvfhLBlZPWXDxmTfuuWTzWPZNp/RpVq8zKmLA0jm4vp7NgmJ9mezlrvpvcbDlFBfrJ02u6X+Rly9mzzYnR8+LIzjDVDCldHEPwGSu9jvwA+OnzekxdE8ONi0pCzmuGUVoo1ezdZrhq7mGzEjj9tw0pceZYWqvo9nIGLTvlMPv12j1O3M0YtoWhjl3389Pnznz4601eeyuJw7vsadwmj+cHp7FmmlfFH65LYvRHjckk6cHaAunp6fj5+bFy5UpGjx5d4fJZWVnY2dnRlT6Yyio/xGrWhihadMjBxkFF5i1Trp62YvNyt5oNVzQp20mqZcds3v/hZpnpe3c4smpyfZ7pd4upH0aVmb9ltRvfrva45+cB3nysWZlaB5lZ2Tzyz4hT5X5+1VQ/9v3ojKNLEROXRxDQIhdrWxUZqWZcPmXD1o88tDe/avlYFkOnxuITkI+ZuZqUBHP++dORHRvcyc0uW6ZUXHFnQUsrFUOmxdPp2Uzs62lufnXwF0e+W+Om00G0x4BUXpuQRD33ImLDLNiyyp3je+0rXD9qVcXLlGNP/MVyp38w0Zt9O6px8qiF/QJKb37V7SXNza/OHLJh/bs+9x5qWM3tAfDiMM0NnxycSwi/askncz0IOW+4kReTVsXQ+vFsHF1KyMuWE3HNgh0fu3DucO33q7lbXW+LWjl2VUOH7lkMm5WAp18hiTHm/PSZM7u3Vq9PR4lUzEF+ITMzU2+1z3e6fZ54uulUTOU1204lqkL2B39Qa7EaO6NPKvbs2YMkSTRu3JjQ0FCmTZuGhYUFR44cwcys4iShuklFrSjn5GFo5SUVdaEySUWtq8FJVK+MYL8AjGd7CMJdDJZUNJmin6Ti2qqHNqkwjjPMfWRmZjJr1ixiY2NxdHTklVdeYcmSJZVKKARBEASh0sSQ0hoz+qSif//+9O /fv67DEARBEP7jxJDSmjP60R+CIAiCIDwYjL6mQhAEQRAMQoz+qDGRVAiCIAgCgFoCWQ2TAvXDnVSI5g9BEARBEPRC1FQIgiAIAojmDz0QSYUgCIIgAKCP22w/3EmFaP4QBEEQBEEvRE2FIAiCIIBo/tADkVQIgiAIAvw7ckOM/qgJkVQYkImlRV2HYDzP/pAVVrxQLVMXGMezLozmOyk0ju0hGBlZTe9brQ+yh72rwgPDOI5mgiAIglDXJLXmVdN1PMREUiEIgiAIIPpU6IFIKgRBEAQBRJ8KPRBDSgVBEARB0AtRUyEIgiAIIJo/9EAkFYIgCIIAmpaPGicVeonkgSWaPwRBEARB0AtRUyEIgiAIIJo/9EAkFYIgCIIAoFYDNbzPhPrhvk+FaP4QBEEQBEEvRE2FIAiCIIBo/tADkVT8q3mHHPqNTyGgRR5ObiUsGF6f43/aASA3lRg6I4FHnsrG3beI3CwTzh+xYeNSd9KSzKpdZq/XE+k1MBFXL81zMKJuWrJ1vTdnDjsA8NbiMNp0ysDRpZiCPBOCz9nw1fu+xIYrtevYffNYmfUun9iIQ7/Xq1ZM/UZGM2xyJD9/48nnyxto1rf5Ii0fzdRZ7o/t7qxfGABA95cSmbz0RrnrG/j4Y2SmmVdYbv9xcXTumY6Xfz5FBf/+ryu8iYuw1C6zYmswLR/L1vnc71tdWD/HT/t+7LxImrbLpn6jfKLDLJnwQovK/eNVcL99RV8GjIvXbI8Gt7eHNV+t8CY2vHR7mJmrGT0nmi4v3MLMXOLsYTvWz6tPRqpmn3zmlRSmfBBR/vrbtyHzVvX3Xe16JiTR+flMvBsWauI8o2TjEndiwwz7nBsnt2JGzI7nkW7ZKCzVxEcqWDXJm5uXlBV/WI8MsW9UVu +hqbw6LhlH5xLCgy35ZI4nIRdqZ3t8feIqbt7FZab/urkeH8/2wkyhZvS8eLr2Sdfsqwdt+OhdL+2+ajREUlFjdZpUHD58mPfff5+zZ8+SkJDAzp07eemll7TzJUli/vz5fPHFF2RkZNC5c2c2bNhAQECA3mOxUKoJv2rBnu8dmf9VpM48haWahi3y2brGlfBgC6ztVIxbFM/CzRG89VyjapeZmmjOpg98iYu0QCaD7i8nM2/DdSb0aUV0qJLQK1Yc+LUeyfEKbOxKGPx2DEs2BTOsWzvU6tKH/Kya0ZCzh+2173Oyqve1BjTP5rn+CYRftyozb/cON75dX1/7viC/tOXs8G5nzh511Fl+0pIQzBXqSiUUAC0ezWbXFlduXLJCLpcYOi2WJd9cZ0yPlhTmy0vj+N6ZLR96ad8XFpRtwdv7P2cat8rFLzCvUmVX1f32FX1p0SGbXVtcuHHJChNTGDY1hiXfhDD6mRba7TFmbjSPdstgSVAAudlyghZGMnfDTab0awrAod+cOHNI94Q25YMIzfeih4QCoGXHXHZtrseNC0pN8j0zgaXfhzOqS2Od7602WduVsPqXm1w6Zs2cwf5k3JLj6V9ETqZhyr+TIfaNyujyYjqj58fz0Uwvrp9T8vKoFJZsDWfEE4319t3f6e3nG2MiLz2Z1g8sYPm2MI78ptn/xi6I49Gns3hvTH1ys+QELYll3peRTH5J/8dyoW7VaVKRm5tLq1atGD58OH379i0zf+XKlaxbt46vv/4aPz8/5s6dS8+ePQkODsbCQr9XQmcO2HLmgG258/Ky5cx6rYHOtI9ne/LR7ps4exaREle5E+fdTv6teyL++kNfer2eRGDrbKJDleze7qadlxwHX3/ow4bfLuLqVUhCdOn/n5slJz21ejHcZqFUMX3lddbNb8RrY6LLzC8suHcZRYVyigpLD +C2DkW0eiyDtXMqn3DNHRao8371NH+2nTlHQPNcrpwu/V7uFwfAp4vqA2DnGFtrScX99hV9mTO0sc77VdP82X72PAEtcrlyyhalTQk9+6ewYmIDLh631S7z5f7LBLbO4foFa4oKTSgqLN1ZFujWdo7+unFO9GHHlasEtMznyklrvZVzP/2DkkmNN2fVJB/ttKQYhUHKvpsh9o3K6Ds6lT+3OrJ3u+YYs26GF48+nUXPgWnsWO+q9/Iy03RPJQMmJBEfYc6l49YobVT0fC2N5RN8ufiPDQCrJ/nw5eHrBLbN5fq5shcxdUbcprvG6rSj5nPPPcd7773Hyy+/XGaeJEmsWbOGOXPm0KdPH1q2bMk333xDfHw8P//8s+GDvYuVrQq1GnL1dDVkYiLRpVcqFkoV1y/YlJmvsFTR45VkEmIUpCTonlTHz49g28lTrPnfJXq8mkR1fhTj59zk1CFHLhx3KHd+txeS+f6fY3zyyxmGTopAYXHvx2Q/3SeZwnwTju6tXhMMgNJGs/7sTN2DVbcXU9l25iwbdl9i6LTo+8bxX6LdHhma7RHQPA8zc4nzR0tPYLHhliTFmdOkbU6563i6byqFBSYc+cOx3Pn6YGV7O07D1RI81iOLGxctmf1ZJNsvXeXjvSE89/otg5VvbEzN1AS0zOPckdLjiCTJOH/EhqbtaifRvrv8p/qms2e7EyAjoOW/++qR0iQzJsyCpFgzmrTLrfV4qkKS1Hp5PcyMtk9FREQEiYmJdO/ eXTvNzs6ODh06cPz4cV577bVyP1dYWEhhYaH2fVZWlt5jM1OoGTE7gYM/25OXU7ODZ/1GuazecRlzhZr8PDmLxwcSHVra7tnr9QRGTI/C0kpNTJgls4c2o6S4NBf8Zo03F4/bUVhgQtvHMwhaEI6FUs2v37hXOoYnn0umYdMc3unfttz5B393ITleQVqygvqNcxg+OQLP+nkseadZucv3fCWRg7+76NReVIVMJjFmbhRXz1gTdaN0Wxz8tR5JceakJZvjF5jH8OnRePkX8N646jdBPQhkMomxc6O4erp0ezg4F1FUKCM3W/cnnJFqhoNz2bZtgJ79UzjwixNFhbVzLSGTSYxdGMeVU0qiQiwr/oCeuPsU8cKbt/jpc2e2feRCo1b5jFscR3GxjL9+qL0EyljZOqqQm0JGiu6+kZ5qinfDwnt8Sn86PZuJta2KvTs0297RuUSzr97VLJuRYoajc0mtx1MlklTzmgbRp8I4JSYmAuDqqltV5+rqqp1XnmXLlrFw4cJai0tuKjH7syiQwUczvSr+QAViIywJerEVVjYqHn/2FlNW3mT6oObaxOLAr86c/8ceR5ciXhkRz6y1IUwZ0ILiIs2J4fuPvbXrCgu2xsJSzasj4yqdVNRzK2DMrDBmjyxd593+/KF0XZE3rUhPMWfZpsu4eeeTGKN78ghslYVPgzw+mNH47tVUWtCiSOo3ymNq/6Y603dvcymNI0RJWrIZy7+7jrtPgU5z0H9N0KIo6jfO1/aVqI4mbbLxDSjg/ckNKl64miYsjcM3sIApLzWstTLKIzOBm5cs2bRcs5+GXVFSP7CAXm/ceiiTirrW87U0Th+wrVEnduHB9Z+7T8WsWbPIzMzUvmJiYvS2bk1CEYmrZxGzXvOvcS0FQEmxCQnRloRetWbzKl/Cr1nRZ0iCdn5ejinxUZZcOW3Hkrca4+2fT6ce967avX7RGmf3IszMK1cFF9AsB4d6xXz0v3PsunSYXZcO0/LRTF4cHMeuS4cxMSmbdV+/pKly9/DJLzOv56sJhF2zIjS4bBNOZYxbEMmj3TKY8XoTUhPv3y5+/ YKmOtXdt6BaZT0Ixi+MpMNTGUwf2ITUxNJmr/QUc8wVElY2uld69vWKSU8pezB/dkAKoVc1nX9rQ9CSWDo8k8X0VxuQmlCz/j1VlZZsStQN3aQy5qYCF88ig8ZhLLLS5KhKwP6uWgCHeiWkp9TudaSLZxFtnsjmz61O2mlpKaaafdX2rn3VuZi0Wo6nym6P/qjp6yFmZN9oKTc3TSfFpKQk3N1Lr5STkpJo3br1PT+nUChQKPTfSet2QuHpV8T0VxuQnV47m05mIt0zIZDJABmYmd97p23QJI/sDNN71jrc7cJxe8a92E5n2qQlIcRGKPnhS2+dUSbaMgI1bfZpKbonDwuliieeTWXzh/UrVbYuiXELoujUI40ZrzclKbbimocGTfPKjeO/QWL8wig69Uhn+sAmJMXq7tM3rygpLpLRunMW//ypuRr38s/H1bOIa+d0O0haKFU80SuNTe97o38SQUvi6PRsJtNebVgnHSSDT1vh3UC3Wt/Tv5DkanagftCVFJtw85KSNo9na4ezymQSrR/P4dfNThV8umZ6DLhFRqopJ/eX9vW5eUmzr7Z5PIejf9gD4NWgAFevYq6dNaJOmqC5G6ashn0iRJ8K4+Tn54ebmxv79+/XJhFZWVmcPHmScePG6b08C6UKD7/SKxs37yL8m+WTnSEnLcmMuV9E0rBFPvPe9MNELmnbrbMz5Dp9HKpi6JQozhy2JzlegdJKRdfeqbTskMWc4U1x8y7gyedTOXfUnsw0M+q5FdJ/TBxFBSacPmgPQIen0rB3Ktb29G/7eCYDxsby40aPSseQn2dKVKjublCQLycrw4yoUCvcvPPp1iuZ04cdycoww69xLqNnhHH5tB2RN3RPXk8+m4xcLnFgV9V7lwctiqTri7dYNLoR+TkmONTTfBe52aYUFZrg7lNA1xdvcfqgPVnppvgF5jFmThSXT9oQeb2034W7bwGWShUOzsUoLNT4N9F0BIsOtaz293S3++0r1R0JdLegRVF063OLhaMDyt0eedmm7NnhzOg50WRnmJKXI2f8giiCz1pra3Bu6/JCGnJTib936v+EMmFpHN1eTmfBMD9NnP/+LnKz5RSVM9y3Nvz0uTMf/nqT195K4vAuexq3yeP5wWmsmVbz5smqMsS+URk/fV6PqWtiuHFRSch5zZBSC6WavdtqrzlIJpPoMSCNv35wRK0qvRjJy5azZ5sjo+fHkZ0h1wx/fi+W4DNK4xr5IehFnSYVOTk5hIaGat9HRERw4cIFHB0d8fHxYeLEibz33nsEBARoh5R6eHjo3MtCXxq1yuf9H8O078cujAdg73YHvl3lRseemg6fG/7SvcnTtFcacOl49YbO2TsVM3VlKI4uReRmy4m4bsWc4U21fSiat8/ipaEJWNuWkHHLjCunbZk8oIX23g8lxTJ6D05k9Lv5yGQQH23B58vq8+d2/Q0ZKymW0bpjBn3ejMPCUkVKooJ/9tXj+099yizb45Ukjv3lVKbzYGW8MDgZgJXbrulMXzXNn79+dKa4WEabzpm8NCwRC6WKlARzjv7pyLaPdROoicvCdW6Q9fHvVwAY8kRrkuP0cxV9v33lzmGNNdH7Dc32eH/bdZ3pq6b6se9HZwA+W+yDJMHcDTdLb34117fMunr2T+GfPx2r9b1UGOdQTVPcBz+F6Uz/ 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 G3NycIUOGGCyOO/38889kZGQwdOhQg5Y7c+ZMsrKyCAwMRC6Xo1KpWLJkCYMGDTJoHDY2NnTs2JHFixfTpEkTXF1d+f777zl+/DgNGzY0aCwAiYmJAOUeS2/PE/47RFIhVFlQUBBXrlypk6uexo0bc+HCBTIzM/nf//7HkCFDOHTokMESi5iYGN555x327dtn8Cca3unOq9+WLVvSoUMHfH192bFjByNGjDBYHGq1mvbt27N06VIA2rRpw5UrV/j000/rLKnYuHEjzz33XK09JvteduzYwXfffcfWrVtp1qwZFy5cYOLEiXh4eBh8W2zZsoXhw4fj6emJXC6nbdu2DBw4kLNnzxo0DuHhI5o/7uG/+EhafZgwYQK//fYbBw4c0Nsj5avC3Nychg0b0q5dO5YtW0arVq1Yu3atwco/e/YsycnJtG3bFlNTU0xNTTl06BDr1q3D1NQUlUplsFjuZG9vT6NGjQgNDTVoue7u7mUSuiZNmtRJUwxAVFQUf/31FyNHjjR42dOmTWPmzJm89tprtGjRgjfeeINJkyaxbNkyg8fSoEEDDh06RE5ODjExMZw6dYri4mL8/f0NHsvt46U4lj4cRFJxD//FR9LWhCRJTJgwgZ07d/L333/j5+dX1yEBmu+ ksLDQYOU9/fTTXL58mQsXLmhf7du3Z9CgQVy4cAG5XG6wWO6Uk5NDWFgY7u7uBi23c+fOZYYW37hxA19fX4PGcdumTZtwcXGhV69eBi87Ly8PExPdQ6pcLketVhs8ltusrKxwd3cnPT2dPXv20KdPH4PH4Ofnh5ubm86xNCsri5MnTz6Ux9L/OtH8cR/G8EjanJwcnavPiIgILly4gKOjIz4+PgaLIygoiK1bt/LLL79gY2OjbQu1s7PD0tLSIDHMmjWL5557Dh8fH7Kzs9m6dSsHDx5kz549BikfNO3Vd/cjsbKywsnJyaD9SPjw/NmjXj/PnzrF69muHDhxs8lj179iBJEo0bNyY0NJRp06YRGBhYa8euio5TEydO5L333iMgIAA/Pz/mzp2Lh4cHL730Uq3EI9Shuh5+Yuw++ugjycfHRzI3N5ceffRR6cSJEwYt/8CBAxJQ5jVkyBCDxlFeDIC0adMmg8UwfPhwydfXVzI3N5ecnZ2lp59+Wtq7d6/Byr+XuhhSOmDAAMnd3V0yNzeXPD09pQEDBkihoaEGjeG2Xbt2Sc2bN5cUCoUUGBgoff7553USx549eyRACgkJqZPys7KypHfeeUfy8fGRLCwsJH9/f2n27NlSYWGhwWPZvn275O/vL5mbm0tubm5SUFCQlJGRUWvlVXScUqvV0ty5cyVXV1dJoVBITz/9dJ19T0LtEo8+FwRBEARBL0SfCkEQBEEQ9EIkFYIgCIIg6IVIKgRBEARB0AuRVAiCIAiCoBciqRAEQRAEQS9EUiEIgiAIgl6IpEIQBEEQBL0QSYUgCIIgCHohkgpBMIChQ4fq3JK4a9euTJw40eBxHDx4EJlMRkZGxj2Xkclk/Pzzz5Ve54IFC2jdunWN4oqMjEQmk3HhwoUarUcQhLolkgrhoTV06FBkMhkymUz79NNFixZRUlJS62X/9NNPLF68uFLLViYREARBMAbigWLCQ+3ZZ59l06ZNFBYW8scffxAUFISZmRmzZs0qs2xRURHm5uZ6KdfR0VEv6xEEQTAmoqZCeKgpFArc3Nzw9fVl3LhxdO/enV9//RUobbJYsmQJHh4eNG7cGICYmBj69++Pvb09jo6O9OnTh8jISO06VSoVkydPxt7eHicnJ6ZPn87dj9i5u/mjsLCQGTNm4O3tjUKhoGHDhmzcuJHIyEi6desGgIODAzKZjKFDhwKap3IuW7YMPz8/LC0tadWqFf/73/90yvnjjz9o1KgRlpaWdOvWTSfOypoxYwaNGjVCqVTi7+/P3LlzKS4uLrPcZ599hre3N0qlkv79+5OZmakz/8svv6RJkyZYWFgQGBjIJ598UuVYBEEwbiKpEIQ7WFpaUlRUpH2/f/9+QkJC2LdvH7/99hvFxcX07NkTGxsbjhw5wj///IO1tTXPPvus9nOrVq1i8+bNfPXVVxw9epS0tDR27tx533LffPNNvv/+e9atW8e1a9f47LPPsLa2xtvbmx9//BGAkJAQEhISWLt2LQDLli3jm2++4dNPP+Xq1atMmjSJwYMHc+jQIUCT/PTt25fevXtz4cIFRo4cycyZM6u8TWxsbNi8eTPBwcGsXbuWL774gg8//FBnmdDQUHbs2MGuXbv4888/OX/+POPHj9fO /+6775g3bx5Llizh2rVrLF26lLlz5/L1119XOR5BEIxYHT8lVRDqzJAhQ6Q+ffpIkqR5NPO+ffskhUIhTZ06VTvf1dVV59HVW7ZskRo3biyp1WrttMLCQsnS0lLas2ePJEmS5O7uLq1cuVI7v7i4WPLy8tKWJUm6j0sPCQmRAGnfvn3lxnn7sdLp6enaaQUFBZJSqZSOHTums+yIESOkgQMHSpIkSbNmzZKaNm2qM3/GjBll1nU3QNq5c+c957///vtSu3bttO/nz58vyeVyKTY2Vjtt9+7dkomJiZSQkCBJkiQ1aNBA2rp1q856Fi9eLHXs2FGSJEmKiIiQAOn8+fP3LFcQBOMn+lQID7XffvsNa2triouLUavVvP766yxYsEA7v0WLFjr9KC5evEhoaCg2NjY66ykoKCAsLIzMzEwSEhLo0KGDdp6pqSnt27cv0wRy24ULF5DL5XTp0qXScYeGhpKXl8czzzyjM72oqIg2bdoAcO3aNZ04ADp27FjpMm7bvn0769atIywsjJycHEpKSrC1tdVZxsfHB09PT51y1Go1ISEh2NjYEBYWxogRIxg1apR2mZKSEuzs7KocjyAIxkskFcJDrVu3bmzYsAFzc3M8PDwwNdX9SVhZWem8z8nJoV27dnz33Xdl1uXs7FytGCwtLav8mZycHAB+//13nZM5aPqJ6Mvx48cZNGgQCxcupGfPntjZ2bFt2zZWrVpV5Vi/+OKLMkmOXC7XW6yCINQ9kVQIDzUrKysaNmxY6eXbtm3L9u3bcXFxKXO1fpu7uzsnT57kySefBDRX5GfPnqVt27blLt+iRQvUajWHDh2ie/fuZebfrilRqVTaaU2bNkWhUBAdHX3PGo4mTZpoO53eduLEiYr/yTscO3YMX19fZs+erZ0WFRVVZrno6Gji4+Px8PDQlmNiYkLjxo1xdXXFw8OD8PBwBg0aVKXyBUF4sIiOmoJQBYMGDaJevXr06dOHI0eOEBERwcGDB3n77beJjY0F4J133mH58uX8/PPPXL9+nfHjx9/3HhP169dnyJAhDB8+nJ9//lm7zh07dgDg6+uLTCbjt99+IyUlhZycHGxsbJg6dSqTJk3i66+/JiwsjHPnzvHRRx9pOz+OHTuWmzdvMm3aNEJCQti6dSubN2+u0v8bEBBAdHQ027ZtIywsjHXr1pXb6dTCwoIhQ4Zw8eJFjhw5wttvv03//v1xc3MDYOHChSxbtox169Zx48YNLl++zKZNm1i9enWV4hEEwbiJpEIQqkCpVHL48GF8fHzo27cvTZo0YcSIERQUFGhrLqZMmcIbb7zBkCFD6NixIzY2Nrz88sv3Xe+GDRt49dVXGT9+PIGBgYwaNYrc3FwAPD09WbhwITNnzsTV1ZUJEyYAsHjxYubOncuyZcto0qQJzz77LL///jt+fn6App/Djz/+yM8//0yrVq349NNPWbp0aZX+3xdffJFJkyYxYcIEWrduzbFjx5g7d26Z5Ro2bEjfvn15/vnn6dGjBy1bttQZMjpy5Ei+/PJLNm3aRIsWLejSpQubN2/WxioIwn+DTLpX7zFBEARBEIQqEDUVgiAIgiDohUgqBEEQBEHQC5FUCIIgCIKgFyKpEARBEARBL0RSIQiCIAiCXoikQhAEQRAEvRBJhSAIgiAIeiGSCkEQBEEQ9EIkFYIgCIIg6IVIKgRBEARB0AuRVAiCIAiCoBf/B+Rz9qGcYapXAAAAAElFTkSuQmCC\n"
          },
          "metadados": {}
        }
      ]
    },
    {
      "cell_type": "remarcação",
      "fonte": [
        "**Conclusões.**\n",
        "Usando o Random Forest no conjunto de dados, vemos que tem um desempenho bom na previsão de curtos períodos de permanência e, na verdade, prevê todos os valores que viram no conjunto de dados, embora seja tendencioso para estadias curtas. \n",
        "Seria interessante observar e conhecer melhor os dados e o significado de cada coluna de dados, além de saber como foram coletados. Também resulta importante entender a necessidade de precisão e qual é a mais importante (para alguns períodos de permanência do que para outros). "
      ],
      "metadados": {
        "id": "UdN24rxfOosS"
      }
    }
  ]
}
